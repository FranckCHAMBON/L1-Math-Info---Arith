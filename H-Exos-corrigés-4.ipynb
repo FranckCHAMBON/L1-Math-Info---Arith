{
 "cells": [
  {
   "cell_type": "markdown",
   "metadata": {
    "collapsed": false
   },
   "source": [
    "![logo](images/logo.svg)\n",
    "\n",
    "![Big DATA](images/data.jpg)"
   ]
  },
  {
   "cell_type": "markdown",
   "metadata": {
    "collapsed": false
   },
   "source": [
    "---\n",
    "## 1.  SPOJ [Sum](http://www.spoj.com/problems/UCBINTA/)\n",
    "Rappel : en anglais _positive_ signifie strictement positif.\n",
    "\n",
    "* Ainsi $\\binom{0\\;2}{2\\;0}$ n'a qu'une seule solution : $(1,\\;1)$; les solutions telles que $(3,\\;-1)$ sont refusées. Les éléments de $A$ étant dans $\\mathbb{N}^*$.\n",
    "\n",
    "    * De même $\\binom{0\\;1}{1\\;0}$ n'a aucune solution.\n",
    "\n",
    "    * De plus $\\binom{0\\;n}{n\\;0}$, pour $n>2$ ayant plusieurs solutions telles que $(n-1,\\;1)$ ou $(1,\\;n-1)$ (car ici $n-1\\neq 1$), on a la garantie de l'énoncé qu'un tel cas est absent des fichiers tests.\n",
    "\n",
    "* Le cas de taille $3$ n'a qu'une seule solution, il suffit de résoudre un système linéaire de taille $3\\times 3$. _Relire votre cours d'algèbre._\n",
    "\n",
    "    * $\\left(\n",
    "\\begin{matrix}\n",
    "0 & a & b \\\\\n",
    "a & 0 & c \\\\\n",
    "b & c & 0\n",
    "\\end{matrix}\\right)$ donne pour solution $\\left(\\dfrac{a+b-c}{2}, \\;\\dfrac{a-b+c}{2}, \\;\\dfrac{-a+b+c}{2}\\right)$. L'énoncé garantit que cette solution est entière.\n",
    "\n",
    "* Le cas de taille supérieure à $3$ se résout en se focalisant dans un premier temps sur le coin $3\\times3$ supérieur gauche ; ce qui nous donne les trois premières valeurs de la solution.\n",
    "    * Ensuite, il suffit de lire la première ligne pour tout résoudre. $S(1, j) = A[1] + A [j]$ pour $j>1$, avec $A[1]$ et $S(1, j)$ connus."
   ]
  },
  {
   "cell_type": "code",
   "execution_count": 2,
   "metadata": {
    "collapsed": false
   },
   "outputs": [
    {
     "name": "stdout",
     "output_type": "stream",
     "text": [
      "4\n",
      "0 3 6 7\n",
      "3 0 5 6\n",
      "6 5 0 9\n",
      "2 1 4 "
     ]
    }
   ],
   "source": [
    "def main():\n",
    "    N = int(input())\n",
    "    if N == 2:\n",
    "        print(\"1 1\")\n",
    "        return\n",
    "    L1 = list(map(int, input().split()))\n",
    "    L2 = list(map(int, input().split()))\n",
    "    L3 = list(map(int, input().split()))\n",
    "    a = L1[1] ; b = L1[2]\n",
    "    c = L2[2]\n",
    "    #assert (a == L2[0]) and (b == L3[0]) and (c == L3[1])\n",
    "    A1 = (+a+b-c)//2\n",
    "    A2 = (+a-b+c)//2\n",
    "    A3 = (-a+b+c)//2\n",
    "    print(A1, A2, A3, end = \" \")\n",
    "    for x in L1[3:]:\n",
    "        print(x-A1, end=\" \")\n",
    "main()\n"
   ]
  },
  {
   "cell_type": "markdown",
   "metadata": {
    "collapsed": false
   },
   "source": [
    "---\n",
    "## 2. Factorisation groupée\n",
    "**Un problème indispensable** : ici on jette les bases d'une méthode pour factoriser très rapidement une grande quantité de 'petits' nombres.\n",
    "\n",
    "Construire la liste ```factorMini``` **indexée à zéro**, de longueur un million, telle que :\n",
    "* ```factorMini[0] = 0```, inutilisé ;\n",
    "* ```factorMini[1] = 1``` ;\n",
    "* ```factorMini[n] = p```, où $p$ est le plus petit facteur premier de $n>1$.\n",
    "\n",
    "Cette [liste](https://oeis.org/A020639) commence donc par : ```[0, 1, 2, 3, 2, 5, 2, 7, 2, 3, ...```\n",
    "\n",
    "Par exemple, en 9<sup>ème</sup> position, $9$ est composé et son plus petit facteur premier est $3$. \n",
    "\n",
    "---\n",
    "\n",
    "**Conseil :** s'inspirer du crible d'Ératosthène. Voici des pistes.\n",
    "\n",
    "L'objectif ici n'est pas de factoriser un nombre, mais de nombreux. Dans ce cas, l'utilisation d'une liste est très utile.\n",
    "\n",
    "* On initialise une liste $u_n = n$.\n",
    "* On itère sur les premiers termes, et si $u_p$ est resté à $p$, c'est qu'il est premier, dans ce cas, chacun de ses multiples est à traiter :\n",
    "    * ou bien, il avait déjà un facteur premier signalé, on le laisse,\n",
    "    * ou bien, on indique que $p$ est le plus petit facteur premier de cet entier. "
   ]
  },
  {
   "cell_type": "code",
   "execution_count": 1,
   "metadata": {
    "collapsed": false
   },
   "outputs": [
    {
     "name": "stdout",
     "output_type": "stream",
     "text": [
      "[0, 1, 2, 3, 2, 5, 2, 7, 2, 3, 2, 11, 2, 13, 2, 3, 2, 17, 2, 19]\n"
     ]
    }
   ],
   "source": [
    "LIM = 10**6\n",
    "lim = 10**3 # la racine carrée de LIM\n",
    "factorMini = list(range(LIM))\n",
    "for p in range(2, lim):\n",
    "    if factorMini[p] == p:\n",
    "        # alors p est premier\n",
    "        for x in range(2*p, LIM, p):\n",
    "            # x est ici un multiple de p\n",
    "            if factorMini[x] == x:\n",
    "                # x n'avait jamais été modifié\n",
    "                factorMini[x] = p\n",
    "            # else: on ne fait rien !!!!!\n",
    "\n",
    "print(factorMini[:20])\n",
    "    "
   ]
  },
  {
   "cell_type": "markdown",
   "metadata": {
    "collapsed": false
   },
   "source": [
    "---\n",
    "## 3. SPOJ [Divisor Summation](http://www.spoj.com/problems/DIVSUM/)\n",
    "_Given a natural number $n$ ($1 \\leqslant n \\leqslant 500\\,000$), please output the summation of all its proper divisors._\n",
    "\n",
    "_**Definition**: A proper divisor of a natural number is the divisor that is strictly less than the number._\n",
    "\n",
    "---\n",
    "On utilise ici l'exercice précédent afin de factoriser très rapidement tous les entiers dans l'intervalle de recherche ; on applique alors la formule de la somme des diviseurs via la décomposition en facteurs premiers. On n'oublie pas d'oter le nombre de départ.\n",
    "\n",
    "On obtient une solution simple, parmi les plus rapides (en Python). Pour être plus rapide, il faut surtout changer de méthode pour lire/écrire sur l'entrée standard."
   ]
  },
  {
   "cell_type": "code",
   "execution_count": 2,
   "metadata": {
    "collapsed": true
   },
   "outputs": [
    {
     "name": "stdout",
     "output_type": "stream",
     "text": [
      "3\n",
      "2\n",
      "1\n",
      "10\n",
      "8\n",
      "20\n",
      "22\n"
     ]
    }
   ],
   "source": [
    "def main():\n",
    "\tLIM = 500000\n",
    "\tlim = 707 # la racine carrée de LIM\n",
    "\tfactorMini = list(range(LIM))\n",
    "\tfor p in range(2, lim):\n",
    "\t\tif factorMini[p] == p:\n",
    "\t\t\tfor x in range(2*p, LIM, p):\n",
    "\t\t\t\tif factorMini[x] == x:\n",
    "\t\t\t\t\tfactorMini[x] = p\n",
    "\n",
    "\n",
    "\tfor _ in range(int(input())):\n",
    "\t\tn = int(input())\n",
    "\t\tN = n\n",
    "\t\tdivsum = 1\n",
    "\t\tq = 0\n",
    "\t\te = 0\n",
    "\t\twhile n>1:\n",
    "\t\t\tp = factorMini[n]\n",
    "\t\t\tn //= p\n",
    "\t\t\tif p == q:\n",
    "\t\t\t\te += 1\n",
    "\t\t\telse:\n",
    "\t\t\t\tdivsum *= (q**(e+1)-1)//(q-1)\n",
    "\t\t\t\tq = p\n",
    "\t\t\t\te = 1\n",
    "\t\tdivsum *= (q**(e+1)-1)//(q-1)\n",
    "\t\tprint(divsum-N)\n",
    "\n",
    "main()\n"
   ]
  },
  {
   "cell_type": "markdown",
   "metadata": {
    "collapsed": false
   },
   "source": [
    "---\n",
    "## 4. SPOJ [Prime After N](http://www.spoj.com/problems/AU12/)\n",
    "_Given an integer $N$ you have to find smallest prime number which comes after $N$, means smalltest prime which is greater than $N$._\n",
    "\n",
    "Une solution simple pour ce problème consiste à utiliser un crible segmenté sur un intervalle commençant à $N+1$, d'une largeur suffisante pour espérer avoir au moins un nombre premier.  \n",
    "On commence avec de la 'marge' avec $1000$, mais avec moins cela reste valable avec les contraintes du problème.\n",
    "\n",
    "Pour avoir une solution rapide, il faut connaître des tests de primalité rapides et intégrer aussi cette méthode en partie."
   ]
  },
  {
   "cell_type": "code",
   "execution_count": 0,
   "metadata": {
    "collapsed": false
   },
   "outputs": [
   ],
   "source": [
    "def main():\n",
    "\t# première étape ; voir D-Exos-corrigés-2\n",
    "\tlim = 32000 # un peu plus que la racine carrée de n_max (10⁹)\n",
    "\tCrible = [1]*lim\n",
    "\tCrible[:2] = [0]*2\n",
    "\tp = 2\n",
    "\twhile p*p<lim:\n",
    "\t\tif Crible[p] == 1:\n",
    "\t\t\t# p est alors premier,\n",
    "\t\t\t# on 'coche' les multiples de p comme composés,\n",
    "\t\t\t# il suffit de commencer à p²\n",
    "\t\t\tfor k in range(p*p, lim, p):\n",
    "\t\t\t\tCrible[k] = 0\n",
    "\t\tp += 1\n",
    "\t# On construit alors la liste :\n",
    "\tPrime = []\n",
    "\tfor p in range(lim):\n",
    "\t\tif Crible[p] == 1:\n",
    "\t\t\tPrime.append(p)\n",
    "\t#==========================\n",
    "\t\n",
    "\t# deuxième étape\n",
    "\t\n",
    "\tfor _ in range(int(input())):\n",
    "\t\tm = int(input()) + 1\n",
    "\t\tn = m + 1000 # on espère bien que dans cet intervalle, il y ait un nombre premier\n",
    "\t\tn += 1 # on ira de m inclus, jusqu'à n exclu !\n",
    "\t\tCrible2 = [1]*(n-m)\n",
    "\t\tif m==1:\n",
    "\t\t\tCrible2[0] = 0\n",
    "\t\t\t# 1 n'est pas premier\n",
    "\t\tfor p in Prime:\n",
    "\t\t\tif p*p > n:\n",
    "\t\t\t\tbreak\n",
    "\t\t\t\t# une sortie prématurée\n",
    "\t\t\t\t# dans ce cas, Crible2 est fini\n",
    "\t\t\tkp = (m-1) - (m-1)%p\n",
    "\t\t\t# kp est un multiple de p, kp < m, le plus grand\n",
    "\t\t\tkp += p\n",
    "\t\t\t# kp est alors un multiple de p, kp >= m, le plus petit \n",
    "\t\t\tif kp == p:\n",
    "\t\t\t\tkp += p\n",
    "\t\t\t# kp est désormais un multiple distinct de p, donc composé\n",
    "\t\t\tfor c in range(kp, n, p):\n",
    "\t\t\t\tCrible2[c-m] = 0\n",
    "\t\t\t\t# on marque les entiers c comme composé\n",
    "\t\t\n",
    "\t\t# On génère les premiers dans [m, n]\n",
    "\t\t\n",
    "\t\tfor i in range(n-m):\n",
    "\t\t\tif Crible2[i] == 1:\n",
    "\t\t\t\tprint(m+i)\n",
    "\t\t\t\tbreak\n",
    "\t\t\t\t\n",
    "main()\n"
   ]
  }
 ],
 "metadata": {
  "kernelspec": {
   "display_name": "Python 3 (Ubuntu Linux)",
   "language": "python",
   "name": "python3"
  },
  "language_info": {
   "codemirror_mode": {
    "name": "ipython",
    "version": 3
   },
   "file_extension": ".py",
   "mimetype": "text/x-python",
   "name": "python",
   "nbconvert_exporter": "python",
   "pygments_lexer": "ipython3",
   "version": "3.6.6"
  }
 },
 "nbformat": 4,
 "nbformat_minor": 0
}