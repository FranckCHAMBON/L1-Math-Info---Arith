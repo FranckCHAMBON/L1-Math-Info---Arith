{
 "cells": [
  {
   "cell_type": "markdown",
   "metadata": {
    "collapsed": false
   },
   "source": [
    "> _Les mathématiques sont la seule science\n",
    "où on ne sait pas de quoi on parle\n",
    "ni si ce qu'on dit est vrai._  \n",
    "**Bertrand Russell** (Mathématicien, philosophe, et … doué d'humour!)"
   ]
  },
  {
   "cell_type": "markdown",
   "metadata": {
    "collapsed": false
   },
   "source": [
    "---\n",
    "## Exercice 1\n",
    "Soient $a$, $b$, $c$ trois entiers non nuls. Valider (en écrivant une preuve) ou infirmer (par un contre-exemple) les affirmations suivantes :\n",
    " 1. Si $a \\mid b$ et $b \\mid c$, alors $a \\mid c$.\n",
    " 2. Si $a \\mid b$ et $a \\mid c$, alors $a$ divise tous les entiers de la forme $pb + qc$ avec $p$, $q$ entiers.\n",
    " 2. Si $c$ divise $2a$ alors $c$ divise $a$.\n",
    " 3. Si $c$ divise $a$, ou si $c$ divise $b$, alors $c$ divise $ab$.\n",
    " 4. Si $c$ divise $ab$, alors $c$ divise $a$ ou $c$ divise $b$.\n",
    " 5. Si $c$ divise $3a + 1$ et $5a − 1$, alors $c$ divise $8$.\n",
    " "
   ]
  },
  {
   "cell_type": "markdown",
   "metadata": {
    "collapsed": false
   },
   "source": [
    "---\n",
    "**Correction**\n",
    "\n",
    "1. Si $a \\mid b$ et $b \\mid c$, alors $b=ka$ et $c=lb$, avec $k$ et $l$ entiers.  \n",
    "D'où $c = lka$, avec $lk$ entier, ce qui donne $a\\mid c$. **VRAIE.**\n",
    "\n",
    "2. Si $a\\mid b$ et $a \\mid c$, alors $b=ka$ et $c=la$, avec $k$ et $l$ entiers.  \n",
    "D'où, pour $p$ et $q$ entiers, $pb+qc = pka+qla = (pk+ql)a$, avec $pk+ql$ entier,\n",
    "ce qui donne $a\\mid pb+qc$. **VRAIE.** _(Rappel : propriété utile pour prouver l'algorithme d'Euclide)_\n",
    "\n",
    "3. Avec $c=2$ et $a=1$, on a $c\\mid 2a$, mais $c\\nmid a$. **FAUSSE.**  \n",
    "_(Autre exemple)_ Avec $c=22$ et $a=33$, on a $c\\mid 2a$, mais $c\\nmid a$.\n",
    "\n",
    "4. On raisonne par disjonction des cas:  \n",
    "    * Si $c\\mid a$, alors $a=kc$ avec $k$ entier,\n",
    "    ainsi $ab=kcb = (kb)c$ avec $kb$ entier, et donc $c\\mid ab$.\n",
    "    * L'autre cas est similaire, $a$ et $b$ jouant des rôles symétriques.  \n",
    "    **VRAIE.**\n",
    "    \n",
    "5. Il s'agit d'étudier la réciproque.  \n",
    "Soit $p$ un nombre premier, on pose $c=p^2$, et $a=b=p$, on a $c\\mid ab$, mais $c\\nmid a$ et $c\\nmid b$. **FAUSSE.**\n",
    "\n",
    "6. Si $c$ divise $3a + 1$ et $5a − 1$, on utilise la propriété utile 2.  \n",
    "$c$ divise $5(3a + 1)+(-3)(5a − 1)$, d'où $c\\mid (15a +5 -15a +3)$, et enfin\n",
    "$c$ divise $8$. **VRAIE.**\n"
   ]
  },
  {
   "cell_type": "markdown",
   "metadata": {
    "collapsed": false
   },
   "source": [
    "---\n",
    "## Exercice 2\n",
    "1. Quel est le dernier chiffre de $7^{1337}$ ?\n",
    "   - Conseil 1 : Voir d'abord pour : $7^{0} ; 7^{1} ; 7^{2} ; 7^{3} ; \\dots$\n",
    "   - Conseil 2 : deviner une règle, et la justifier.\n",
    "2. Quel est le dernier chiffre de $7^{(1337^{42})}$ ?"
   ]
  },
  {
   "cell_type": "markdown",
   "metadata": {
    "collapsed": false
   },
   "source": [
    "---\n",
    "**Correction**\n",
    "\n",
    "Voyons d'abord ce que Python peut répondre directement."
   ]
  },
  {
   "cell_type": "code",
   "execution_count": 11,
   "metadata": {
    "collapsed": false
   },
   "outputs": [
    {
     "name": "stdout",
     "output_type": "stream",
     "text": [
      "Le dernier chiffre de 7 exposant 1337 est : 7\n",
      "Le dernier chiffre de 7 exposant 1337 est : 7\n",
      "Question 2 -> 7\n"
     ]
    }
   ],
   "source": [
    "# 1.\n",
    "a = 7\n",
    "e = 1337\n",
    "\n",
    "print(f\"Le dernier chiffre de {a} exposant {e} est :\", a**e%10)\n",
    "# Noter l'utilisation de : f\"texte et {variable} mélangés\"\n",
    "\n",
    "print(f\"Le dernier chiffre de {a} exposant {e} est :\", pow(a, e, 10))\n",
    "# Méthode plus rapide et efficace ; Python utilise ici du calcul modulaire... à suivre\n",
    "\n",
    "#----\n",
    "\n",
    "# 2.\n",
    "a = 7\n",
    "e = 1337**42\n",
    "\n",
    "#print(a**e%10)\n",
    "# Le calcul de a**e ne rentre pas en mémoire !!!\n",
    "# Même pas pour un ordinateur de la taille de l'univers.\n",
    "\n",
    "print(\"Question 2 ->\", pow(a, e, 10))\n",
    "# Cette méthode fonctionne."
   ]
  },
  {
   "cell_type": "markdown",
   "metadata": {
    "collapsed": false
   },
   "source": [
    "Étude mathématique.\n",
    "\n",
    "* $7^0 = 1$, se termine par un $1$.  \n",
    "* $7^1 = 7$, se termine par un $7$.  \n",
    "* $7^2 = 49$, se termine par un $9$.  \n",
    "* $7^3 = \\dots3$, se termine par un $3$, tout comme $9\\times 7=63$.  \n",
    "* $7^4 = \\dots1$, se termine par un $1$, tout comme $3\\times 7=21$.  \n",
    "* $7^5 = \\dots7$, se termine par un $7$, tout comme $1\\times 7=7$.  \n",
    "* $7^6 = \\dots9$, se termine par un $9$, tout comme $7\\times 7=49$.  \n",
    "* $7^7 = \\dots3$, se termine par un $3$, tout comme $9\\times 7=63$.  \n",
    "* $7^8 = \\dots1$, se termine par un $1$, tout comme $3\\times 7=21$.  \n",
    "* $\\dots$\n",
    "\n",
    "La suite est cyclique, d'ordre $4$.\n",
    "\n",
    "* Les exposants $e$ conduisant à $7^e$ se finissant par $1$, sont : $\\{0, 4, 8, 12, 16, 20, 24,\\dots\\}$. Ce sont les entiers dont le reste dans une division modulo $4$ est égale à $0$. On dit que ce sont les entiers congrus à $0$ modulo $4$, ils sont dans la même classe.\n",
    "* Les exposants $e$ conduisant à $7^e$ se finissant par $7$, sont : $\\{1, 5, 9, 13, 17, 21, 25,\\dots\\}$. Ce sont les entiers dont le reste dans une division modulo $4$ est égale à $1$. On dit que ce sont les entiers congrus à $1$ modulo $4$, ils sont dans la même classe.\n",
    "* Les exposants $e$ conduisant à $7^e$ se finissant par $9$, sont : $\\{2, 6, 10, 14, 18, 22, 26,\\dots\\}$. Ce sont les entiers dont le reste dans une division modulo $4$ est égale à $2$. On dit que ce sont les entiers congrus à $2$ modulo $4$, ils sont dans la même classe.\n",
    "* Les exposants $e$ conduisant à $7^e$ se finissant par $1$, sont : $\\{3, 7, 11, 15, 19, 23, 27,\\dots\\}$. Ce sont les entiers dont le reste dans une division modulo $4$ est égale à $3$. On dit que ce sont les entiers congrus à $3$ modulo $4$, ils sont dans la même classe.\n",
    "\n",
    "Notre question 1. se résume donc à : « Quelle est la classe de $1337$, modulo $4$ ? »  \n",
    "$1337 \\div 4 \\mapsto (q=334, r=1)$, on déduit que $1337$ est dans la classe de $1$, modulo $4$. On écrit : $1337 \\equiv 1 \\pmod 4$.\n",
    "\n",
    "$1337$ étant dans la classe de $1$, modulo $4$, on déduit que $7^1337$ se termine par un $7$.\n",
    "\n",
    "---\n",
    "\n",
    "Notre question 2. se résume aussi à : « Quelle est la classe de $1337^{42}$, modulo $4$ ? »  \n",
    "\n",
    "Nous verrons que $1337 \\equiv 1 \\pmod 4$ implique que $1337^{42} \\equiv 1^{42} \\equiv 1 \\pmod 4$.\n",
    "\n",
    "$1337^{42}$ étant dans la classe de $1$, modulo $4$, on déduit que $7^{(1337^{42})}$ se termine par un $7$.\n",
    "\n"
   ]
  },
  {
   "cell_type": "markdown",
   "metadata": {
    "collapsed": false
   },
   "source": [
    "---\n",
    "## Exercice 3\n",
    "\n",
    "Un **triplet Pythagoricien** est un triplet d'entiers $(a, b, c)$, avec $0 < a , b < c$ et $a^2 + b^2 = c^2$. Ce sont alors les trois côtés entiers d'un triangle rectangle. $(b,a,c)$ en est alors un aussi. On dit que le triplet est **primitif** si les entiers sont premiers entre eux, c'est-à-dire que le $\\text{PGCD}(a, b)=1$.\n",
    "\n",
    "*Exemple :* $(3, 4, 5)$ est très connu des maçons. Mais aussi $(5, 12, 13)$ et $(6, 8, 10)$ ; des deux derniers exemples, le premier est primitif, pas le second.\n",
    "\n",
    "1. Afficher tous les triplets pythagoriciens $(a,b,c)$, avec $0 < a < b < c < M$.  \n",
    "  1. Dans un premier temps, une méthode en $\\Theta(M^3)$ suffira.\n",
    "  2. Modifier votre script pour avoir une version en $\\Theta(M^2)$ ; dans ce cas-là, l'utilisation de la racine carrée est conseillée.\n",
    "\n",
    "2. Modifier vos scripts pour n'avoir que les triplets primitifs."
   ]
  },
  {
   "cell_type": "markdown",
   "metadata": {
    "collapsed": false
   },
   "source": [
    "---\n",
    "**Correction**\n",
    "\n",
    "Faisons une triple boucle : pour tout $a$, pour tout $b$, pour tout $c$ (ou dans l'autre ordre).  \n",
    "Tirons parti de $0 < a < b < c < M$."
   ]
  },
  {
   "cell_type": "code",
   "execution_count": 4,
   "metadata": {
    "collapsed": false
   },
   "outputs": [
    {
     "name": "stdout",
     "output_type": "stream",
     "text": [
      "3 4 5\n",
      "5 12 13\n",
      "6 8 10\n",
      "7 24 25\n",
      "8 15 17\n",
      "9 12 15\n",
      "9 40 41\n",
      "10 24 26\n",
      "11 60 61\n",
      "12 16 20\n",
      "12 35 37\n",
      "13 84 85\n",
      "14 48 50\n",
      "15 20 25\n",
      "15 36 39\n",
      "16 30 34\n",
      "16 63 65\n",
      "18 24 30\n",
      "18 80 82\n",
      "20 21 29\n",
      "20 48 52\n",
      "21 28 35\n",
      "21 72 75\n",
      "24 32 40\n",
      "24 45 51\n",
      "24 70 74\n",
      "25 60 65\n",
      "27 36 45\n",
      "28 45 53\n",
      "30 40 50\n",
      "30 72 78\n",
      "32 60 68\n",
      "33 44 55\n",
      "33 56 65\n",
      "35 84 91\n",
      "36 48 60\n",
      "36 77 85\n",
      "39 52 65\n",
      "39 80 89\n",
      "40 42 58\n",
      "40 75 85\n",
      "42 56 70\n",
      "45 60 75\n",
      "48 55 73\n",
      "48 64 80\n",
      "51 68 85\n",
      "54 72 90\n",
      "57 76 95\n",
      "60 63 87\n",
      "65 72 97\n"
     ]
    }
   ],
   "source": [
    "M = 100\n",
    "for a in range(1, M):\n",
    "    for b in range(a+1, M):\n",
    "        for c in range(b+1, M):\n",
    "            if a*a + b*b == c*c:\n",
    "                print(a, b, c)\n",
    "\n",
    "\"\"\"\n",
    "# variante avec ordre inversé pour a, b, c\n",
    "# et condition supplémentaire : primitif !!!\n",
    "\n",
    "from math import gcd\n",
    "for c in range(3, M):\n",
    "    for b in range(2, c):\n",
    "        for c in range(1, b):\n",
    "            if (a*a + b*b == c*c) and (gcd(a, b) == 1):\n",
    "                print(a, b, c)\n",
    "\"\"\""
   ]
  },
  {
   "cell_type": "markdown",
   "metadata": {
    "collapsed": false
   },
   "source": [
    "Critique du script :\n",
    "* Le calcul de $a\\times a$ se fait de nombreuses fois, pour la même valeur de $a$, de même que $b$.\n",
    "* Quand $2a^2>M^2$, il n'y a plus de solutions, en effet, avec aussi $a < b$, on a $c^2 = a^2+b^2 > a^2+a^2 > M^2$. "
   ]
  },
  {
   "cell_type": "code",
   "execution_count": 5,
   "metadata": {
    "collapsed": false
   },
   "outputs": [
    {
     "name": "stdout",
     "output_type": "stream",
     "text": [
      "3 4 5\n",
      "5 12 13\n",
      "6 8 10\n",
      "7 24 25\n",
      "8 15 17\n",
      "9 12 15\n",
      "9 40 41\n",
      "10 24 26\n",
      "11 60 61\n",
      "12 16 20\n",
      "12 35 37\n",
      "13 84 85\n",
      "14 48 50\n",
      "15 20 25\n",
      "15 36 39\n",
      "16 30 34\n",
      "16 63 65\n",
      "18 24 30\n",
      "18 80 82\n",
      "20 21 29\n",
      "20 48 52\n",
      "21 28 35\n",
      "21 72 75\n",
      "24 32 40\n",
      "24 45 51\n",
      "24 70 74\n",
      "25 60 65\n",
      "27 36 45\n",
      "28 45 53\n",
      "30 40 50\n",
      "30 72 78\n",
      "32 60 68\n",
      "33 44 55\n",
      "33 56 65\n",
      "35 84 91\n",
      "36 48 60\n",
      "36 77 85\n",
      "39 52 65\n",
      "39 80 89\n",
      "40 42 58\n",
      "40 75 85\n",
      "42 56 70\n",
      "45 60 75\n",
      "48 55 73\n",
      "48 64 80\n",
      "51 68 85\n",
      "54 72 90\n",
      "57 76 95\n",
      "60 63 87\n",
      "65 72 97\n"
     ]
    }
   ],
   "source": [
    "from math import sqrt, floor\n",
    "M = 100\n",
    "aMax = floor(M/sqrt(2)) # floor(x) renvoie un entier, le plus grand inférieur ou égal à x.\n",
    "for a in range(1, aMax + 1):\n",
    "    a2 = a*a\n",
    "    for b in range(a+1, M):\n",
    "        b2 = b*b\n",
    "        for c in range(b+1, M):\n",
    "            if a2 + b2 == c*c:\n",
    "                print(a, b, c)\n"
   ]
  },
  {
   "cell_type": "markdown",
   "metadata": {
    "collapsed": false
   },
   "source": [
    "Mais surtout, la triple boucle donne une complexité en $\\Theta(M^3)$.  \n",
    "$\\Theta(M^3)$ signifie (un peu comme $\\mathcal{O}(M^3)$) que le script fait un nombre d'opérations proportionnel à $M^3$, mais pas seulement dans le pire des cas ; toujours !\n",
    "\n",
    "Pour passer en $\\Theta(M^2)$, on remplace la dernière boucle par un calcul du seul candidat possible pour $c$ avec le théorème de Pythagore.\n"
   ]
  },
  {
   "cell_type": "code",
   "execution_count": 8,
   "metadata": {
    "collapsed": false
   },
   "outputs": [
    {
     "name": "stdout",
     "output_type": "stream",
     "text": [
      "3 4 5\n",
      "5 12 13\n",
      "7 24 25\n",
      "8 15 17\n",
      "9 40 41\n",
      "11 60 61\n",
      "12 35 37\n",
      "13 84 85\n",
      "16 63 65\n",
      "20 21 29\n",
      "20 99 101\n",
      "28 45 53\n",
      "33 56 65\n",
      "36 77 85\n",
      "39 80 89\n",
      "48 55 73\n",
      "60 91 109\n",
      "65 72 97\n"
     ]
    }
   ],
   "source": [
    "from math import sqrt, gcd\n",
    "M = 100\n",
    "aMax = floor(M/sqrt(2)) # floor(x) renvoie un entier, le plus grand inférieur ou égal à x.\n",
    "for a in range(1, aMax + 1):\n",
    "    a2 = a*a\n",
    "    for b in range(a+1, M):\n",
    "        hyp2 = a2 + b*b # l'hypoténuse au carré\n",
    "        c = round(sqrt(hyp2)) # c n'est qu'un candidat entier arrondi\n",
    "        if (c*c == hyp2) and (gcd(a, b) ==1):\n",
    "            print(a, b, c)"
   ]
  },
  {
   "cell_type": "markdown",
   "metadata": {
    "collapsed": false
   },
   "source": [
    "Cette méthode permet de générer plus vite les triplets pythagoriciens primitifs.\n",
    "\n",
    "Il existe une méthode bien plus efficace encore : https://en.wikipedia.org/wiki/Tree_of_primitive_Pythagorean_triples"
   ]
  },
  {
   "cell_type": "markdown",
   "metadata": {
    "collapsed": false
   },
   "source": [
    "---\n",
    "## Exercice 4\n",
    "Écrire $\\sqrt{511\\;104}$ sous la forme $a\\sqrt{b}$, avec $a$ et $b$ entiers, et $b$ le plus petit possible.\n"
   ]
  },
  {
   "cell_type": "markdown",
   "metadata": {
    "collapsed": false
   },
   "source": [
    "---\n",
    "**Correction**\n",
    "\n",
    "On factorise $511\\;104$, ici avec un appel de commande externe via `bash` dans la console Python de Jupyter.  \n",
    "_Qui a dit tricheur ?_\n",
    "\n",
    "La version `factor` incluse dans `bash` est très efficace ; bien plus que les méthodes qui vous sont accessibles. Pensez-y si votre méthode est trop lente."
   ]
  },
  {
   "cell_type": "code",
   "execution_count": 10,
   "metadata": {
    "collapsed": false
   },
   "outputs": [
    {
     "name": "stdout",
     "output_type": "stream",
     "text": [
      "511104: 2 2 2 2 2 2 2 3 11 11 11\r\n"
     ]
    }
   ],
   "source": [
    "!factor 511104"
   ]
  },
  {
   "cell_type": "markdown",
   "metadata": {
    "collapsed": false
   },
   "source": [
    "On a : $511\\;104 = 2^7\\times3\\times11^3 = (2^6\\times11^2)\\times(2\\times3\\times11)$, et donc :\n",
    "\n",
    "$\\sqrt{511\\;104} = (2^3\\times11)\\times\\sqrt{2\\times3\\times11} = 88\\sqrt{66}$"
   ]
  }
 ],
 "metadata": {
  "kernelspec": {
   "display_name": "Python 3 (Ubuntu Linux)",
   "language": "python",
   "name": "python3"
  },
  "language_info": {
   "codemirror_mode": {
    "name": "ipython",
    "version": 3
   },
   "file_extension": ".py",
   "mimetype": "text/x-python",
   "name": "python",
   "nbconvert_exporter": "python",
   "pygments_lexer": "ipython3",
   "version": "3.6.6"
  }
 },
 "nbformat": 4,
 "nbformat_minor": 0
}
