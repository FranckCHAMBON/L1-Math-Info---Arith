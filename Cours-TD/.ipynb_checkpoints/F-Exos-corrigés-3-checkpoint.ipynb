{
 "cells": [
  {
   "cell_type": "markdown",
   "metadata": {
    "collapsed": false
   },
   "source": [
    "> _A Man is like a fraction whose numerator is what he is and whose denominator is what he thinks of himself. The larger the denominator, the smaller the fraction._  \n",
    "> **Tolstoy **"
   ]
  },
  {
   "cell_type": "markdown",
   "metadata": {
    "collapsed": false
   },
   "source": [
    "## Exercice 1 : Factorisation\n",
    "* On intègre ici un test de divisibilité directement par les petits nombres premiers, ce qui évite de tester tous les entiers de $2$ à $257$, mais seulement les premiers. Ces petits nombres premiers sont dans une liste.\n",
    "* On intègre aussi un hypothétique test de primalité rapide pour envisager où l'utiliser."
   ]
  },
  {
   "cell_type": "code",
   "execution_count": 3,
   "metadata": {
    "collapsed": true
   },
   "outputs": [
    {
     "name": "stdout",
     "output_type": "stream",
     "text": [
      "factor(7) retourne : [(7, 1)]\n",
      "factor(8) retourne : [(2, 3)]\n",
      "factor(9) retourne : [(3, 2)]\n",
      "factor(10) retourne : [(2, 1), (5, 1)]\n",
      "factor(11) retourne : [(11, 1)]\n",
      "factor(12) retourne : [(2, 2), (3, 1)]\n",
      "factor(4953851) retourne : [(7, 2), (17, 1), (19, 1), (313, 1)]\n",
      "factor(600851475143) retourne : [(71, 1), (839, 1), (1471, 1), (6857, 1)]\n",
      "factor(14837457737) retourne : [(1471, 2), (6857, 1)]\n",
      "factor(2000000018) retourne : [(2, 1), (1000000009, 1)]\n"
     ]
    }
   ],
   "source": [
    "def isprime(n):\n",
    "    return False\n",
    "    # imaginons que l'on dispose d'une vraie fonction\n",
    "    # isprime, très très rapide !!!\n",
    "\n",
    "   \n",
    "def factor(n):\n",
    "    \"\"\" Retourne une liste de couples (p, e),\n",
    "    n étant égal au produit des p^e\n",
    "    Exemple : factor(12) retourne\n",
    "              [(2, 2), (3, 1)]\n",
    "    Complexité : O(√(n))\n",
    "    \"\"\"\n",
    "    \n",
    "    smallPrimes = [2,3,5,7,11,13,17,19,23,29,31,37,41,43,47,53,59,61,67,71,73,79,83,89,97,101,103,107,109,113,127,131,137,139,149,151,157,163,167,173,179,181,191,193,197,199,211,223,227,229,233,239,241,251,257]\n",
    "    lastSmallPrime = smallPrimes[-1]\n",
    "    \n",
    "    assert n>0\n",
    "    Factor = []\n",
    "    \n",
    "    # on écrème les petits facteurs de n\n",
    "    for p in smallPrimes:\n",
    "        if n%p == 0:\n",
    "            n //= p\n",
    "            e = 1\n",
    "            while n%p == 0:\n",
    "                n //= p\n",
    "                e += 1\n",
    "            Factor.append((p, e))\n",
    "            if n == 1:\n",
    "                return Factor\n",
    "            if p*p > n:\n",
    "                # ici n est premier\n",
    "                Factor.append((n, 1))\n",
    "                return Factor\n",
    "            \n",
    "    # arrivé là, n ne possède plus de petits facteurs premiers\n",
    "    # on fait alors un test de primalité rapide\n",
    "    \n",
    "    if isprime(n):\n",
    "        Factor.append((n, 1))\n",
    "        return Factor\n",
    "    \n",
    "    # arrivé là, n est composé,\n",
    "    # avec des facteurs 'moyens' ou 'grands'\n",
    "    \n",
    "    p = lastSmallPrime\n",
    "    while n>1:\n",
    "        p += 2\n",
    "        if p*p > n:\n",
    "            # dans ce cas, n est égal à 1, ou bien premier\n",
    "            if n > 1:\n",
    "                Factor.append((n, 1))\n",
    "            return Factor\n",
    "        if n%p == 0:\n",
    "            n //= p\n",
    "            e = 1\n",
    "            while n%p == 0:\n",
    "                n //= p\n",
    "                e += 1\n",
    "            Factor.append((p, e))\n",
    "            if isprime(n):\n",
    "                Factor.append((n, 1))\n",
    "                return Factor\n",
    "\n",
    "    return Factor\n",
    "\n",
    "for n in range(7, 13):\n",
    "    print(f\"factor({n}) retourne :\", factor(n))\n",
    "\n",
    "for n in [4953851, 600851475143, 14837457737, 2000000018]:\n",
    "    print(f\"factor({n}) retourne :\", factor(n))\n"
   ]
  },
  {
   "cell_type": "markdown",
   "metadata": {
    "collapsed": false
   },
   "source": [
    "---\n",
    "## Exercice 2 - SPOJ - [TEST](http://www.spoj.com/problems/TEST/)\n",
    "_Rewrite small numbers from input to output. Stop processing input after reading in the number 42._ "
   ]
  },
  {
   "cell_type": "code",
   "execution_count": 1,
   "metadata": {
    "collapsed": true
   },
   "outputs": [
    {
     "name": "stdout",
     "output_type": "stream",
     "text": [
      "1\n",
      "1\n",
      "2\n",
      "2\n",
      "88\n",
      "88\n",
      "42\n"
     ]
    }
   ],
   "source": [
    "while True:\n",
    "    n = int(input())\n",
    "    if n == 42: break\n",
    "    print(n)"
   ]
  },
  {
   "cell_type": "markdown",
   "metadata": {
    "collapsed": false
   },
   "source": [
    "---\n",
    "## Exercice 3 - SPOJ - [SMPDIV](http://www.spoj.com/problems/SMPDIV/)\n",
    "**Divisibility**\n",
    "\n",
    "_Print all integers $a_i$ such that $a_i$ is divisible by $x$ and not divisible by $y$, where $1 < a_i < n < 100\\,000$._"
   ]
  },
  {
   "cell_type": "code",
   "execution_count": 3,
   "metadata": {
    "collapsed": false
   },
   "outputs": [
    {
     "name": "stdout",
     "output_type": "stream",
     "text": [
      "2\n",
      "7 2 4\n",
      "2 6 \n",
      "35 5 12\n",
      "5 10 15 20 25 30 \n"
     ]
    }
   ],
   "source": [
    "for t in range(int(input())):\n",
    "    line = input() # lecture de la ligne entière\n",
    "    n, x, y = line.split() # n, x, y sont au format texte\n",
    "    n, x, y = int(n), int(x), int(y) # changement de type à entier\n",
    "    for a in range(0, n, x):\n",
    "        if a%y != 0: print(a, end=\" \")\n",
    "    print()"
   ]
  },
  {
   "cell_type": "code",
   "execution_count": 4,
   "metadata": {
    "collapsed": false
   },
   "outputs": [
    {
     "name": "stdout",
     "output_type": "stream",
     "text": [
      "2\n",
      "7 2 4\n",
      "2 6\n",
      "35 5 12\n",
      "5 10 15 20 25 30\n"
     ]
    }
   ],
   "source": [
    "# avec une écriture plus fonctionelle\n",
    "def main():\n",
    "    for t in range(int(input())):\n",
    "        n, x, y = map(int, input().split())\n",
    "        print(\" \".join(map(str, (a for a in range(0, n, x) if a%y))))\n",
    "main()"
   ]
  },
  {
   "cell_type": "markdown",
   "metadata": {
    "collapsed": false
   },
   "source": [
    "---\n",
    "## Exercice 3 - SPOJ - [STRHH](http://www.spoj.com/problems/STRHH/)\n",
    "_Given a sequence of $2k$ characters, please print every second character from the first half of the sequence.\n",
    "Start printing with the first character._\n"
   ]
  },
  {
   "cell_type": "code",
   "execution_count": 5,
   "metadata": {
    "collapsed": false
   },
   "outputs": [
    {
     "name": "stdout",
     "output_type": "stream",
     "text": [
      "4\n",
      "your\n",
      "y\n",
      "progress\n",
      "po\n",
      "is\n",
      "i\n",
      "noticeable\n",
      "ntc\n"
     ]
    }
   ],
   "source": [
    "def main():\n",
    "    for t in range(int(input())):\n",
    "        line = input()\n",
    "        l = len(line)\n",
    "        print(line[:l//2:2])\n",
    "main()"
   ]
  },
  {
   "cell_type": "markdown",
   "metadata": {
    "collapsed": false
   },
   "source": [
    "---\n",
    "## Exercice 4 - SPOJ - [ALCATRAZ1](http://www.spoj.com/problems/ALCATRAZ1/)\n",
    "_You are being given a number $N$ . $(1\\leqslant N \\leqslant 10^{50})$ . You have to print the sum of digits of that particular number._"
   ]
  },
  {
   "cell_type": "code",
   "execution_count": 7,
   "metadata": {
    "collapsed": false,
    "scrolled": true
   },
   "outputs": [
    {
     "name": "stdout",
     "output_type": "stream",
     "text": [
      "3\n",
      "123123123\n",
      "18\n",
      "3434\n",
      "14\n",
      "1234567890\n",
      "45\n"
     ]
    }
   ],
   "source": [
    "def main():\n",
    "    for t in range(int(input())):\n",
    "        N = int(input())\n",
    "        S = 0\n",
    "        while N!=0:\n",
    "            N, r = divmod(N, 10)\n",
    "            S += r\n",
    "        print(S)\n",
    "main()"
   ]
  },
  {
   "cell_type": "markdown",
   "metadata": {
    "collapsed": false
   },
   "source": [
    "**Critique du script :** C'est dommage de lire l'entrée, la transformer en binaire, pour ensuite la transformer à nouveau en décimal..."
   ]
  },
  {
   "cell_type": "code",
   "execution_count": 1,
   "metadata": {
    "collapsed": false
   },
   "outputs": [
    {
     "name": "stdout",
     "output_type": "stream",
     "text": [
      "3\n",
      "123123123\n",
      "18\n",
      "1234567890\n",
      "45\n",
      "5\n",
      "5\n"
     ]
    }
   ],
   "source": [
    "def main():\n",
    "    for t in range(int(input())):\n",
    "        N = input().strip() # strip enlève les espaces en trop qu'il pourrait y avoir\n",
    "        S = sum(ord(x)-ord('0') for x in N)\n",
    "        print(S)\n",
    "main()"
   ]
  },
  {
   "cell_type": "markdown",
   "metadata": {
    "collapsed": false
   },
   "source": [
    "On peut ne faire qu'une seule soustraction, au lieu d'une par boucle.  \n",
    "On peut appliquer la méthode `map` à la fonction `ord` sur la chaîne `N`."
   ]
  },
  {
   "cell_type": "code",
   "execution_count": 3,
   "metadata": {
    "collapsed": false
   },
   "outputs": [
    {
     "name": "stdout",
     "output_type": "stream",
     "text": [
      "1\n",
      "1234567890\n",
      "45\n"
     ]
    }
   ],
   "source": [
    "def main():\n",
    "    for t in range(int(input())):\n",
    "        N = input().strip() # strip enlève les espaces en trop qu'il pourrait y avoir\n",
    "        print( sum(map(ord, N)) - ord('0')*len(N) )\n",
    "main()"
   ]
  },
  {
   "cell_type": "markdown",
   "metadata": {
    "collapsed": false
   },
   "source": [
    "---\n",
    "## Exercice 5 - SPOJ - [PRIME1](http://www.spoj.com/problems/PRIME1/)\n",
    "_Your task is to generate all prime numbers between two given numbers!_\n",
    "\n",
    "On va construire une version modifiée du crible d'Ératosthène : le crible segmenté ; tranche par tranche.\n",
    "* Pour $1<m\\leqslant n$, dans l'intervalle $[\\![m ; n]\\!]$, les nombres qui n'ont aucun facteur premier entre $2$ et $\\sqrt{n}$ sont tous premiers.\n",
    "* On construit d'abord tous les nombres premiers jusqu'à $\\sqrt{n_\\text{max}}$. Les _petits_ nombres premiers.\n",
    "* On utilise ces facteurs pour faire le crible dans $[\\![m ; n]\\!]$,\n",
    "* on utilise une liste `Crible2` telle que `Crible2[i] == 1` pour `m+i` premier, `0` sinon.\n",
    "* Pour chaque _petit_ premier `p`, on cherche le premier multiple `kp` de `p` dans $[\\![m ; n]\\!]$,\n",
    "* s'il est différent de `p`, c'est un composé, comme les suivants, qui sont de la forme `kp + c*p`, ..."
   ]
  },
  {
   "cell_type": "code",
   "execution_count": 4,
   "metadata": {
    "collapsed": false
   },
   "outputs": [
    {
     "name": "stdout",
     "output_type": "stream",
     "text": [
      "2\n",
      "1 10\n",
      "2\n",
      "3\n",
      "5\n",
      "7\n",
      "3 5\n",
      "3\n",
      "5\n"
     ]
    }
   ],
   "source": [
    "def main():\n",
    "    # première étape ; voir D-Exos-corrigés-2\n",
    "    lim = 31622 # la racine carrée de n_max (10⁹)\n",
    "    Crible = [1]*lim\n",
    "    Crible[:2] = [0]*2\n",
    "    p = 2\n",
    "    while p*p<lim:\n",
    "        if Crible[p] == 1:\n",
    "            # p est alors premier,\n",
    "            # on 'coche' les multiples de p comme composés,\n",
    "            # il suffit de commencer à p²\n",
    "            for k in range(p*p, lim, p):\n",
    "                Crible[k] = 0\n",
    "        p += 1\n",
    "    # On construit alors la liste :\n",
    "    Prime = []\n",
    "    for p in range(lim):\n",
    "        if Crible[p] == 1:\n",
    "            Prime.append(p)\n",
    "    #==========================\n",
    "    \n",
    "    # deuxième étape\n",
    "    \n",
    "    for _ in range(int(input())):\n",
    "        m, n = map(int, input().split())\n",
    "        n += 1 # on ira de m inclus, jusqu'à n exclu !\n",
    "        Crible2 = [1]*(n-m)\n",
    "        if m==1:\n",
    "            Crible2[0] = 0\n",
    "            # 1 n'est pas premier\n",
    "        for p in Prime:\n",
    "            if p*p > n:\n",
    "                break\n",
    "                # une sortie prématurée\n",
    "                # dans ce cas, Crible2 est fini\n",
    "            kp = (m-1) - (m-1)%p\n",
    "            # kp est un multiple de p, kp < m, le plus grand\n",
    "            kp += p\n",
    "            # kp est alors un multiple de p, kp >= m, le plus petit \n",
    "            if kp == p:\n",
    "                kp += p\n",
    "            # kp est désormais un multiple distinct de p, donc composé\n",
    "            for c in range(kp, n, p):\n",
    "                Crible2[c-m] = 0\n",
    "                # on marque les entiers c comme composé\n",
    "        \n",
    "        # On génère les premiers dans [m, n]\n",
    "        \n",
    "        for i in range(n-m):\n",
    "            if Crible2[i] == 1:\n",
    "                print(m+i)\n",
    "                \n",
    "main()"
   ]
  },
  {
   "cell_type": "markdown",
   "metadata": {
    "collapsed": false
   },
   "source": [
    "* Ce code permet d'entrer dans la page 3 du 'ranking' section Python3,\n",
    "* mais il n'est pas assez rapide pour entrer page 1 !!!\n",
    "> Pour faire d'autres expériences, considérer [PRINT](http://www.spoj.com/problems/PRINT/), ou le code ci-dessus sera trop lent,  \n",
    "> il faudra trouver des optimisations. Conseil : penser à `bytearray` et `compress`, ...  \n",
    "> Attention, il faut une bonne maîtrise de Python pour cela."
   ]
  },
  {
   "cell_type": "markdown",
   "metadata": {
    "collapsed": false
   },
   "source": [
    "---\n",
    "## Exercice 5 - SPOJ - [AMR11E](http://www.spoj.com/problems/AMR11E/)\n",
    "Les entiers ayant au moins trois facteurs premiers distincts.\n",
    "* Commençons par une méthode force brute, mais on se doute que ces entiers deviennent très fréquents\n",
    "* On en déduira qu'ici, établir la liste des $1000$ premiers tels nombres sera rapide\n"
   ]
  },
  {
   "cell_type": "code",
   "execution_count": 8,
   "metadata": {
    "collapsed": false
   },
   "outputs": [
    {
     "name": "stdout",
     "output_type": "stream",
     "text": [
      "3\n",
      "1\n",
      "30\n",
      "2\n",
      "42\n",
      "1000\n",
      "2664\n"
     ]
    }
   ],
   "source": [
    "def factor(n):\n",
    "    \"\"\" Retourne une liste de couples (p, e),\n",
    "    n étant égal au produit des p^e\n",
    "    Exemple : factor(12) retourne\n",
    "              [(2, 2), (3, 1)]\n",
    "    Complexité : O(√(n))\n",
    "    \"\"\"\n",
    "    \n",
    "    assert n>0\n",
    "    Factor = []\n",
    "    p = 2\n",
    "    while n>1:\n",
    "        # début modification\n",
    "        if p*p > n:\n",
    "            # dans ce cas, n est égal à 1, ou bien premier\n",
    "            if n > 1:\n",
    "                Factor.append((n, 1))\n",
    "            return Factor\n",
    "        # fin modification\n",
    "        if n%p == 0:\n",
    "            n //= p\n",
    "            e = 1\n",
    "            while n%p == 0:\n",
    "                n //= p\n",
    "                e += 1\n",
    "            Factor.append((p, e))\n",
    "        p += 1\n",
    "    return Factor\n",
    "\n",
    "def main():\n",
    "    Lucky = [0, 30, 42]\n",
    "    # ajout de 0, pour avoir une liste indexée à partir de 1.\n",
    "    # Lucky[1] = 30 ; l'élément n°1 est 30\n",
    "    Q = 2 # on en a déjà 2 donné ; cadeau \n",
    "    l = 42 # le point de départ\n",
    "    while Q < 1000:\n",
    "        l += 1\n",
    "        if len(factor(l)) >= 3:\n",
    "            Lucky.append(l)\n",
    "            Q += 1\n",
    "    \n",
    "    for _ in range(int(input())):\n",
    "        n = int(input())\n",
    "        print(Lucky[n])\n",
    "main()"
   ]
  },
  {
   "cell_type": "markdown",
   "metadata": {
    "collapsed": false
   },
   "source": [
    "On constate qu'en effet, le 1000ᵉ élément est 2664, et que la force brute permet de vite factoriser tous les entiers jusqu'à 2664.  \n",
    "Un problème plus intéressant pourrait être : Afficher tous les entiers jusqu'à une certaine limite (comme 2 millions) qui n'ont que deux diviseurs premiers."
   ]
  },
  {
   "cell_type": "markdown",
   "metadata": {
    "collapsed": false
   },
   "source": [
    "---\n",
    "## Exercice 5 - SPOJ - [ENIGMATH](http://www.spoj.com/problems/ENIGMATH/)\n",
    "_For a given value of $A$ and $B$, find the minimum positive integer value of $x$ and $y$ that satisfies the equation :_\n",
    "$$Ax - By = 0$$\n",
    "\n",
    "---\n",
    "On note $D$ le PGCD de $A$ et $B$, on a $A = DA'$, et $B=DB'$, avec $A'$ et $B'$ entiers premiers entre eux.\n",
    "\n",
    "* $A$ et $B$ sont non nuls, donc $D\\neq0$.\n",
    "* Les solutions de notre équation sont donc exactement les mêmes que l'équation : $A'x = B'y$\n",
    "* D'après le lemme de Gauss, sachant que $A' \\land B' = 1$ :  \n",
    "    * $x$ est un multiple de $B'$\n",
    "    * $y$ est un multiple de $A'$\n",
    "    \n",
    "* $x=B'$ et $y=A'$ est une solution acceptable évidente, et donc la plus petite en entiers strictement positifs.\n",
    "> **Note** : En anglais, _positive_ signifie « strictement positif ».  \n",
    "> Pour traduire « positif ou nul », on emploie _non negative_.\n",
    "\n"
   ]
  },
  {
   "cell_type": "code",
   "execution_count": 9,
   "metadata": {
    "collapsed": false
   },
   "outputs": [
    {
     "name": "stdout",
     "output_type": "stream",
     "text": [
      "1\n",
      "2 3\n",
      "3 2\n"
     ]
    }
   ],
   "source": [
    "from math import gcd\n",
    "def main():\n",
    "    for _ in range(int(input())):\n",
    "        a, b = map(int, input().split())\n",
    "        d = gcd(a, b)\n",
    "        print(b//d, a//d)\n",
    "main()"
   ]
  },
  {
   "cell_type": "markdown",
   "metadata": {
    "collapsed": false
   },
   "source": [
    "---\n",
    "## Project Euler 23 - [Non-abundant sums](https://projecteuler.net/problem=23)\n",
    "_A perfect number is a number for which the sum of its proper divisors is exactly equal to the number. For example, the sum of the proper divisors of $28$ would be $1 + 2 + 4 + 7 + 14 = 28$, which means that $28$ is a perfect number._\n",
    "\n",
    "_A number $n$ is called deficient if the sum of its proper divisors is less than $n$ and it is called abundant if this sum exceeds $n$._\n",
    "\n",
    "_As $12$ is the smallest abundant number, $1 + 2 + 3 + 4 + 6 = 16$, the smallest number that can be written as the sum of two abundant numbers is $24$. By mathematical analysis, it can be shown that all integers greater than $28123$ can be written as the sum of two abundant numbers. However, this upper limit cannot be reduced any further by analysis even though it is known that the greatest number that cannot be expressed as the sum of two abundant numbers is less than this limit._\n",
    "\n",
    "_Find the sum of all the positive integers which cannot be written as the sum of two abundant numbers._\n"
   ]
  },
  {
   "cell_type": "code",
   "execution_count": 2,
   "metadata": {
    "collapsed": false
   },
   "outputs": [
    {
     "name": "stdout",
     "output_type": "stream",
     "text": [
      "4179871\n"
     ]
    }
   ],
   "source": [
    "def sumDiv(n):\n",
    "    \"\"\"Somme des diviseurs propres de n\"\"\"\n",
    "    if n<2: return 0\n",
    "    if n<4: return 1\n",
    "    S = 1\n",
    "    for k in range(2, n):\n",
    "        if k*k>=n:\n",
    "            if k*k == n:\n",
    "                S += k\n",
    "            return S\n",
    "        l, r = divmod(n, k)\n",
    "        if r == 0:\n",
    "            S += k+l       \n",
    "\n",
    "ans = 0\n",
    "abondant = set()\n",
    "for x in range(1, 28124):\n",
    "    if sumDiv(x) > x:\n",
    "        abondant.add(x)\n",
    "        \n",
    "    #=== variante longue\n",
    "    sum2a = False\n",
    "    for y in abondant:\n",
    "        if x-y in abondant:\n",
    "            sum2a = True\n",
    "            break\n",
    "    if not sum2a:\n",
    "        ans += x\n",
    "    #=== variante courte\n",
    "    #if not any(x-y in abondant for y in abondant):\n",
    "    #    ans += x\n",
    "    #=== fin variantes\n",
    "\n",
    "print(ans)"
   ]
  },
  {
   "cell_type": "markdown",
   "metadata": {
    "collapsed": true
   },
   "source": [
    "---\n",
    "# Devoirs pour la semaine suivante\n",
    "1. SPOJ [Sum](http://www.spoj.com/problems/UCBINTA/)\n",
    "2. SPOJ [Divisor Summation](http://www.spoj.com/problems/DIVSUM/)\n",
    "3. SPOJ [Prime After N](http://www.spoj.com/problems/AU12/)\n",
    "4. SPOJ [n-divisors](http://www.spoj.com/problems/NDIV/) Pour les plus motivés.\n",
    "5. Project Euler [Truncatable primes](https://projecteuler.net/problem=37)"
   ]
  },
  {
   "cell_type": "markdown",
   "metadata": {
    "collapsed": true
   },
   "source": [
    "## Exercice 6\n",
    "**Un problème indispensable** : ici on jette les bases d'une méthode pour factoriser très rapidement une grande quantité de 'petits' nombres.\n",
    "\n",
    "Construire la liste ```factorMini``` **indexée à zéro**, de longueur un million, telle que :\n",
    "* ```factorMini[0] = 0```, inutilisé.\n",
    "* ```factorMini[1] = 1```\n",
    "* ```factorMini[n] = p```, où $p$ est le plus petit facteur premier de $n>1$.\n",
    "\n",
    "Cette [liste](https://oeis.org/A020639) commence donc par : ```[0, 1, 2, 3, 2, 5, 2, 7, 2, 3, ...```\n",
    "\n",
    "Par exemple, en 9<sup>ème</sup> position, $9$ est composé et son plus petit facteur premier est $3$. \n",
    "\n",
    "---\n",
    "\n",
    "**Conseil :** s'inspirer du crible d'Ératosthène. Voici des pistes.\n",
    "\n",
    "L'objectif ici n'est pas de factoriser un nombre, mais de nombreux. Dans ce cas, l'utilisation d'une liste est très utile.\n",
    "\n",
    "* On initialise une liste $u_n = n$.\n",
    "* On itère sur les premiers termes, et si $u_p$ est resté à $p$, c'est qu'il est premier, dans ce cas, chacun de ses multiples est à traiter :\n",
    "    * ou bien, il avait déjà un facteur premier signalé, on le laisse,\n",
    "    * ou bien, on indique que $p$ est le plus petit facteur premier de cet entier. \n"
   ]
  }
 ],
 "metadata": {
  "kernelspec": {
   "display_name": "Python 3 (Ubuntu Linux)",
   "language": "python",
   "name": "python3"
  },
  "language_info": {
   "codemirror_mode": {
    "name": "ipython",
    "version": 3
   },
   "file_extension": ".py",
   "mimetype": "text/x-python",
   "name": "python",
   "nbconvert_exporter": "python",
   "pygments_lexer": "ipython3",
   "version": "3.6.6"
  }
 },
 "nbformat": 4,
 "nbformat_minor": 0
}
