{
 "cells": [
  {
   "cell_type": "markdown",
   "metadata": {},
   "source": [
    "# Devoirs et exercices corrigés - 1"
   ]
  },
  {
   "cell_type": "markdown",
   "metadata": {},
   "source": [
    "## Exercice 1 : Devoirs\n",
    "La question était de faire un premier script qui donne une décomposition en facteurs premiers."
   ]
  },
  {
   "cell_type": "code",
   "execution_count": 1,
   "metadata": {
    "collapsed": false,
    "jupyter": {
     "outputs_hidden": false
    }
   },
   "outputs": [
    {
     "name": "stdout",
     "output_type": "stream",
     "text": [
      "7 donne [7]\n",
      "8 donne [2, 2, 2]\n",
      "9 donne [3, 3]\n",
      "10 donne [2, 5]\n",
      "11 donne [11]\n",
      "12 donne [2, 2, 3]\n",
      "4953851 donne [7, 7, 17, 19, 313]\n",
      "600851475143 donne [71, 839, 1471, 6857]\n",
      "14837457737 donne [1471, 1471, 6857]\n"
     ]
    }
   ],
   "source": [
    "def factor(n):\n",
    "    assert n>0\n",
    "    Factor = []\n",
    "    p = 2\n",
    "    while n>1:\n",
    "        if n%p == 0:\n",
    "            n //= p\n",
    "            Factor.append(p)\n",
    "            while n%p == 0:\n",
    "                n //= p\n",
    "                Factor.append(p)\n",
    "        p += 1\n",
    "    return Factor\n",
    "\n",
    "for n in range(7, 13):\n",
    "    print(n, \"donne\", factor(n))\n",
    "\n",
    "for n in [4953851, 600851475143, 14837457737]:\n",
    "    print(n, \"donne\", factor(n))\n"
   ]
  },
  {
   "cell_type": "code",
   "execution_count": 2,
   "metadata": {
    "collapsed": false,
    "jupyter": {
     "outputs_hidden": false
    }
   },
   "outputs": [
    {
     "name": "stdout",
     "output_type": "stream",
     "text": [
      "7 donne [(7, 1)]\n",
      "8 donne [(2, 3)]\n",
      "9 donne [(3, 2)]\n",
      "10 donne [(2, 1), (5, 1)]\n",
      "11 donne [(11, 1)]\n",
      "12 donne [(2, 2), (3, 1)]\n",
      "4953851 donne [(7, 2), (17, 1), (19, 1), (313, 1)]\n",
      "600851475143 donne [(71, 1), (839, 1), (1471, 1), (6857, 1)]\n",
      "14837457737 donne [(1471, 2), (6857, 1)]\n"
     ]
    }
   ],
   "source": [
    "def factor(n):\n",
    "    # variante qui sort une liste de couples (p, e)\n",
    "    assert n>0\n",
    "    Factor = []\n",
    "    p = 2\n",
    "    while n>1:\n",
    "        if n%p == 0:\n",
    "            n //= p\n",
    "            e = 1\n",
    "            while n%p == 0:\n",
    "                n //= p\n",
    "                e += 1\n",
    "            Factor.append((p, e))\n",
    "        p += 1\n",
    "    return Factor\n",
    "\n",
    "for n in range(7, 13):\n",
    "    print(n, \"donne\", factor(n))\n",
    "\n",
    "for n in [4953851, 600851475143, 14837457737]:\n",
    "    print(n, \"donne\", factor(n))\n"
   ]
  },
  {
   "cell_type": "markdown",
   "metadata": {},
   "source": [
    "Critique du script : dans le pire des cas (quand $n$ est un nombre premier), la boucle <kbd>while</kbd> fait presque $n$ tours ; on dit alors que l'algorithme est en $\\mathcal{O}(n)$.\n",
    "\n",
    "**Devoirs pour la semaine suivante** :\n",
    "* Modifier ce script pour le rendre en $\\mathcal{O}\\left(\\sqrt{n}\\right)$.    \n",
    "Il doit être rapide pour un nombre comme $n=2\\;000\\;000\\;018$.  \n",
    "Pour cela, s'inspirer du CM1, et des deux versions incluses de ```is_prime```. Ici, une légère modification suffit !  \n",
    "\n",
    "* S'inscrire sur https://projecteuler.net/ et résoudre les trois premiers problèmes de l'archive https://projecteuler.net/archives"
   ]
  },
  {
   "cell_type": "markdown",
   "metadata": {},
   "source": [
    "---\n",
    "## Exercice 2\n",
    "Par quel chiffre doit-on remplacer les zéros de $120450$ pour qu'il soit divisible par $99$ ?"
   ]
  },
  {
   "cell_type": "code",
   "execution_count": 1,
   "metadata": {
    "collapsed": false,
    "jupyter": {
     "outputs_hidden": false
    }
   },
   "outputs": [
    {
     "name": "stdout",
     "output_type": "stream",
     "text": [
      "Le chiffre 3 convient.\n"
     ]
    }
   ],
   "source": [
    "for c in range(10):\n",
    "    n = 120450 + c*1000 + c\n",
    "    if n%99 == 0:\n",
    "        print(\"Le chiffre\", c, \"convient.\")"
   ]
  },
  {
   "cell_type": "markdown",
   "metadata": {},
   "source": [
    "On apprendra bientôt comment répondre à cette question sans faire de boucle."
   ]
  },
  {
   "cell_type": "markdown",
   "metadata": {},
   "source": [
    "---\n",
    "## Exercice 3\n",
    "Les nombres de la forme $2^{2^n}+1$ où $n \\in \\mathbb{N}$, sont-ils tous premiers ?\n",
    "\n",
    "[**Les nombres de Fermat**](https://fr.wikipedia.org/wiki/Nombre_de_Fermat)  \n",
    "Ces nombres doivent leur nom à Pierre de Fermat, qui émit la conjecture que tous ces nombres étaient premiers."
   ]
  },
  {
   "cell_type": "code",
   "execution_count": 3,
   "metadata": {
    "collapsed": false,
    "jupyter": {
     "outputs_hidden": false
    },
    "scrolled": true
   },
   "outputs": [
    {
     "name": "stdout",
     "output_type": "stream",
     "text": [
      "F0 = 3 , est premier.\n",
      "F1 = 5 , est premier.\n",
      "F2 = 17 , est premier.\n",
      "F3 = 257 , est premier.\n",
      "F4 = 65537 , est premier.\n",
      "F5 = 4294967297 , est composé.\n",
      "Conjecture fausse.\n"
     ]
    }
   ],
   "source": [
    "def is_prime(n):\n",
    "    if n<2: return False\n",
    "    for d in range(2, n):\n",
    "        if n%d==0: return False\n",
    "        if d*d>n: return True\n",
    "    return True\n",
    "\n",
    "def F(n):\n",
    "    return 2**(2**n) + 1\n",
    "\n",
    "n = 0\n",
    "while True:\n",
    "    Fn = F(n)\n",
    "    if is_prime(Fn):\n",
    "        print(\"F\"+str(n)+\" =\", Fn, \", est premier.\")\n",
    "    else:\n",
    "        print(\"F\"+str(n)+\" =\", Fn, \", est composé.\")\n",
    "        print(\"Conjecture fausse.\")\n",
    "        break\n",
    "    n += 1"
   ]
  },
  {
   "cell_type": "markdown",
   "metadata": {},
   "source": [
    "---\n",
    "## Exercice 4\n",
    "Vérifier que pour tout $n \\in [\\![0..100]\\!]$, et $p \\in [\\![0..50]\\!]$ avec $p$ premier, on a : $n^p-n$ est divisible par $p$."
   ]
  },
  {
   "cell_type": "code",
   "execution_count": 5,
   "metadata": {
    "collapsed": false,
    "jupyter": {
     "outputs_hidden": false
    }
   },
   "outputs": [
    {
     "name": "stdout",
     "output_type": "stream",
     "text": [
      "Succès\n"
     ]
    }
   ],
   "source": [
    "for p in range(51):\n",
    "    if is_prime(p):\n",
    "        for n in range(101):\n",
    "            assert (n**p - n)%p == 0, (\"échec\", n, p)\n",
    "print(\"Succès\")"
   ]
  },
  {
   "cell_type": "markdown",
   "metadata": {},
   "source": [
    "Nous prouverons que cela est vrai pour tout $n \\in \\mathbb{N}$, et tout $p \\in \\mathbb{P}$."
   ]
  },
  {
   "cell_type": "markdown",
   "metadata": {},
   "source": [
    "---\n",
    "## Exercice 5\n",
    "Quel est le plus petit entier divisible par tous les entiers de $1$ à $15$ ? _Sans script_.  \n",
    "(Et de $1$ à $150$ ? _Avec script_)"
   ]
  },
  {
   "cell_type": "code",
   "execution_count": 7,
   "metadata": {
    "collapsed": false,
    "jupyter": {
     "outputs_hidden": false
    }
   },
   "outputs": [
    {
     "name": "stdout",
     "output_type": "stream",
     "text": [
      "150\n",
      "4963595372164418730243844250278933730416682962970482173955824000\n"
     ]
    }
   ],
   "source": [
    "from math import gcd as PGCD\n",
    "# gcd est dans 'math' à partir de Python3.6,\n",
    "# avant, il était dans 'fractions'.\n",
    "\n",
    "def PPCM(a, b): return a // PGCD(a, b) * b\n",
    "\n",
    "N = int(input())\n",
    "ans = 1\n",
    "for n in range(2, N+1):\n",
    "    ans = PPCM(ans, n)\n",
    "print(ans)"
   ]
  },
  {
   "cell_type": "markdown",
   "metadata": {},
   "source": [
    "## Exercice 6\n",
    "$p$, $q$, $r$ sont des nombres premiers distincts.\n",
    "1. Quelle est la décomposition en facteurs premiers de $(p^5q^7r)\\times(p^2q)$ ?\n",
    "2. Quels sont les diviseurs de $p^5$ ?\n",
    "3. Quels sont les diviseurs de $p^2q$ ?\n",
    "4. Quels sont les diviseurs de $pqr$ ?\n",
    "5. Quel est le PGCD de $pq$ et $qr$ ?"
   ]
  },
  {
   "cell_type": "markdown",
   "metadata": {},
   "source": [
    "---\n",
    "**Réponse :**\n",
    "1. $A = (p^5q^7r)\\times(p^2q)$  \n",
    "$A = (p^5\\times p^2)\\times(q^7\\times q)\\times r$  \n",
    "$A = p^7q^8r$, est décomposé facteurs premiers.\n",
    "\n",
    "2. Les diviseurs de $p^5$ sont $(1, p, p^2, p^3, p^4, p^5)$, ils sont agencés en une structure unidimensionnelle dont la somme est :  \n",
    "$S = 1+ p+ p^2+ p^3+ p^4+ p^5 = \\dfrac{p^6-1}{p-1}$  \n",
    "*Remarque :* $5$ est un exposant moyen, plus petit la formule de gauche est très rapide, plus grand la formule de droite devient intéressante.\n",
    "\n",
    "3. Les diviseurs de $p^2q$ ont une structure bidimensionelle :  \n",
    "$1, p, p^2,$  \n",
    "$q, pq, p^2q$  \n",
    "dont la somme est $S = (1+ p+ p^2) + q(1+ p+ p^2)$  \n",
    "$S= (1+q)(1+ p+ p^2)$.  \n",
    "On donnera une formule générale pour la somme.\n",
    "\n",
    "4. Les diviseurs de $pqr$ se placent au sommet d'un cube : \n",
    "$1, p, q, r, pq, pr, qr, pqr$, dont la somme est $(1+p)(1+q)(1+r)$\n",
    "\n",
    "5. Le PGCD de $pq$ et $qr$ est $q$."
   ]
  }
 ],
 "metadata": {
  "kernelspec": {
   "display_name": "Python 3",
   "language": "python",
   "name": "python3"
  },
  "language_info": {
   "codemirror_mode": {
    "name": "ipython",
    "version": 3
   },
   "file_extension": ".py",
   "mimetype": "text/x-python",
   "name": "python",
   "nbconvert_exporter": "python",
   "pygments_lexer": "ipython3",
   "version": "3.7.5"
  }
 },
 "nbformat": 4,
 "nbformat_minor": 4
}
