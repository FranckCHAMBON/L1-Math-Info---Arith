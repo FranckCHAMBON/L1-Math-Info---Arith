{
 "cells": [
  {
   "cell_type": "markdown",
   "metadata": {
    "collapsed": false
   },
   "source": [
    "> _Mathematicians have tried in vain to this day to discover some order in the sequence of prime numbers, and we have reason to believe that it is a mystery into which the human mind will never penetrate._  \n",
    "> **Leonhard Euler**\n"
   ]
  },
  {
   "cell_type": "markdown",
   "metadata": {
    "collapsed": false
   },
   "source": [
    "---\n",
    "# Exercice 0\n",
    "1. Prouver que pour tout entier $k$, $2k+1$ et $9k+4$ sont premiers entre eux.\n",
    "2. En est-il de même avec $2k-1$ et $9k+4$."
   ]
  },
  {
   "cell_type": "markdown",
   "metadata": {
    "collapsed": false
   },
   "source": [
    "---\n",
    "### Correction\n",
    "1. On tente une combinaison linéaire qui annule les termes en $k$.\n",
    "$$9(2k+1)+(-2)(9k+4) = 18k +9 -18k -8 = 1$$\n",
    "On en déduit que pour tout $k$, $2k+1$ et $9k+4$ sont premiers entre eux.  \n",
    "> **Bonus 1**, on déduit que $9(2k+1) \\equiv 1 \\pmod {9k+4}$, et donc que $9$ et $2k+1$ sont inverses l'un de l'autre modulo $2k+1$.  \n",
    "> **Bonus 2**, on déduit que $-2(9k+4) \\equiv 1 \\pmod {2k+1}$, et donc que $-2$ et $9k+4$ sont inverses l'un de l'autre modulo $9k+4$.\n",
    "2. Avec la même combinaison linéaire raisonnable, on a :\n",
    "$$(-9)(2k-1)+2(9k+4) = -18k +9 +18k +8 = 17$$\n",
    "On déduit que les diviseurs communs à $2k-1$ et $9k+4$ divisent $17$, à savoir $1$ et $17$ sont possibles.\n",
    "    1. Si $k=1$, $2k-1=1$ et $9k+4=13$, et dans ce cas, $(2k-1)\\land (9k+4) = 1$.\n",
    "    2. Si $k=9$, $2k-1=17$ et $9k+4=85=5\\times 17$, et dans ce cas, $(2k-1)\\land (9k+4) = 17$."
   ]
  },
  {
   "cell_type": "markdown",
   "metadata": {
    "collapsed": false
   },
   "source": [
    "---\n",
    "## Exercice 1 - [L'indicatrice d'Euler](https://fr.wikipedia.org/wiki/Indicatrice_d%27Euler)\n",
    "La fonction $\\varphi$ d'Euler est définie sur $\\mathbb{N}^*$ par :  \n",
    "$\\varphi(n)$ est égal au nombre de d'entier $m$ premiers avec $n$ pour $m\\in [1..n]$\n",
    "\n",
    "**Par exemple :** $\\varphi(8) = 4$ car parmi les nombres de $1$ à $8$, seuls les quatre nombres $1$, $3$, $5$ et $7$ sont premiers avec $8$.\n",
    "\n",
    "1. Faire un premier script avec une fonction `totient` pour l'indicatrice d'Euler.\n",
    "2. Vérifier que pour $1<u<v<100$, avec $u\\land v = 1$, on a $\\varphi(u)\\times \\varphi(v) = \\varphi(uv)$\n",
    "> **Remarque :** Cette propriété est vraie au-delà de 100, et de telles fonctions sont dites multiplicatives.\n",
    "3. Prouver cette propriété pour $u$ et $v$ des nombres premiers distincts.\n",
    "4. Quelle est la valeur de $\\varphi(p)$ pour $p$ premier ?\n",
    "4. Montrer que $\\varphi(p^n) = p^{n-1}(p-1)$ pour $p$ premier et $n>0$ ?\n",
    "6. Faire un nouveau script pour `totient` qui utilise la décomposition en facteurs premiers."
   ]
  },
  {
   "cell_type": "markdown",
   "metadata": {
    "collapsed": false
   },
   "source": [
    "---\n",
    "### Correction\n",
    "Un premier script est en force brute, il suit de près la définition."
   ]
  },
  {
   "cell_type": "code",
   "execution_count": 1,
   "metadata": {
    "collapsed": false
   },
   "outputs": [
    {
     "name": "stdout",
     "output_type": "stream",
     "text": [
      "φ(1) = 1\n",
      "φ(2) = 1\n",
      "φ(3) = 2\n",
      "φ(4) = 2\n",
      "φ(5) = 4\n",
      "φ(6) = 2\n",
      "φ(7) = 6\n",
      "φ(8) = 4\n",
      "φ(9) = 6\n",
      "φ(10) = 4\n",
      "φ(11) = 10\n",
      "φ(12) = 4\n",
      "φ(13) = 12\n",
      "φ(14) = 6\n",
      "φ(15) = 8\n",
      "φ(16) = 8\n",
      "φ(17) = 16\n",
      "φ(18) = 6\n",
      "φ(19) = 18\n",
      "φ(20) = 8\n",
      "φ(21) = 12\n",
      "φ(22) = 10\n",
      "φ(23) = 22\n",
      "φ(24) = 8\n",
      "φ(25) = 20\n"
     ]
    }
   ],
   "source": [
    "from math import gcd\n",
    "def totient(n):\n",
    "    \"\"\"Indicatrice d'Euler de n,\n",
    "    renvoie le nombre d'entiers premiers avec n, de l'intervalle [1,n]\"\"\"\n",
    "    assert n>0\n",
    "    cpt = 0\n",
    "    for x in range(1, n+1):\n",
    "        if gcd(x, n)==1: cpt+=1\n",
    "    return cpt\n",
    "\n",
    "# Un tableau de valeurs basique\n",
    "for n in range(1, 26):\n",
    "    print(f\"φ({n}) = {totient(n)}\")"
   ]
  },
  {
   "cell_type": "code",
   "execution_count": 2,
   "metadata": {
    "collapsed": false
   },
   "outputs": [
    {
     "data": {
      "text/latex": [
       "$$\\begin{array}{|c|c|} \\hline n & \\varphi(n) \\\\ \\hline1&1\\\\ \\hline2&1\\\\ \\hline3&2\\\\ \\hline4&2\\\\ \\hline5&4\\\\ \\hline6&2\\\\ \\hline7&6\\\\ \\hline8&4\\\\ \\hline9&6\\\\ \\hline10&4\\\\ \\hline11&10\\\\ \\hline12&4\\\\ \\hline13&12\\\\ \\hline14&6\\\\ \\hline15&8\\\\ \\hline16&8\\\\ \\hline17&16\\\\ \\hline18&6\\\\ \\hline19&18\\\\ \\hline20&8\\\\ \\hline21&12\\\\ \\hline22&10\\\\ \\hline23&22\\\\ \\hline24&8\\\\ \\hline25&20\\\\ \\hline\\end{array}$$"
      ]
     },
     "execution_count": 2,
     "metadata": {
     },
     "output_type": "execute_result"
    }
   ],
   "source": [
    "# Une version plus luxueuse\n",
    "from IPython.display import Math\n",
    "table = r\"\\begin{array}{|c|c|} \\hline n & \\varphi(n) \\\\ \\hline\"\n",
    "for n in range(1, 26): table += f\"{n}&{totient(n)}\" + r\"\\\\ \\hline\"\n",
    "table += r\"\\end{array}\"\n",
    "Math(table)"
   ]
  },
  {
   "cell_type": "markdown",
   "metadata": {
    "collapsed": false
   },
   "source": [
    "On vérifie alors que `totient` est une fonction multiplicative."
   ]
  },
  {
   "cell_type": "code",
   "execution_count": 3,
   "metadata": {
    "collapsed": false
   },
   "outputs": [
    {
     "name": "stdout",
     "output_type": "stream",
     "text": [
      "Test réussi.\n"
     ]
    }
   ],
   "source": [
    "for u in range(1, 100):\n",
    "    for v in range(1, u):\n",
    "        if gcd(u, v) == 1:\n",
    "            assert totient(u*v) == totient(u) * totient(v)\n",
    "print(\"Test réussi.\")"
   ]
  },
  {
   "cell_type": "markdown",
   "metadata": {
    "collapsed": false
   },
   "source": [
    "* Nous avons démontré, en TD, cette propriété pour $u$ et $v$ des nombres premiers distincts.\n",
    "\n",
    "* On montre que $\\varphi(p^e) = p^{e-1}(p-1)$ :\n",
    "> Les entiers premiers avec $p^e$ sont tous les entiers sauf ceux partageant un facteur premier avec $p^e$, donc divisibles par $p$. Les entiers divisibles par $p$ entre $1$ et $p^e$ sont au nombre de $p^{e-1}$, ainsi $\\varphi(p^e) = p^e - p^{e-1} = p^{e-1}(p-1)$.\n",
    "\n",
    "* On utilise cette propriété pour un nouveau calcul de $\\varphi(n)$.\n",
    "> Pour toute fonction multiplicative, on a :  \n",
    "> Avec $n = p_1^{e_1} \\times \\dots p_i^{e_i} \\dots \\times p_k^{e_k}$, avec les $p_i$ distincts,   \n",
    "> $f(n) = f(p_1^{e_1}) \\times \\dots f(p_i^{e_i}) \\dots \\times f(p_k^{e_k})$.  \n",
    "> Ce qui donne un nouvel algorithme :"
   ]
  },
  {
   "cell_type": "code",
   "execution_count": 4,
   "metadata": {
    "collapsed": false
   },
   "outputs": [
    {
     "name": "stdout",
     "output_type": "stream",
     "text": [
      "Test réussi.\n"
     ]
    }
   ],
   "source": [
    "# On utilise la fonction factor vue la semaine précédente\n",
    "def factor(n):\n",
    "    \"\"\" Retourne une liste de couples (p, e),\n",
    "    n étant égal au produit des p^e\n",
    "    Exemple : factor(12) retourne\n",
    "              [(2, 2), (3, 1)]\n",
    "    Complexité : O(√(n))\n",
    "    \"\"\"\n",
    "    \n",
    "    assert n>0\n",
    "    Factor = []\n",
    "    p = 2\n",
    "    while n>1:\n",
    "        # début modification\n",
    "        if p*p > n:\n",
    "            # dans ce cas, n est égal à 1, ou bien premier\n",
    "            if n > 1:\n",
    "                Factor.append((n, 1))\n",
    "            return Factor\n",
    "        # fin modification\n",
    "        if n%p == 0:\n",
    "            n //= p\n",
    "            e = 1\n",
    "            while n%p == 0:\n",
    "                n //= p\n",
    "                e += 1\n",
    "            Factor.append((p, e))\n",
    "        p += 1\n",
    "    return Factor\n",
    "\n",
    "def totient2(n):\n",
    "    # Une version efficace...\n",
    "    # mais qui s'appuye sur factor...\n",
    "    # il faut bosser sur factor !!!!!!!!!!!!!\n",
    "    assert n>0\n",
    "    ans = 1\n",
    "    for p,e in factor(n):\n",
    "        ans *= p**(e-1) * (p-1)\n",
    "    return ans\n",
    "\n",
    "for n in range(1, 1000):\n",
    "    assert totient(n) == totient2(n)\n",
    "print(\"Test réussi.\")"
   ]
  },
  {
   "cell_type": "markdown",
   "metadata": {
    "collapsed": false
   },
   "source": [
    "---\n",
    "## Exercice 2\n",
    "1. Si $n = p^e$, avec $p\\in \\mathbb{P}$, et $e\\in \\mathbb{N}$, alors :\n",
    "    1. Les diviseurs de $n$ sont : $(1,p, p^2, \\cdots, p^e)$, il y en a $e+1$.\n",
    "    2. La somme de ces diviseurs est $1+p+p^2+\\cdots+p^e$.   \n",
    "> Faire un script avec une fonction `sommeDivPE(p, e)` qui renvoie la somme des diviseurs de $n=p^e$ quand $p$ est premier.\n",
    "\n",
    "2. \n",
    "    1. Si $n = p_{1}^{e_1} \\times p_{2}^{e_2} \\times \\cdots \\times p_{k}^{e_k}$ est la décomposition en facteurs premiers de $n>1$, alors la somme des diviseurs de $n$ est égale au produit de la somme des diviseurs de chaque $p_{i}^{e_i}$.\n",
    "    3. $1$ est le seul diviseur de $1$.\n",
    "    4. Tous les entiers sont diviseurs de $0$, mais on dira que leur somme est nulle (même si c'est faux).\n",
    "> Faire un script avec une fonction `sumDiv(n)` qui renvoie la somme des diviseurs de $n\\geqslant 0$. _Commencer par une version en force brute._\n",
    "5. On sait que $n=p^aq^b$, avec $p$ et $q$ premiers distincts, et $a>0$, $b>0$.   \n",
    "On sait que $n^2$ possède $81$ diviseurs. Combien $n^3$ a-t-il de diviseurs ?\n",
    "6. Soit $p$ un nombre premier tel que $2^p-1$ soit premier. On pose $n = (2^p-1)\\times2^{p-1}$.  \n",
    "Prouver que la somme des diviseurs de $n$ est égale à $2n$.\n"
   ]
  },
  {
   "cell_type": "markdown",
   "metadata": {
    "collapsed": false
   },
   "source": [
    "---\n",
    "### Correction\n",
    "On a déjà vu que la somme des diviseurs était une fonction multiplicative,  \n",
    "il reste donc à étudier $\\text{sumDiv}(p^e)$ pour $p$ premier.\n",
    "* Les diviseurs de $p^e$ sont : $(1,p, p^2, \\cdots, p^e)$, il y en a $e+1$.\n",
    "* La somme de ces diviseurs est $1+p+p^2+\\cdots+p^e$.  \n",
    "* Il s'agit d'une somme partielle de suite géométrique de raison $p$,  \n",
    "* la somme est donc :\n",
    "> $$\\frac{p^{e+1}-1}{p-1}$$"
   ]
  },
  {
   "cell_type": "code",
   "execution_count": 5,
   "metadata": {
    "collapsed": false
   },
   "outputs": [
    {
     "name": "stdout",
     "output_type": "stream",
     "text": [
      "Test réussi.\n"
     ]
    }
   ],
   "source": [
    "def SumDivBrute(n):\n",
    "    \"Force brute - Somme des diviseurs de n\"\n",
    "    return sum(x for x in range(1, n+1) if n%x==0)\n",
    "\n",
    "def SumDiv(n):\n",
    "    \"\"\"La somme des diviseurs de n\"\"\"\n",
    "    assert n>0\n",
    "    ans = 1\n",
    "    for p,e in factor(n):\n",
    "        ans *= (p**(e+1) - 1) // (p-1)\n",
    "    return ans\n",
    "\n",
    "for n in range(1, 1000):\n",
    "    assert SumDiv(n) == SumDivBrute(n)\n",
    "print(\"Test réussi.\")"
   ]
  },
  {
   "cell_type": "markdown",
   "metadata": {
    "collapsed": false
   },
   "source": [
    "**La fonction nombre de diviseur est aussi une fonction multiplicative,** et l'image de $p^e$ est $e+1$.\n",
    "\n",
    "Si $n=p^aq^b$, alors $n^2=p^{2a}q^{2b}$,    \n",
    "dont le nombre des diviseurs est $(2a+1)\\times (2b+1) = 81$ , d'après l'énoncé.   \n",
    "On cherche $(3a+1)\\times (3b+1)$.\n",
    "\n",
    "Les seuls diviseurs de $81$ sont $\\{1, 3, 9, 27, 81\\}$, or $(p,a)$ et $(q,b)$ jouant des roles symétriques, on peut supposer que $2a+1\\leqslant 2b+1$, de sorte qu'il y a trois cas à étudier :\n",
    "* (Premier cas :) $2a+1 = 1$, d'où $a = 0$, cas incompatible avec $a>0$.\n",
    "* (Deuxième cas :) $2a+1 = 3$, d'où $a = 1$, et d'où $2b+1 = 27$, d'où $b=13$.  \n",
    "Dans ce cas $(3a+1)\\times (3b+1) = 4\\times (3\\times13 +1) = 4\\times 40 = 160$ ; $n^3$ possède $160$ diviseurs.\n",
    "* (Troisième cas :) $2a+1 = 9$, d'où $a = 4$, et d'où $2b+1 = 9$, d'où $b=4$.  \n",
    "Dans ce cas $(3a+1)\\times (3b+1) = (3\\times4 +1)^2 = 13^2 = 169$ ; $n^3$ possède $169$ diviseurs.\n",
    "\n",
    "\n",
    "**Conclusion :** $n^3$ possède $160$ ou bien $169$ diviseurs.\n",
    "\n",
    "---\n",
    "Soit $p$ un nombre premier tel que $2^p-1$ soit premier. On pose $n = (2^p-1)\\times2^{p-1}$.  \n",
    "La somme des diviseurs de $n$ est égale à :   \n",
    "$$(1 + (2^p-1)) \\times \\frac{2^{p-1+1}-1}{2-1} = 2^p \\times (2^p-1) = 2n$$\n",
    "\n",
    "De tels nombres s'appellent des [nombres parfaits pairs](https://fr.wikipedia.org/wiki/Nombre_parfait#Nombres_parfaits_pairs)."
   ]
  }
 ],
 "metadata": {
  "kernelspec": {
   "display_name": "Python 3 (Ubuntu Linux)",
   "language": "python",
   "name": "python3"
  },
  "language_info": {
   "codemirror_mode": {
    "name": "ipython",
    "version": 3
   },
   "file_extension": ".py",
   "mimetype": "text/x-python",
   "name": "python",
   "nbconvert_exporter": "python",
   "pygments_lexer": "ipython3",
   "version": "3.6.6"
  }
 },
 "nbformat": 4,
 "nbformat_minor": 0
}
