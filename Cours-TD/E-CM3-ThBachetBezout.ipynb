{
 "cells": [
  {
   "cell_type": "markdown",
   "metadata": {
    "collapsed": false
   },
   "source": [
    "![logo](images/logo.svg)\n",
    "\n",
    "\n",
    "[![](https://imgs.xkcd.com/comics/code_talkers.png)](https://xkcd.com/257/)"
   ]
  },
  {
   "cell_type": "markdown",
   "metadata": {
    "collapsed": false
   },
   "source": [
    "# CM3 : [Théorème de Bachet-Bézout](https://fr.wikipedia.org/wiki/Th%C3%A9or%C3%A8me_de_Bachet-B%C3%A9zout)\n",
    "\n"
   ]
  },
  {
   "cell_type": "markdown",
   "metadata": {
    "collapsed": false
   },
   "source": [
    "## I] Le théorème\n",
    "Soit $a, b \\in \\mathbb{Z}$, il existe $u, v \\in \\mathbb{Z}$ tels que :\n",
    "> _(Identité de Bézout)_\n",
    "> $$au+bv = a \\land b$$\n",
    "\n",
    "On prouve ce théorème de manière constructiviste avec [l'algorithme d'Euclide étendu](https://fr.wikipedia.org/wiki/Algorithme_d%27Euclide_%C3%A9tendu)."
   ]
  },
  {
   "cell_type": "code",
   "execution_count": 4,
   "metadata": {
    "collapsed": false
   },
   "outputs": [
    {
     "data": {
      "text/plain": [
       "(1, -9, 47)"
      ]
     },
     "execution_count": 4,
     "metadata": {
     },
     "output_type": "execute_result"
    }
   ],
   "source": [
    "def euclide(a, b):\n",
    "    R, U, V, r, u, v = a, 1, 0, b, 0, 1\n",
    "    while r:\n",
    "        q = R//r\n",
    "        R, U, V, r, u, v = r, u, v, R - q*r, U - q*u, V - q*v\n",
    "    return R, U, V\n",
    "\n",
    "euclide(120, 23)"
   ]
  },
  {
   "cell_type": "markdown",
   "metadata": {
    "collapsed": false
   },
   "source": [
    "Dans cet algorithme, $R$ est le résultat du calcul du $\\text{PGCD}(a, b)$ par l'algorithme d'Euclide vu au cours précédent.  \n",
    "D'autre part, à chaque tour, on a que $r$ est une combinaison linéaire de $a$ et $b$ : en effet $r = au + bv$ tient à chaque tour de boucle.\n",
    "> $a(U-qu) + b(V-qv) =$  \n",
    "> $aU + bV - q(au+bv) =$  \n",
    "> $R - qr=$  \n",
    "> $\\text{La prochaine valeur de } r$"
   ]
  },
  {
   "cell_type": "markdown",
   "metadata": {
    "collapsed": false
   },
   "source": [
    "**Attention.** Si on a $au +bv = d$, cela ne signifie pas que $\\text{PGCD}(a, b) = d$, mais plutôt que $d$ est un multiple de ce PGCD."
   ]
  },
  {
   "cell_type": "markdown",
   "metadata": {
    "collapsed": false
   },
   "source": [
    "**Remarque.** Avec $\\text{PGCD}(a, b) = d$.  \n",
    "L'équation $au+bv = 0$ possède une solution évidente $a\\times (-b) + b\\times a = 0$,  \n",
    "mais on a aussi $a\\times \\dfrac{-b}{d} + b\\times \\dfrac{a}{d} = 0$.  \n",
    "Ainsi, par combinaison linéaire, on déduit que  \n",
    "$a\\times \\left(u-k\\dfrac{b}{d}\\right) + b\\times \\left(v+k\\dfrac{a}{d}\\right) = d$ pour tout entier $k$, ce qui prouve qu'il y a une infinité de solutions à l'équation $au+bv=a\\land b$."
   ]
  },
  {
   "cell_type": "markdown",
   "metadata": {
    "collapsed": false
   },
   "source": [
    "## II] Nombres premiers entre eux\n",
    "**Définition.** Deux nombres $a$ et $b$ sont dits premiers entre eux, si leur PGCD est égal à $1$.  \n",
    "> Dans ce cas la fraction $\\dfrac{a}{b}$ est irréductible.\n",
    "\n",
    "**Proposition.** Pour tous entiers $(a, b)$, on a:\n",
    "\n",
    "> $$a\\land b = 1 \\iff \\exists\\;u, v \\in \\mathbb{Z}, \\, au+bv = 1$$\n",
    "\n",
    "> *Preuve :* Un sens est donné directement par le théorème précédent.  \n",
    "> Pour l'autre sens, on note $\\text{PGCD}(a, b) = d$, $a=da'$, $b=db'$.  \n",
    "> Si $au+bv = 1$, alors $da'u+db'v=1$, et donc $d\\mid 1$,  \n",
    "et ainsi $d=1$, ie $a$ et $b$ sont premiers entre eux."
   ]
  },
  {
   "cell_type": "markdown",
   "metadata": {
    "collapsed": false
   },
   "source": [
    "**Lemme de Gauss.** Soit $a, b, c \\in \\mathbb{Z}$, alors\n",
    "$$\\left.\n",
    "    \\begin{array}{rr}\n",
    "      a\\mid bc \\\\\n",
    "      a\\land b = 1\n",
    "    \\end{array}\n",
    "  \\right\\}\n",
    "  \\implies a\\mid c$$"
   ]
  },
  {
   "cell_type": "markdown",
   "metadata": {
    "collapsed": false
   },
   "source": [
    "> *Preuve :* On a $bc=ka$ et $au+bv=1$, d'où  \n",
    "> $acu+bcv=c$, et donc $acu+kav=c$, et enfin $a(cu+kv)=c$,  \n",
    "> qui prouve que $a\\mid c$."
   ]
  },
  {
   "cell_type": "markdown",
   "metadata": {
    "collapsed": false
   },
   "source": [
    "**Proposition** Soit $a, b, c \\in \\mathbb{Z}$, alors\n",
    "$$\\left.\n",
    "    \\begin{array}{rr}\n",
    "      a\\mid c,\\, b\\mid c \\\\\n",
    "      a\\land b = 1\n",
    "    \\end{array}\n",
    "  \\right\\}\n",
    "  \\implies ab\\mid c$$"
   ]
  },
  {
   "cell_type": "markdown",
   "metadata": {
    "collapsed": false
   },
   "source": [
    "> *Preuve :* On a $c=ka$, $c=lb$ et $au+bv=1$, d'où  \n",
    "> $auc+bvc=c$, et donc $aulb+bvka=c$, et enfin $ab(ul+vk)=c$,  \n",
    "> qui prouve que $ab\\mid c$."
   ]
  },
  {
   "cell_type": "markdown",
   "metadata": {
    "collapsed": false
   },
   "source": [
    "**Remarque.** Chercher des contre-exemples !"
   ]
  },
  {
   "cell_type": "markdown",
   "metadata": {
    "collapsed": false
   },
   "source": [
    "## III] L'équation $ax+by=c$ dans $\\mathbb{Z}$ \n",
    "\n",
    "Avec $a\\neq 0$, $b\\neq 0$ et $c$ fixés dans $\\mathbb{Z}$, discutons des solutions de cette équation $(E)$."
   ]
  },
  {
   "cell_type": "markdown",
   "metadata": {
    "collapsed": false
   },
   "source": [
    "* Si $a\\land b \\nmid c$, alors il n'y a pas de solutions.\n",
    "* Si $a\\land b \\mid c$, alors on écrit $d = a\\land b$, $a=a'd$, $b=b'd$ et $c=c'd$.  \n",
    "On a $a'\\land b' =1$, et les solutions de $(E)$ sont les mêmes que celles de :  \n",
    "$$ (E') \\quad a'x+b'y=c' $$\n",
    "On s'inspire de la remarque au I] pour construire l'ensemble des solutions.  \n",
    "Ce sera l'objet d'un problème, avec juge en ligne."
   ]
  }
 ],
 "metadata": {
  "kernelspec": {
   "display_name": "Python 3 (Ubuntu Linux)",
   "language": "python",
   "name": "python3"
  },
  "language_info": {
   "codemirror_mode": {
    "name": "ipython",
    "version": 3
   },
   "file_extension": ".py",
   "mimetype": "text/x-python",
   "name": "python",
   "nbconvert_exporter": "python",
   "pygments_lexer": "ipython3",
   "version": "3.6.6"
  }
 },
 "nbformat": 4,
 "nbformat_minor": 0
}