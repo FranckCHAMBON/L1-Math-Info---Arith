{
 "cells": [
  {
   "cell_type": "markdown",
   "metadata": {
    "collapsed": false
   },
   "source": [
    "![Étoiles](../images/stars.png)\n",
    "\n",
    "> _Ils [les rationnels] sont parmi les nombres réels comme des étoiles dans le\n",
    "ciel pour illuminer le mystère du continu._\n",
    "> **Émile Borel**"
   ]
  },
  {
   "cell_type": "markdown",
   "metadata": {
    "collapsed": false
   },
   "source": [
    "# CM4 : Arithmétique modulaire\n",
    "\n",
    "**Introduction aux notations.**  \n",
    "En étudiant le dernier chiffre de $7^n$, nous avons remarqué que le résultat était commun pour certaines classes d'entiers :\n",
    "* la classe des entiers $n$ dont le reste dans une division par $4$ est égal à $0$, donnait un dernier chiffre pour $7^n$ égal à $1$.\n",
    "* la classe des entiers $n$ dont le reste dans une division par $4$ est égal à $1$, donnait un dernier chiffre pour $7^n$ égal à $7$.\n",
    "* la classe des entiers $n$ dont le reste dans une division par $4$ est égal à $2$, donnait un dernier chiffre pour $7^n$ égal à $9$.\n",
    "* la classe des entiers $n$ dont le reste dans une division par $4$ est égal à $3$, donnait un dernier chiffre pour $7^n$ égal à $3$.\n",
    "\n",
    "> Tous les entiers sont ainsi classés.\n",
    "\n",
    "> Dire que le dernier chiffre de $M$ est $c$ revient à dire que $M$ modulo $10$ est égal à $c$.\n",
    "\n",
    "On écrira de manière plus succincte :\n",
    "* Si $n\\equiv 0 \\pmod 4$, alors $7^n \\equiv 1 \\pmod{10}$.\n",
    "* Si $n\\equiv 1 \\pmod 4$, alors $7^n \\equiv 7 \\pmod{10}$.\n",
    "* Si $n\\equiv 2 \\pmod 4$, alors $7^n \\equiv 9 \\pmod{10}$.\n",
    "* Si $n\\equiv 3 \\pmod 4$, alors $7^n \\equiv 3 \\pmod{10}$.\n",
    "\n"
   ]
  },
  {
   "cell_type": "markdown",
   "metadata": {
    "collapsed": false
   },
   "source": [
    "## I] Définitions\n",
    "### Congruence\n",
    "Soit $m$, $a$, $b$ entiers dans $\\mathbb{Z}$.\n",
    "> On dit que $a$ est congru à $b$ modulo $m$, si $m$ divise $a − b$.\n",
    "\n",
    "On dit aussi que :\n",
    "* $a$ et $b$ sont congrus modulo $m$ ;\n",
    "* ils sont dans la même classe, modulo $m$.\n",
    "\n",
    "On note :\n",
    "* $a \\equiv b \\pmod m$ ;\n",
    "* $a \\equiv b \\; [m]$ ;\n",
    "* $m \\mid a-b$ ;\n",
    "* $\\exists k \\in \\mathbb{Z}$, tel que $a-b = km$.\n",
    "\n",
    "Dans le cas le plus fréquent $m> 0$, on a :\n",
    "* $a$ et $b$ ont le même reste dans la division euclidienne par $m$.\n",
    "\n",
    "On écrit $a \\not \\equiv b \\pmod m$, si $a$ et $b$ ne sont pas congrus modulo $m$."
   ]
  },
  {
   "cell_type": "markdown",
   "metadata": {
    "collapsed": false
   },
   "source": [
    "### Résidu\n",
    "Si $a\\in\\mathbb{Z}$, et $m\\in\\mathbb{N}^*$.  \n",
    "On appelle résidu de $a$ modulo $m$, et on note $a$ mod $m$,   l'unique entier $r\\in[\\![0, m-1]\\!]$ pour lequel $a\\equiv r \\pmod m$.\n",
    "\n",
    "Pour $a, b \\in \\mathbb{Z}$, on a donc :\n",
    "$$a\\equiv b\\pmod m \\iff a \\text{ mod } m = b \\text{ mod } m$$"
   ]
  },
  {
   "cell_type": "markdown",
   "metadata": {
    "collapsed": false
   },
   "source": [
    "### Premières propriétés\n",
    "Soit $m$, $a$, $b$ entiers dans $\\mathbb{Z}$.\n",
    "1. $a\\equiv 0 \\pmod m \\iff m \\mid a$ ;\n",
    "2. $a\\equiv b \\pmod m \\iff -a\\equiv -b \\pmod m$ ;\n",
    "3. $a\\equiv b \\pmod 0 \\iff a=b$ ;\n",
    "3. $a\\equiv b \\pmod 1$ est toujours vrai.\n",
    "\n",
    "### Exemple\n",
    "* $2$ mis à part, un nombre premier est congru à $1$ modulo $2$.\n",
    "* $2$ et $3$ mis à part, un nombre premier est congru à $1$ ou $-1$ modulo $6$.\n",
    "\n",
    "## II] Propriétés\n",
    "Soit $m\\in\\mathbb{Z}$, la congruence modulo $m$ est une relation d'équivalence, en effet :\n",
    "* Réflexivité : $\\forall a \\in \\mathbb{Z}, a\\equiv a \\pmod m$ ;\n",
    "* Symétrie : $\\forall a, b \\in \\mathbb{Z}, a\\equiv b \\pmod m \\implies b\\equiv a \\pmod m$ ;\n",
    "* Transitivité : $\\forall a, b, c \\in \\mathbb{Z}$, $(a\\equiv b \\pmod m, \\text{ et } b\\equiv c \\pmod m \\implies a\\equiv c \\pmod m$.\n",
    "\n",
    "La congruence modulo $m$ est compatible avec l'addition et la multiplication dans le sens suivant :\n",
    "\n",
    "$\\forall a, a', b, b', c, m \\in \\mathbb{Z}$ et $k \\in \\mathbb{N}$,   \n",
    "avec $a\\equiv a' \\pmod m$ et $b\\equiv b' \\pmod m$, on a :  \n",
    "* $a+b \\equiv a'+b' \\pmod m$ ;\n",
    "* $ab \\equiv a'b' \\pmod m$ ;\n",
    "* $ac \\equiv a'c \\pmod m$ ;\n",
    "* $a^k \\equiv a'^k \\pmod m$.\n",
    "\n",
    "Donc les règles de manipulation des congruences contiennent la plupart des règles de manipulations d’égalités entre entiers pour l’addition, la soustraction, et la multiplication.\n",
    "> Mais pour la division (et la simplification des congruences), c’est plus compliqué."
   ]
  },
  {
   "cell_type": "markdown",
   "metadata": {
    "collapsed": false
   },
   "source": [
    "De plus, on a:\n",
    "* Si $d$ est un diviseur commun de $a$, $b$ et $m$, alors   \n",
    "\n",
    "$a\\equiv b \\pmod m \\implies \\frac a d \\equiv \\frac b d \\pmod {\\frac m d}$\n",
    "\n",
    "### Utilisations\n",
    "* On peut faire de l'évaluation polynomiale modulaire de manière assez transparente.\n",
    "* On utilise le calcul modulaire dans de nombreuses situations, en particulier lorsqu'on souhaite que le résultat d'un calcul reste contenu dans un intervalle, évitant donc les débordements.\n",
    "* On verra comment reconstruire un entier lorsque l'on connait plusieurs résidus avec des modulos variés.\n",
    "* Les méthodes abordées seront généralisées avec des polynômes à la place des entiers."
   ]
  },
  {
   "cell_type": "markdown",
   "metadata": {
    "collapsed": false
   },
   "source": [
    "## III] Inversion modulaire\n",
    "> Diviser par un nombre, c'est multiplier par son inverse.\n",
    "> > Encore faut-il que l'inverse existe.\n",
    "\n",
    "Soit $a, m\\in\\mathbb{Z}$, on dit que $a$ est inversible modulo $m$,   \n",
    "s'il existe un entier $\\tilde a\\in \\mathbb{Z}$ tel que :\n",
    "$a\\tilde a \\equiv 1\\pmod m$.\n",
    "> On dit alors $\\tilde a$ est un inverse modulo $m$ de $a$.\n",
    "\n",
    "On a :\n",
    "* $\\tilde a$ inverse de $a\\iff \\exists k\\in \\mathbb{Z}, a\\tilde a + km = 1$,\n",
    "* $a$ inversible modulo $m \\iff a\\land m = 1$.\n",
    "\n",
    "### En pratique\n",
    "L'algorithme d'Euclide étendu permet pour $a$ et $m$ premiers entre eux d'obtenir $u$ et $v$ tels que :\n",
    "$au + mv=1$, l'entier $u$ est alors un inverse de $a$ modulo $m$.\n",
    "\n",
    "> Ci-dessous une version modifiée, qui ne calcule pas $v$ ; inutile."
   ]
  },
  {
   "cell_type": "code",
   "execution_count": 2,
   "metadata": {
    "collapsed": false
   },
   "outputs": [
    {
     "name": "stdout",
     "output_type": "stream",
     "text": [
      "1 14\n"
     ]
    }
   ],
   "source": [
    "def inverse(a, m):\n",
    "    R, U, r, u = a, 1, m, 0\n",
    "    while r:\n",
    "        q = R//r\n",
    "        R, U, r, u = r, u, R - q*r, U - q*u\n",
    "    if R==1:\n",
    "        return U\n",
    "    else:\n",
    "        return 0\n",
    "        # un code pour signifier a non inversible\n",
    "\n",
    "a = 120\n",
    "m = 23\n",
    "b = inverse(a, m)\n",
    "if b:\n",
    "    print(a*b%m, b%m)"
   ]
  },
  {
   "cell_type": "markdown",
   "metadata": {
    "collapsed": false
   },
   "source": [
    "## IV] [Fonction indicatrice d'Euler](https://fr.wikipedia.org/wiki/Indicatrice_d%27Euler)\n",
    "Soit $n\\in\\mathbb{N}^*$, on appelle _indicatrice d'Euler_ de $n$, et on note $\\varphi(n)$, le nombre d'entiers entre $1$ et $n$ qui sont premiers avec $n$.\n",
    "\n",
    "> $\\forall p\\in\\mathbb{P}, \\varphi(p)=p-1$\n",
    "\n",
    "On voit en TD comment calculer $\\varphi(n)$ à l'aide de la décomposition en facteurs premiers ; $\\varphi$ fait partie des [fonctions multiplicatives](https://fr.wikipedia.org/wiki/Fonction_multiplicative)."
   ]
  },
  {
   "cell_type": "markdown",
   "metadata": {
    "collapsed": false
   },
   "source": [
    "## V] Un théorème d'Euler\n",
    "> **Théorème (Euler) :** Soit $a\\in\\mathbb{Z}$, et $n\\in\\mathbb{N}^*$, alors :  \n",
    "> $$a\\land n = 1 \\iff a^{\\varphi(n)}\\equiv 1 \\pmod n$$\n",
    "\n",
    "En particulier, si $a$ est inversible modulo $n$, un inverse modulo $n$ de $a$ est $a^{\\varphi(n)-1}$. Ce qui fournit une nouvelle méthode pour l'inversion modulaire. Avec `Python` on utilisera la fonction `pow` pour avoir un résultat rapidement.\n",
    "\n",
    "> **Théorème (Fermat) :** Soit $a\\in\\mathbb{Z}$, et $p\\in\\mathbb{P}$, alors :  \n",
    "> $$a\\land p = 1 \\iff a^{p-1}\\equiv 1 \\pmod p$$\n",
    "\n",
    "### Remarque 1\n",
    "Si $p\\in\\mathbb{P}$ et $a\\land p \\neq 1$, alors $p$ divise $a$, on a $a\\equiv 0 \\pmod p$, et donc :\n",
    "$$a^n\\equiv a \\pmod p$$\n",
    "Cette égalité est valable pour tout nombre premier $p$ et tout entier $a$ inversible ou non modulo $p$.\n",
    "\n",
    "### Remarque 2\n",
    "Ce théorème de Fermat est à la base d'un test de primalité."
   ]
  }
 ],
 "metadata": {
  "kernelspec": {
   "display_name": "Python 3 (Ubuntu Linux)",
   "language": "python",
   "name": "python3"
  },
  "language_info": {
   "codemirror_mode": {
    "name": "ipython",
    "version": 3
   },
   "file_extension": ".py",
   "mimetype": "text/x-python",
   "name": "python",
   "nbconvert_exporter": "python",
   "pygments_lexer": "ipython3",
   "version": "3.6.6"
  }
 },
 "nbformat": 4,
 "nbformat_minor": 0
}
