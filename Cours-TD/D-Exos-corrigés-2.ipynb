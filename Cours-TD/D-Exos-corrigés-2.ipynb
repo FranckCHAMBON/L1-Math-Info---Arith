{
 "cells": [
  {
   "cell_type": "markdown",
   "metadata": {},
   "source": [
    "> Une théorie mathématique ne doit être regardée comme parfaite que si elle a été rendue tellement claire qu’on peut la faire comprendre au premier individu rencontré dans la rue.  \n",
    "> **David Hilbert** en 1900"
   ]
  },
  {
   "cell_type": "markdown",
   "metadata": {},
   "source": [
    "## Exercice 1 - Les devoirs\n",
    "Factorisation d'un entier $n$ en $\\mathcal{O}(\\sqrt{n})$."
   ]
  },
  {
   "cell_type": "code",
   "execution_count": 16,
   "metadata": {
    "collapsed": false,
    "jupyter": {
     "outputs_hidden": false
    }
   },
   "outputs": [
    {
     "name": "stdout",
     "output_type": "stream",
     "text": [
      "factor(7) retourne : [(7, 1)]\n",
      "factor(8) retourne : [(2, 3)]\n",
      "factor(9) retourne : [(3, 2)]\n",
      "factor(10) retourne : [(2, 1), (5, 1)]\n",
      "factor(11) retourne : [(11, 1)]\n",
      "factor(12) retourne : [(2, 2), (3, 1)]\n",
      "factor(4953851) retourne : [(7, 2), (17, 1), (19, 1), (313, 1)]\n",
      "factor(600851475143) retourne : [(71, 1), (839, 1), (1471, 1), (6857, 1)]\n",
      "factor(14837457737) retourne : [(1471, 2), (6857, 1)]\n",
      "factor(2000000018) retourne : [(2, 1), (1000000009, 1)]\n"
     ]
    }
   ],
   "source": [
    "def factor(n):\n",
    "    \"\"\" Retourne une liste de couples (p, e),\n",
    "    n étant égal au produit des p^e\n",
    "    Exemple : factor(12) retourne\n",
    "              [(2, 2), (3, 1)]\n",
    "    Complexité : O(√(n))\n",
    "    \"\"\"\n",
    "    \n",
    "    assert n>0\n",
    "    Factor = []\n",
    "    p = 2\n",
    "    while n>1:\n",
    "        # début modification\n",
    "        if p*p > n:\n",
    "            # dans ce cas, n est égal à 1, ou bien premier\n",
    "            if n > 1:\n",
    "                Factor.append((n, 1))\n",
    "            return Factor\n",
    "        # fin modification\n",
    "        if n%p == 0:\n",
    "            n //= p\n",
    "            e = 1\n",
    "            while n%p == 0:\n",
    "                n //= p\n",
    "                e += 1\n",
    "            Factor.append((p, e))\n",
    "        p += 1\n",
    "    return Factor\n",
    "\n",
    "for n in range(7, 13):\n",
    "    print(\"factor({}) retourne :\".format(n), factor(n))\n",
    "\n",
    "for n in [4953851, 600851475143, 14837457737, 2000000018]:\n",
    "    print(\"factor({}) retourne :\".format(n), factor(n))\n"
   ]
  },
  {
   "cell_type": "markdown",
   "metadata": {},
   "source": [
    "Critique du script : dans le pire des cas (quand $n$ est un nombre pseudo-premier, ie composé de deux grands premiers), la boucle <kbd>while</kbd> fait presque $\\sqrt{n}$ tours ; on dit alors que l'algorithme est en $\\mathcal{O}(\\sqrt{n})$.\n",
    "\n",
    "**Devoirs pour la semaine suivante** :\n",
    "* Modifier ce script pour l'accélérer dans de nombreux cas. Imaginer que l'on dispose d'une fonction `isprime` très rapide, qui sera appelée à chaque fois qu'un facteur $p$ aura été identifié, et épuisé.   \n",
    "Il doit être fulgurant pour un nombre comme $n=120\\times p$ où $p$ est un grand nombre premier.  \n",
    "En pratique, pour un entier, au hasard, il y a _souvent_ plusieurs petits facteurs (ou moyens), et un grand. Mais pas toujours…  \n",
    "Le pire des cas restant quand un entier est composé de deux grands nombres premiers ; nous verrons des méthodes faciles qui fonctionnent dans certains cas particuliers (quand les grands facteurs sont proches).  Avant cela, il faut étudier comment tester très rapidement la primalité d'un entier.\n",
    "* Une autre façon d'accélérer ce script est de tester seulement les nombres premiers entre $2$ et $257$, et ensuite tester les entiers impairs ; voire uniquement certains. Proposer une modification en ce sens.\n",
    "* S'inscrire avec votre nom et prénom sur [SPOJ](http://www.spoj.com/) et choisir CERI comme institution. Résoudre les problèmes faciles suivants, dont la description est en anglais.\n",
    "\n",
    "    1. http://www.spoj.com/problems/TEST/ (la solution est en lien dans la description)\n",
    "\n",
    "    1. http://www.spoj.com/problems/SMPDIV/\n",
    "\n",
    "    1. http://www.spoj.com/problems/STRHH/\n",
    "\n",
    "    1. http://www.spoj.com/problems/ALCATRAZ1/\n",
    "\n",
    "    2. http://www.spoj.com/problems/PRIME1/\n",
    "\n",
    "    2. http://www.spoj.com/problems/AMR11E/\n",
    "\n",
    "    3. http://www.spoj.com/problems/ENIGMATH/\n",
    "\n",
    "    4. https://projecteuler.net/problem=23"
   ]
  },
  {
   "cell_type": "markdown",
   "metadata": {},
   "source": [
    "## Exercice 2 - Project Euler - three first ones\n",
    "**Problem 1**  \n",
    "If we list all the natural numbers below $10$ that are multiples of $3$ or $5$, we get $3$, $5$, $6$ and $9$. The sum of these multiples is $23$.\n",
    "\n",
    "Find the sum of all the multiples of $3$ or $5$ below $1000$.\n"
   ]
  },
  {
   "cell_type": "code",
   "execution_count": 6,
   "metadata": {
    "collapsed": false,
    "jupyter": {
     "outputs_hidden": false
    }
   },
   "outputs": [
    {
     "data": {
      "text/plain": [
       "233168"
      ]
     },
     "execution_count": 6,
     "metadata": {},
     "output_type": "execute_result"
    }
   ],
   "source": [
    "# force brute\n",
    "def PE001(n):\n",
    "    S = 0\n",
    "    for k in range(n):\n",
    "        if (k%3 == 0) or (k%5) == 0:\n",
    "            S += k\n",
    "    return S\n",
    "\n",
    "PE001(1000)"
   ]
  },
  {
   "cell_type": "code",
   "execution_count": 7,
   "metadata": {
    "collapsed": false,
    "jupyter": {
     "outputs_hidden": false
    }
   },
   "outputs": [
    {
     "name": "stdout",
     "output_type": "stream",
     "text": [
      "233168\n"
     ]
    }
   ],
   "source": [
    "# force brute mais plus élégante\n",
    "print(sum(k for k in range(1000) if not((k%3)*(k%5))))"
   ]
  },
  {
   "cell_type": "markdown",
   "metadata": {},
   "source": [
    "Pour une solution sans boucle :\n",
    "* trouver une formule pour $\\sum\\limits_{k=0}^{n}k$,\n",
    "* en déduire une formule pour $\\sum\\limits_{k=0}^{n}dk$,\n",
    "* trouver un lien entre les multiples de $3$ ou de $5$, les multiples de $3$, les multiples de $5$, et les multiples de $3$ et $5$ (ie ceux de $15$),\n",
    "* en déduire une formule pour `PE001(n)`,\n",
    "* lire le forum pour d'autres solutions. _Conseil : la page 5 est souvent très bonne._ \n",
    "---\n",
    "\n",
    "**Problem 2**  \n",
    "Each new term in the Fibonacci sequence is generated by adding the previous two terms. By starting with $1$ and $2$, the first 10 terms will be:\n",
    "\n",
    "$$1, 2, 3, 5, 8, 13, 21, 34, 55, 89, \\cdots$$\n",
    "\n",
    "By considering the terms in the Fibonacci sequence whose values do not exceed four million, find the sum of the even-valued terms.\n"
   ]
  },
  {
   "cell_type": "code",
   "execution_count": 9,
   "metadata": {
    "collapsed": false,
    "jupyter": {
     "outputs_hidden": false
    }
   },
   "outputs": [
    {
     "data": {
      "text/plain": [
       "4613732"
      ]
     },
     "execution_count": 9,
     "metadata": {},
     "output_type": "execute_result"
    }
   ],
   "source": [
    "# force brute\n",
    "def PE002(lim):\n",
    "    S, a, b = 0, 0, 1\n",
    "    while a <= lim:\n",
    "        if a%2 == 0:\n",
    "            S += a\n",
    "        a, b = b, a+b\n",
    "    return S\n",
    "\n",
    "PE002(4_000_000)"
   ]
  },
  {
   "cell_type": "code",
   "execution_count": 10,
   "metadata": {
    "collapsed": true,
    "jupyter": {
     "outputs_hidden": true
    }
   },
   "outputs": [],
   "source": [
    "# force brute mais plus élégante\n",
    "# -> lire le forum, il y a beaucoup à apprendre,\n",
    "# et dans de nombreux langage de programmation."
   ]
  },
  {
   "cell_type": "markdown",
   "metadata": {},
   "source": [
    "---\n",
    "**Problem 3**  \n",
    "The prime factors of $13195$ are $5$, $7$, $13$ and $29$.\n",
    "\n",
    "What is the largest prime factor of the number $600\\,851\\,475\\,143$ ?\n"
   ]
  },
  {
   "cell_type": "code",
   "execution_count": 11,
   "metadata": {
    "collapsed": false,
    "jupyter": {
     "outputs_hidden": false
    }
   },
   "outputs": [
    {
     "data": {
      "text/plain": [
       "6857"
      ]
     },
     "execution_count": 11,
     "metadata": {},
     "output_type": "execute_result"
    }
   ],
   "source": [
    "def PE003(n):\n",
    "    return factor(n)[-1][0]\n",
    "\n",
    "PE003(600851475143)"
   ]
  },
  {
   "cell_type": "markdown",
   "metadata": {},
   "source": [
    "## Exercice 3\n",
    "Montrer que $5$ est le seul nombre premier de la forme $n^4+4$.\n",
    "\n",
    "---\n",
    "**Correction :** On lance un script pour factoriser les premiers termes, afin de deviner un facteur pour le terme général."
   ]
  },
  {
   "cell_type": "code",
   "execution_count": 13,
   "metadata": {
    "collapsed": false,
    "jupyter": {
     "outputs_hidden": false
    }
   },
   "outputs": [
    {
     "name": "stdout",
     "output_type": "stream",
     "text": [
      "0 [(2, 2)]\n",
      "1 [(5, 1)]\n",
      "2 [(2, 2), (5, 1)]\n",
      "3 [(5, 1), (17, 1)]\n",
      "4 [(2, 2), (5, 1), (13, 1)]\n",
      "5 [(17, 1), (37, 1)]\n",
      "6 [(2, 2), (5, 2), (13, 1)]\n",
      "7 [(5, 1), (13, 1), (37, 1)]\n",
      "8 [(2, 2), (5, 2), (41, 1)]\n",
      "9 [(5, 1), (13, 1), (101, 1)]\n",
      "10 [(2, 2), (41, 1), (61, 1)]\n",
      "11 [(5, 1), (29, 1), (101, 1)]\n",
      "12 [(2, 2), (5, 1), (17, 1), (61, 1)]\n",
      "13 [(5, 1), (29, 1), (197, 1)]\n",
      "14 [(2, 2), (5, 1), (17, 1), (113, 1)]\n",
      "15 [(197, 1), (257, 1)]\n",
      "16 [(2, 2), (5, 1), (29, 1), (113, 1)]\n",
      "17 [(5, 2), (13, 1), (257, 1)]\n",
      "18 [(2, 2), (5, 1), (29, 1), (181, 1)]\n",
      "19 [(5, 2), (13, 1), (401, 1)]\n"
     ]
    }
   ],
   "source": [
    "for n in range(20):\n",
    "    print(n, factor(n**4 + 4))"
   ]
  },
  {
   "cell_type": "markdown",
   "metadata": {},
   "source": [
    "On constate que pour $n=9$ et $n=19$, le plus grand facteur est $(n+1)^2+1$, qui pourrait-être un polynôme candidat divisant $n^4+4$.\n",
    "\n",
    "Ce que l'on teste avec un script."
   ]
  },
  {
   "cell_type": "code",
   "execution_count": 14,
   "metadata": {
    "collapsed": false,
    "jupyter": {
     "outputs_hidden": false
    }
   },
   "outputs": [
    {
     "name": "stdout",
     "output_type": "stream",
     "text": [
      "Conjecture plausible.\n"
     ]
    }
   ],
   "source": [
    "for n in range(20):\n",
    "    assert (n**4 + 4)%( (n+1)**2 + 1) == 0, \"Conjecture fausse\"\n",
    "print(\"Conjecture plausible.\")"
   ]
  },
  {
   "cell_type": "markdown",
   "metadata": {},
   "source": [
    "On le prouve alors. Le polynome $n^4+4$ devrait être le produit de $(n+1)^2+1$ avec un autre polynôme de degré $2$, de la forme $an^2+bn+c$, avec $a,b,c$ entiers relatifs.  \n",
    "* En regardant le coefficient dominant, on déduit $a=1$.\n",
    "* En regardant pour $n=0$, on déduit $c=2$.  \n",
    "* En regardant pour $n=1$, on déduit $1 + 4 = 5 \\times (a+b+c)$, d'où $b=-2$.\n",
    "* Notre polynôme candidat donc est $n^2-2n+2 = (n-1)^2+1$. \n",
    "\n",
    "Il reste à vérifier que $n^4+4 = ( (n+1)^2+1)((n-1)^2+1)$.  \n",
    "Deux méthodes pour cela : \n",
    "1. Développer et réduire le membre de droite ; _boring, but legit_.\n",
    "2. Cette égalité polynomiale de degré $4$, _a priori_, est à vérifier uniquement en $5$ points pour être établie.\n",
    "    1. En $0$, on a $0+4 = (1+1)(1+1)$, clair.\n",
    "    2. En $\\pm1$, on a $1+4 = (4+1)(0+1)$, clair.\n",
    "    3. En $\\pm2$, on a $16+4 = (9+1)(1+1)$, clair.\n",
    "    \n",
    "Pour conclure le problème, il ne reste qu'à :\n",
    "* Affirmer que pour $n\\ne \\pm1$, on a $(n+1)^2+1>1$ et $(n-1)^2+1>1$, et donc $n^4+4$ est composé, donc non premier.\n",
    "* Affirmer que pour $n=\\pm1$, on a $n^4+1 = 5$ qui est donc le seul nombre premier de cette forme."
   ]
  },
  {
   "cell_type": "markdown",
   "metadata": {},
   "source": [
    "## Exercice 4\n",
    "Montrer par récurrence que pour tout entier $n$ le nombre $3^{2n+1} + 2^{n+2}$ est divisible par $7$."
   ]
  },
  {
   "cell_type": "code",
   "execution_count": 17,
   "metadata": {
    "collapsed": false,
    "jupyter": {
     "outputs_hidden": false
    }
   },
   "outputs": [
    {
     "name": "stdout",
     "output_type": "stream",
     "text": [
      "Conjecture plausible.\n"
     ]
    }
   ],
   "source": [
    "# Un script pour tester la conjecture\n",
    "for n in range(20):\n",
    "    assert (3**(2*n+1) + 2**(n+2))%7 == 0, \"Conjecture fausse.\"\n",
    "print(\"Conjecture plausible.\")"
   ]
  },
  {
   "cell_type": "markdown",
   "metadata": {},
   "source": [
    "**Démonstration par récurrence sur $\\mathbb{N}$:**  \n",
    "* Pour $n=0$, on a $3^{2n+1} + 2^{n+2} = 3^1+2^2 = 7$ qui est divisible par $7$.\n",
    "* Soit $n\\in \\mathbb{N}$, on suppose que $3^{2n+1} + 2^{n+2}$ est divisible par $7$. _(HR)_\n",
    "> $A= (3^{2n+1} + 2^{n+2})(9+2)$ est donc aussi divisible par $7$.  \n",
    "> $A= 3^{2n+3} + 2^{n+3} + 2\\times3^{2n+1} + 9\\times2^{n+2}$  \n",
    "> $A= 3^{2n+3} + 2^{n+3} + 2\\times(3^{2n+1} + 2^{n+2}) + 7\\times2^{n+2}$  \n",
    "> D'après _(HR)_, on déduit que $3^{2n+3} + 2^{n+3}$ est divisible par $7$.\n",
    "\n",
    "Ce qui prouve par récurrence la proposition.\n",
    "\n",
    "---"
   ]
  },
  {
   "cell_type": "markdown",
   "metadata": {},
   "source": [
    "## Exercice 5 - Crible d'Ératosthène\n",
    "Une première version.\n"
   ]
  },
  {
   "cell_type": "code",
   "execution_count": 22,
   "metadata": {
    "collapsed": false,
    "jupyter": {
     "outputs_hidden": false
    }
   },
   "outputs": [
    {
     "name": "stdout",
     "output_type": "stream",
     "text": [
      "[2, 3, 5, 7, 11, 13, 17, 19, 23, 29, 31, 37, 41, 43, 47]\n",
      "[999883, 999907, 999917, 999931, 999953, 999959, 999961, 999979, 999983, 1000003, 1000033, 1000037, 1000039, 1000081, 1000099]\n"
     ]
    }
   ],
   "source": [
    "lim = 1_000_100\n",
    "Crible = [1]*lim\n",
    "Crible[:2] = [0]*2\n",
    "p = 2\n",
    "while p*p<lim:\n",
    "    if Crible[p] == 1:\n",
    "        # p est alors premier,\n",
    "        # on 'coche' les multiples de p comme composés,\n",
    "        # il suffit de commencer à p²\n",
    "        for k in range(p*p, lim, p):\n",
    "            Crible[k] = 0\n",
    "    p += 1\n",
    "# On construit alors la liste :\n",
    "Prime = []\n",
    "for p in range(lim):\n",
    "    if Crible[p] == 1:\n",
    "        Prime.append(p)\n",
    "\n",
    "# On en affiche un peu\n",
    "print(Prime[:15])\n",
    "print(Prime[-15:])"
   ]
  },
  {
   "cell_type": "markdown",
   "metadata": {},
   "source": [
    "**Critique du script :**\n",
    "* Python utilise une place importante en mémoire pour stocker des entiers, alors qu'ici un seul bit est utilisé ; non seulement utiliser beacoup de mémoire ralentit considérablement le script, mais en plus la limite est vite atteinte.\n",
    "    * Un première idée est d'utiliser une structure de données moins gourmande, il existe `bytearray` en Python qui prend un octet par élément, c'est un premier pas. En `C++` il existe les `bitset` taillés pour ça.\n",
    "    * Une autre idée est de faire le crible tranche par tranche, ainsi la mémoire utilisée est nettement réduite, et peut rentrer entièrement en mémoire cache qui est nettement plus rapide.\n",
    "* Il existe d'autres cribles avec une meilleure complexité théorique, mais en pratique Eratosthène restera un choix très judicieux du fait de sa simplicité et des nombreuses optimisations possibles."
   ]
  },
  {
   "cell_type": "markdown",
   "metadata": {},
   "source": [
    "## Exercice 6\n",
    "**Un problème indispensable** : ici on jette les bases d'une méthode pour factoriser très rapidement une grande quantité de 'petits' nombres.\n",
    "\n",
    "Construire la liste ```factorMini``` **indexée à zéro**, de longueur un million, telle que :\n",
    "* ```factorMini[0] = 0```, inutilisé.\n",
    "* ```factorMini[1] = 1```\n",
    "* ```factorMini[n] = p```, où $p$ est le plus petit facteur premier de $n>1$.\n",
    "\n",
    "Cette [liste](https://oeis.org/A020639) commence donc par : ```[0, 1, 2, 3, 2, 5, 2, 7, 2, 3, ...```\n",
    "\n",
    "Par exemple, en 9<sup>ème</sup> position, $9$ est composé et son plus petit facteur premier est $3$. \n",
    "\n",
    "\n",
    "**Conseil :** s'inspirer du crible d'Ératosthène."
   ]
  },
  {
   "cell_type": "markdown",
   "metadata": {},
   "source": [
    "---\n",
    "**Correction :** L'objectif ici n'est pas de factoriser un nombre, mais de nombreux. Dans ce cas, l'utilisation d'une liste est très utile.\n",
    "\n",
    "* On initialise une liste $u_n = n$.\n",
    "* On itère sur les premiers termes, et si $u_p$ est resté à $p$, c'est qu'il est premier, dans ce cas, chacun de ses multiples est à traiter :\n",
    "    * ou bien, il avait déjà un facteur premier signalé, on le laisse,\n",
    "    * ou bien, on indique que $p$ est le plus petit facteur premier de cet entier. \n",
    "\n",
    "À construire en TD.\n",
    "\n",
    "Réfléchir à l'utilisation d'une telle liste pour factoriser rapidement un entier."
   ]
  }
 ],
 "metadata": {
  "kernelspec": {
   "display_name": "Python 3",
   "language": "python",
   "name": "python3"
  },
  "language_info": {
   "codemirror_mode": {
    "name": "ipython",
    "version": 3
   },
   "file_extension": ".py",
   "mimetype": "text/x-python",
   "name": "python",
   "nbconvert_exporter": "python",
   "pygments_lexer": "ipython3",
   "version": "3.7.5"
  }
 },
 "nbformat": 4,
 "nbformat_minor": 4
}
