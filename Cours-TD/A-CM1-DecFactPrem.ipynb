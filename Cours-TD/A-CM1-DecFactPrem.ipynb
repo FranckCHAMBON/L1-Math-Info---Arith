{
 "cells": [
  {
   "cell_type": "markdown",
   "metadata": {
    "collapsed": false
   },
   "source": [
    "> _Die Mathematik ist die Königin der Wissenschaften und die Zahlentheorie ist die Königin der Mathematik._\n",
    "> **Carl Friedrich Gauss**"
   ]
  },
  {
   "cell_type": "markdown",
   "metadata": {
    "collapsed": false
   },
   "source": [
    "Le cours et les exercices feront parfois appel à Python3 pour illustrer les méthodes.\n",
    "\n",
    "# CM 1 : Décomposition en facteurs premiers\n",
    "\n",
    "L'ensemble des entiers naturels non nuls se note $\\mathbb{N}^*$, il s'agit de $\\{1, 2, 3, 4, 5, \\cdots\\}$\n",
    "\n",
    "Dans tout ce qui suit : $a, b, n \\in \\mathbb{N}^*$."
   ]
  },
  {
   "cell_type": "markdown",
   "metadata": {
    "collapsed": false
   },
   "source": [
    "## I] Opérations élémentaires sur $\\mathbb{N}^*$\n",
    "\n",
    "Python3 est capable de travailler avec des entiers aussi grands que la mémoire de l'ordinateur le permet. Les opérations élémentaires respectent les priorités. La puissance s'obtient avec ```**```.\n",
    "\n",
    "> #### Exemple   \n",
    "> Calculer $A = (10^9+7)^4$"
   ]
  },
  {
   "cell_type": "code",
   "execution_count": 1,
   "metadata": {
    "collapsed": false
   },
   "outputs": [
    {
     "data": {
      "text/plain": [
       "1000000028000000294000001372000002401"
      ]
     },
     "execution_count": 1,
     "metadata": {
     },
     "output_type": "execute_result"
    }
   ],
   "source": [
    "(10**9 + 7)**4"
   ]
  },
  {
   "cell_type": "markdown",
   "metadata": {
    "collapsed": false
   },
   "source": [
    "### La division euclidienne\n",
    "\n",
    "* Le **dividende** étant la quantité à partager.\n",
    "* Le **diviseur** étant le nombre de parts ; non nul.\n",
    "* On souhaite un **quotient** entier et un **reste**.\n",
    "\n",
    "On a bien $b \\neq 0$, et :\n",
    "\n",
    "> $a\\div b \\rightarrow (q, r)$,  \n",
    "> où $a=b\\times q + r$, avec $0\\leqslant r<d$.\n",
    "\n",
    "> $a$ est le dividende, $b$ est le diviseur.  \n",
    "> $q$ est le quotient,  $r$ est le reste.\n",
    "\n",
    "On parle de **division modulo** $b$, (*divmod* en abrégé).\n",
    "\n",
    "> $410\\div 30 \\rightarrow$ quotient $= 13$, reste $= 20$,  \n",
    "> on a bien $410 = 30\\times 13 + 20$, et $0 \\leqslant 20 < 30$.\n",
    "\n",
    "> $410\\div 13 \\rightarrow$ quotient $= 30$ , reste $= 20$ ; **est faux**,  \n",
    "> on a bien $410 = 13\\times 30 + 20$, mais pas $0 \\leqslant 20 < 13$."
   ]
  },
  {
   "cell_type": "code",
   "execution_count": 2,
   "metadata": {
    "collapsed": false
   },
   "outputs": [
    {
     "name": "stdout",
     "output_type": "stream",
     "text": [
      "True\n",
      "True\n"
     ]
    }
   ],
   "source": [
    "print(13*30 + 20 == 410)\n",
    "print(20 < 30)"
   ]
  },
  {
   "cell_type": "markdown",
   "metadata": {
    "collapsed": false
   },
   "source": [
    "Avec Python3, le quotient entier de $a$ par $b$ s'obtient avec ```a//b```,   \n",
    "et le reste dans cette division s'obtient avec ```a%b```.  \n",
    "On peut aussi obtenir le quotient et le reste simultanément avec ```divmod(a, b)```.\n",
    "\n",
    "> **Exemple, **  avec la situation précédente :"
   ]
  },
  {
   "cell_type": "code",
   "execution_count": 3,
   "metadata": {
    "collapsed": false
   },
   "outputs": [
    {
     "name": "stdout",
     "output_type": "stream",
     "text": [
      "13\n",
      "20\n",
      "(13, 20)\n",
      "(31, 7)\n"
     ]
    }
   ],
   "source": [
    "print(410//30)\n",
    "print(410%30)\n",
    "print(divmod(410, 30))\n",
    "print(divmod(410, 13))"
   ]
  },
  {
   "cell_type": "markdown",
   "metadata": {
    "collapsed": false
   },
   "source": [
    "> #### Exercice :\n",
    "\n",
    "> Quels sont les 3 derniers chiffres de $42$ à la puissance $1337$ ?\n",
    "\n",
    "> *Une méthode : calculer la puissance, puis son reste modulo $1000$.*\n"
   ]
  },
  {
   "cell_type": "code",
   "execution_count": 2,
   "metadata": {
    "collapsed": false
   },
   "outputs": [
    {
     "name": "stdout",
     "output_type": "stream",
     "text": [
      "552\n"
     ]
    }
   ],
   "source": [
    "#print(42**1337)\n",
    "print((42**1337)%1000)"
   ]
  },
  {
   "cell_type": "markdown",
   "metadata": {
    "collapsed": false
   },
   "source": [
    "> **Réponse** : Les trois derniers chiffres sont donc : 5, 5 et 2.\n",
    "\n",
    "> Ce genre de question est fondamental pour les applications comme la cryptographie ; il existe des méthodes bien plus efficaces ! La sécurité  (informatique, bancaire, militaire), repose en partie sur ces méthodes."
   ]
  },
  {
   "cell_type": "markdown",
   "metadata": {
    "collapsed": false
   },
   "source": [
    "## II] Diviseurs et multiples\n",
    "Dans $\\mathbb{N}^*$, les **multiples** de $a$ sont : $a, 2a, 3a, 4a, \\cdots$\n",
    "\n",
    "> $an$ est un multiple de $a$, mais aussi de $n$.\n",
    "\n",
    "> $11 \\times 13 = 143$, donc $143$ est un multiple de $11$ et de $13$.\n",
    "\n",
    "> Les multiples de $7$ sont : $7, 14, 21, 28, \\cdots$\n",
    "\n",
    "« $k$ est un **diviseur** de $a$ » équivaut à « $a$ est un multiple de $k$ ».\n",
    "\n",
    "On note dans ce cas « $k \\mid a$ », et on peut dire « $k$ divise $a$ ».\n",
    "\n",
    "Dans le cas contraire, on note « $k \\nmid a$ », et on peut dire « $k$ ne divise pas $a$ ».\n",
    "\n",
    "> **Exemples** :  \n",
    "> Ainsi, avec $1 \\times 143 = 143$ et $11 \\times 13 = 143$, on a :\n",
    "\n",
    "> $143$ est un multiple de $1$, et donc $1$ est un diviseur de $143$.\n",
    "\n",
    "> $143$ est un multiple de $11$, et donc $11$ est un diviseur de $143$.\n",
    "\n",
    "> $143$ est un multiple de $13$, et donc $13$ est un diviseur de $143$.\n",
    "\n",
    "> $143$ est un multiple de $143$, et donc $143$ est un diviseur de $143$.\n",
    "\n",
    "> $1, 11, 13, 143$ sont des diviseurs de $143$.  \n",
    "Y en a-t-il d'autres ? Cf III]\n",
    "\n",
    "**Propriété :** $a \\mid n \\iff $ le reste dans la division de $n$ par $a$ est nul.\n",
    "\n",
    "> **Exemple,** avec Python3, on calcule ce reste avec ```n%a```.\n"
   ]
  },
  {
   "cell_type": "code",
   "execution_count": 1,
   "metadata": {
    "collapsed": false
   },
   "outputs": [
    {
     "name": "stdout",
     "output_type": "stream",
     "text": [
      "143 est divisible par 13\n"
     ]
    }
   ],
   "source": [
    "n, a = 143, 13\n",
    "if n%a == 0:\n",
    "    print(\"{} est divisible par {}\".format(n, a))\n",
    "else:\n",
    "    print(n, \"n'est pas divisible par\", a)"
   ]
  },
  {
   "cell_type": "markdown",
   "metadata": {
    "collapsed": false
   },
   "source": [
    "## III] Liste des diviseurs\n",
    "\n",
    "On rappelle que $a$, $b$ et $n$ sont des entiers non nuls.\n",
    "\n",
    "**Propriété** : si $a$ est un diviseur de $n$, alors $\\dfrac{n}{a}$ est entier et aussi un diviseur de $n$.\n",
    "\n",
    "> *Preuve* : Si $a$ est un diviseur de $n$, alors $\\exists\\ b \\in \\mathbb{N}^*$ tel que $a \\times b = n$, ainsi $b = \\dfrac{n}{a}$ est entier et un diviseur de $n$.\n",
    "\n",
    "**Propriété** : Si $a\\times b=n$, avec $a < b$, alors $a < \\sqrt{n}$.\n",
    "\n",
    "> *Preuve 1* : $a\\times a < a\\times b = n$, avec $\\sqrt{\\cdot}$ croissante sur $\\mathbb{R}^+$, on a: $a < \\sqrt{n}$.\n",
    "\n",
    "> *Preuve 2* : Si $\\sqrt{n} < a < b$, alors $a\\times b > (\\sqrt{n})^2 = n$ ; absurde."
   ]
  },
  {
   "cell_type": "markdown",
   "metadata": {
    "collapsed": false
   },
   "source": [
    "**Utilisation** : Pour obtenir la liste des diviseurs de $n$ non nul, il suffit de trouver ceux inférieurs à $\\sqrt{n}$, d'y adjoindre leur 'binôme', et de tester éventuellement $\\sqrt{n}$.\n",
    "\n",
    "> **Exemple 1** : Trouver la liste des diviseurs de $345$.  \n",
    "> On va tester tous les diviseurs de $1$ jusqu'à $18$. En effet,  $18<\\sqrt{345} < 19$.  \n",
    "> $345 = 1\\times 345$  \n",
    "> $345 = 3\\times 115$  \n",
    "> $345 = 5\\times 69$  \n",
    "> $345 = 15\\times 23$  \n",
    "> La liste des diviseurs de $345$ est $\\{1, 3, 5, 15, 23, 69, 115, 345\\}$ , il y en a $8$.  \n",
    "\n",
    "Il faut ne compter qu'une fois les diviseurs d'un carré, comme $36 \\dots$ \n",
    "\n",
    "> **Exemple 2** : Trouver la liste des diviseurs de $36$.  \n",
    "> On va tester tous les diviseurs de $1$ jusqu'à $\\sqrt{36} = 6$.  \n",
    "> $36 = 1\\times 36$  \n",
    "> $36 = 2\\times 18$  \n",
    "> $36 = 3\\times 12$  \n",
    "> $36 = 4\\times 9$  \n",
    "> $36 = 6\\times 6$  \n",
    "> La liste des diviseurs de $36$ est $\\{1, 2, 3, 4, 6, 9,  12, 18, 36 \\}$ , il y en a $9$.  \n",
    "\n",
    "**Remarques** :   \n",
    "$1$ ne possède qu'un seul diviseur : lui-même. _C'est le seul tel nombre._  \n",
    "$2$ possède exactement deux diviseurs : $1$ et lui-même.  \n",
    "$3$ possède exactement deux diviseurs : $1$ et lui-même.  \n",
    "$4$ possède exactement trois diviseurs : $1$, lui-même, et $2$.  \n",
    "$5$ possède exactement deux diviseurs : $1$ et lui-même.  \n",
    "\n",
    "> **Exercice** : (à faire en TD) Créer un script qui donne la somme des diviseurs d'un entier."
   ]
  },
  {
   "cell_type": "markdown",
   "metadata": {
    "collapsed": false
   },
   "source": [
    "### IV] Nombres premiers\n",
    "Pour tout entier $n>1$, $1\\times n = n$, donc $n$ possède au moins deux diviseurs : $1$ et lui-même.\n",
    "\n",
    "**Définition** : Un nombre premier est un entier qui a exactement deux diviseurs : $1$ et lui-même.\n",
    "\n",
    "> Les nombres premiers inférieurs à $20$ sont : $2, 3, 5, 7, 11, 13, 17, 19$.\n",
    "\n",
    "**Remarque** : Un entier $n>1$ est soit premier, soit **composé**.  \n",
    "Son plus petit diviseur, excepté $1$, est premier.  \n",
    "> $1$ est à part, il n'est ni premier, ni composé. \n",
    "\n",
    "\n",
    "**Théorème** : Il y a une infinité de nombres premiers.\n",
    "> _Preuve 1_ : Soit $n \\in \\mathbb{N}^*$, on considère $N = 1 + n!$, qui n'a aucun diviseur entre $2$ et $n$, donc son plus petit diviseur est supérieur à $n$, il est premier. On déduit qu'il y a des nombres premiers aussi grands que l'on veut, une infinité donc.\n",
    "\n",
    "> _Preuve 2_ : Par l'absurde, supposons qu'il y ait un nombre fini de nombres premiers notés $p_i$ (pour $i$ de $1$ à $k$). On considère $N = 1+p_1\\times p_2\\times \\dots p_i \\dots\\times p_k$. On sait que $2$ est premier, donc $k>0$ et $N>1$ qui possède alors un plus petit diviseur (hors $1$) qui est un nombre premier $p_j$. Cependant le reste de la division de $N$ par $p_j$ est $1$ qui n'est donc pas un diviseur. Contradiction."
   ]
  },
  {
   "cell_type": "code",
   "execution_count": 1,
   "metadata": {
    "collapsed": false
   },
   "outputs": [
    {
     "name": "stdout",
     "output_type": "stream",
     "text": [
      "2, 3, 5, 7, 11, 13, 17, 19, "
     ]
    }
   ],
   "source": [
    "def is_prime(n):\n",
    "    if n<2: return False\n",
    "    for d in range(2, n):\n",
    "        if n%d==0: return False\n",
    "    return True\n",
    "\n",
    "for n in range(20):\n",
    "    if is_prime(n): print(n, end=\", \")"
   ]
  },
  {
   "cell_type": "markdown",
   "metadata": {
    "collapsed": false
   },
   "source": [
    "Cette méthode est lente avec des nombres $n$ trop grands, (comme un milliard ou plus).  \n",
    "Dans le pire des cas, la boucle de *is_prime* fait presque $n$ tours, donc un nombre d'opérations proportionnel à $n$. On dit alors que sa compléxité temporelle est en $\\mathcal{O}(n)$."
   ]
  },
  {
   "cell_type": "code",
   "execution_count": 2,
   "metadata": {
    "collapsed": false
   },
   "outputs": [
    {
     "name": "stdout",
     "output_type": "stream",
     "text": [
      "1000000007, 1000000009, 1000000021, 1000000033, 1000000087, 1000000093, 1000000097, "
     ]
    }
   ],
   "source": [
    "def is_prime(n):\n",
    "    if n<2: return False\n",
    "    for d in range(2, n):\n",
    "        if n%d==0: return False\n",
    "        if d*d>n: return True\n",
    "    return True\n",
    "\n",
    "for n in range(10**9, 10**9+100):\n",
    "    if is_prime(n): print(n, end=\", \")"
   ]
  },
  {
   "cell_type": "markdown",
   "metadata": {
    "collapsed": false
   },
   "source": [
    "Cette méthode fait, dans le pire des cas, presque $\\sqrt{n}$ tours de boucle pour savoir si $n$ est premier. On dit alors que sa compléxité temporelle est en $\\mathcal{O}(\\sqrt{n})$.\n",
    "\n",
    "Elle sera lente pour des entiers premiers de $18$ chiffres ou plus, ou composés avec le plus petit facteur premier à $9$ chiffres ou plus. Dans ces cas, elle fera plus d'un milliard d'opérations, ce qui n'est pas instantané. Elle restera rapide pour des nombres très grands qui possèdent un petit facteur premier, comme $101!+17$ qui est divisible par $17$."
   ]
  },
  {
   "cell_type": "markdown",
   "metadata": {
    "collapsed": false
   },
   "source": [
    "**Propriété** : Tout entier supérieur à $1$ est produit de nombres premiers. On parle de **décomposition en facteurs premiers**. Elle est unique, à l'ordre près des facteurs.\n",
    "\n",
    "**Exercice** : Donner la décomposition en facteurs premiers de $2325$.\n",
    "> On commence par chercher les petits facteurs premiers :  \n",
    "> $2$ n'est pas facteur ; $3$, oui. $2325 = 3 \\times  775$  \n",
    "> On continue avec $775$ à décomposer, et on reprend par $3$, puis $5$, $7$, $11$, ...  \n",
    "> $775 = 5 \\times  155$, donc $2325 = 3 \\times  5 \\times  155$  \n",
    "> $155 = 5 \\times  31$, et on reconnait $31$ comme nombre premier. Ainsi :  \n",
    "> $2325 = 3 \\times  5 \\times  5 \\times  31$ est la décomposition en facteurs premiers.\n",
    "\n",
    "Pour en lire davantage : [https://fr.wikipedia.org/wiki/Nombre_premier](https://fr.wikipedia.org/wiki/Nombre_premier)"
   ]
  },
  {
   "cell_type": "markdown",
   "metadata": {
    "collapsed": false
   },
   "source": [
    "## V] PGCD, PPCM\n",
    "On rappelle que $a$, $b$ et $n$ sont des entiers non nuls.\n",
    "\n",
    "On note $\\mathcal{D}(a)$ l'ensemble des diviseurs de $a$, c'est un ensemble non vide et fini, $a$ étant le plus grand élément.\n",
    "\n",
    "**Propriété :** $1$ appartient à $\\mathcal{D}(a)$ et $\\mathcal{D}(b)$, ainsi leur intersection est non vide, qui est de plus une partie finie. Cette intersection possède donc un plus grand élément.\n",
    "\n",
    "**Définitions :**\n",
    "* $\\textrm{PGCD}(a, b)$ est le plus grand élément de $\\mathcal{D}(a) \\cap \\mathcal{D}(b)$.  \n",
    "C'est le **P**lus **G**rand **C**ommun **D**iviseur, ([*gcd*](https://en.wikipedia.org/wiki/Greatest_common_divisor) : greatest common divisor ; in english).\n",
    "\n",
    "* $\\textrm{PPCM}(a, b)$ est le **P**lus **P**etit **C**ommun **M**ultiple à $a$ et $b$, ([*lcm*](https://en.wikipedia.org/wiki/Least_common_multiple) : least common multiple ; in english). C'est un entier inférieur ou égal à $ab$ qui est un multiple commun trivial."
   ]
  },
  {
   "cell_type": "markdown",
   "metadata": {
    "collapsed": false
   },
   "source": [
    "> **Exemple**  \n",
    "> $\\mathcal{D}(9) = \\{1, 3, 9\\}$ et\n",
    "> $\\mathcal{D}(14) = \\{1, 2, 7, 14\\}$, donc  \n",
    "> $\\mathcal{D}(9) \\cap \\mathcal{D}(14) = \\{1\\}$.\n",
    "> Enfin $\\textrm{PGCD}(9, 14) = 1$.\n",
    "\n",
    "> Les multiples de $12$ sont : $12, 24, 36, 48, 60, 72\\dots$  \n",
    "> Les multiples de $15$ sont : $15, 30, 45, 60, 75, \\dots$  \n",
    "> > Ainsi $\\textrm{PPCM}(12, 15) = 60$."
   ]
  },
  {
   "cell_type": "markdown",
   "metadata": {
    "collapsed": false
   },
   "source": [
    "**Méthode :** avec la décomposition en facteurs premiers.\n",
    "* On peut calculer le **PGCD** ; on prend le **minimum** des exposants correspondants.\n",
    "* On peut calculer le **PPCM** ; on prend le **maximum** des exposants correspondants."
   ]
  },
  {
   "cell_type": "markdown",
   "metadata": {
    "collapsed": false
   },
   "source": [
    "> **Exemple**  \n",
    "> Avec $a = 2^7 \\times  3^2 \\times  7 \\times  11$, et $b = 2^5 \\times  3^4 \\times  7^3 \\times  13$, on a :\n",
    "\n",
    "> * $ab = 2^{7+5} \\times  3^{2+4} \\times  7^{1+3} \\times  11 \\times  13 = 2^{12} \\times  3^6 \\times  7^4 \\times  11 \\times  13$  \n",
    "\n",
    "> * $\\textrm{PGCD}(a, b) = 2^{\\textrm{min}(7, 5)} \\times  3^{\\textrm{min}(2, 4)} \\times  7^{\\textrm{min}(1, 3)} = 2^5\\times 3^2\\times 7$.\n",
    "\n",
    "> * $\\textrm{PPCM}(a, b) = 2^{\\textrm{max}(7, 5)} \\times  3^{\\textrm{max}(2, 4)} \\times  7^{\\textrm{max}(1, 3)} \\times  11 \\times  13$  \n",
    ">$\\textrm{PPCM}(a, b) = 2^7\\times 3^4\\times 7^3\\times 11\\times 13$."
   ]
  },
  {
   "cell_type": "markdown",
   "metadata": {
    "collapsed": false
   },
   "source": [
    "**Propriété :** $\\textrm{PGCD}(a, b) \\times  \\textrm{PPCM}(a, b) = ab$\n",
    "> **Exemple**  \n",
    "> $(2^5\\times 3^2\\times 7)\\times (2^7\\times 3^4\\times 7^3\\times 11\\times 13) = 2^{12} \\times  3^6 \\times  7^4 \\times  11 \\times  13$  \n",
    "\n",
    "> **Preuve**  \n",
    "> Pour tous entiers $i$ et $j$, on a : $\\textrm{min}(i, j) + \\textrm{max}(i, j) = i+j$"
   ]
  }
 ],
 "metadata": {
  "kernelspec": {
   "display_name": "SageMath (stable)",
   "language": "sagemath",
   "name": "sagemath"
  },
  "language_info": {
   "codemirror_mode": {
    "name": "ipython",
    "version": 2
   },
   "file_extension": ".py",
   "mimetype": "text/x-python",
   "name": "python",
   "nbconvert_exporter": "python",
   "pygments_lexer": "ipython2",
   "version": "2.7.15"
  }
 },
 "nbformat": 4,
 "nbformat_minor": 0
}
