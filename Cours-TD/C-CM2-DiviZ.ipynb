{
 "cells": [
  {
   "cell_type": "markdown",
   "metadata": {
    "collapsed": false
   },
   "source": [
    "> _Un mathématicien ce n’est pas quelqu’un qui passe son temps à faire des calculs, c’est quelqu’un qui trouve des techniques pour ne pas avoir à les faire._\n",
    "> **Anonyme**"
   ]
  },
  {
   "cell_type": "markdown",
   "metadata": {
    "collapsed": false
   },
   "source": [
    "# CM2 : Divisibilité dans $\\mathbb{Z}$\n",
    "\n",
    "$\\mathbb{Z} = \\{\\dots,-3, -2, -1, 0, 1, 2, 3,\\dots \\}$ est l'ensemble des entiers relatifs.\n",
    "\n",
    "Dans ce cours, on généralise à $\\mathbb{Z}$ les notions de divisibilité, de division euclidienne, de PGCD. On découvre l'algorithme d'Euclide."
   ]
  },
  {
   "cell_type": "markdown",
   "metadata": {
    "collapsed": false
   },
   "source": [
    "## I] Définition, premières propriétés\n",
    "\n",
    "### Définition\n",
    "Soit $a, b \\in \\mathbb{Z}$, on dit que $a$ divise $b$, et on note $a\\mid b$,  \n",
    "s'il existe un entier $k \\in \\mathbb{Z}$ tel que $b=ak$.  \n",
    "Dans ce cas, $b$ est un multiple de $a$.  \n",
    "$a\\nmid b$ signifie : $a$ ne divise pas $b$."
   ]
  },
  {
   "cell_type": "markdown",
   "metadata": {
    "collapsed": false
   },
   "source": [
    "### Propriétés\n",
    "Soient $a,b,c$ trois entiers relatifs.\n",
    "1. $1\\mid a$ ; _($1$ est toujours un diviseur, de tout entier)_\n",
    "2. Si $a\\mid 1$, alors $a=\\pm 1$ ; _($\\pm1$ sont les seuls inversibles de $\\mathbb{Z}$)_\n",
    "3. Si $a\\mid b$, alors $\\pm a\\mid \\pm b$ ; _(Le signe n'a pas d'importance)_\n",
    "4.  $a\\mid 0$ ; _(zéro est multiple de tout entier ; tous les entiers divisent zéro)_\n",
    "5.  Si $0\\mid a$, alors $a=0$ ; _(autrement dit : zéro ne divise que zéro)_\n",
    "6. $a\\mid a$ ; _(réflexivité)_\n",
    "7. Si $a\\mid b$ et $b\\mid c$, alors $a\\mid c$ ; _(transitivité)_\n",
    "8. Si $a\\mid b$ et $a\\mid c$, alors $a\\mid b+c$ ; \n",
    "9. Si $a\\mid b$, alors $a\\mid bc$ et $ac\\mid bc$;\n",
    "10. Si  $ac\\mid bc$ avec $c\\neq 0$, alors $a\\mid b$ ;\n",
    "11. Si  $a\\mid b$ avec $b\\neq 0$, alors $0<|a| \\leqslant |b|$ ;\n",
    "12. Si  $a\\mid b$ et $b\\mid a$ , alors $a=\\pm b$ ;"
   ]
  },
  {
   "cell_type": "markdown",
   "metadata": {
    "collapsed": false
   },
   "source": [
    "**Une propriété très utile**\n",
    "> Avec $a, b, c, u, v \\in \\mathbb{Z}$,\n",
    ">  si $a\\mid b$ et $a\\mid c$, alors $a\\mid ub+vc$\n",
    "\n",
    "> > *Preuve* : On a : $b = k_1 a$, et $c = k_2 a$, avec $k_1, k_2 \\in \\mathbb{Z}$, ainsi  \n",
    "> > $ub+vc = uk_1 a + vk_2 a = (uk_1 + vk_2) a$,  avec $(uk_1 + vk_2) \\in \\mathbb{Z}$  \n",
    "> > On conclut que : $a\\mid ub+vc$"
   ]
  },
  {
   "cell_type": "markdown",
   "metadata": {
    "collapsed": false
   },
   "source": [
    "## II] Division euclidienne\n",
    "### Théorème\n",
    "Pour $a,b \\in \\mathbb{Z}$, avec $b\\neq 0$, $\\exists! \\;q,r \\in \\mathbb{Z}$, tel que $a=bq+r$, et $0\\leqslant r<|b|$.\n",
    "\n",
    "**Attention**, avec Python et <kbd>divmod</kbd> ou <kbd>%</kbd>, si $b<0$, le reste $r$ vérifie alors $b<r\\leqslant 0$.  \n",
    "Mais on a toujours $a=bq+r$.  \n",
    "Avec d'autres langages de programmation, il faudra vérifier la règle !"
   ]
  },
  {
   "cell_type": "code",
   "execution_count": 13,
   "metadata": {
    "collapsed": false
   },
   "outputs": [
    {
     "name": "stdout",
     "output_type": "stream",
     "text": [
      "-13 divisé par 3 => quotient : -5 ; reste : 2\n",
      "Vérification : -13 = 3*-5 + 2  et  0 <= 2 < 3\n",
      "\n",
      "-12 divisé par 3 => quotient : -4 ; reste : 0\n",
      "Vérification : -12 = 3*-4 + 0  et  0 <= 0 < 3\n",
      "\n",
      "12 divisé par 3 => quotient : 4 ; reste : 0\n",
      "Vérification : 12 = 3*4 + 0  et  0 <= 0 < 3\n",
      "\n",
      "13 divisé par 3 => quotient : 4 ; reste : 1\n",
      "Vérification : 13 = 3*4 + 1  et  0 <= 1 < 3\n",
      "\n",
      "-13 divisé par -3 => quotient : 4 ; reste : -1\n",
      "Vérification : -13 = -3*4 + -1  et  b < -1 <= 0\n",
      "\n",
      "-12 divisé par -3 => quotient : 4 ; reste : 0\n",
      "Vérification : -12 = -3*4 + 0  et  b < 0 <= 0\n",
      "\n",
      "12 divisé par -3 => quotient : -4 ; reste : 0\n",
      "Vérification : 12 = -3*-4 + 0  et  b < 0 <= 0\n",
      "\n",
      "13 divisé par -3 => quotient : -5 ; reste : -2\n",
      "Vérification : 13 = -3*-5 + -2  et  b < -2 <= 0\n",
      "\n"
     ]
    }
   ],
   "source": [
    "for b in [+3, -3]:\n",
    "    for a in [-13, -12, +12, +13]:\n",
    "        q, r = divmod(a, b)\n",
    "        q, r = a//b, a%b\n",
    "        print(a, \"divisé par\", b, \"=> quotient :\", q, \"; reste :\", r)\n",
    "        print(\"Vérification :\", a, \"=\", str(b)+\"*\"+str(q), \"+\", r, end=\"  et  \")\n",
    "        if b>0:\n",
    "            print(\"0 <=\", r, \"<\", b)\n",
    "        else:\n",
    "            print(\"b\", \"<\", r, \"<= 0\")\n",
    "        print()"
   ]
  },
  {
   "cell_type": "markdown",
   "metadata": {
    "collapsed": false
   },
   "source": [
    "### Propriété\n",
    "$a \\mid b$ si et seulement si $b=0$  **ou alors** le reste de la division euclidienne de $b$ par $a$ est $0$.\n"
   ]
  },
  {
   "cell_type": "markdown",
   "metadata": {
    "collapsed": false
   },
   "source": [
    "## III] PGCD de deux entiers\n",
    "### Définition\n",
    "Pour tout entier $a$, on note $\\mathcal{D}(a)$ l'ensemble des diviseurs de $a$.\n",
    "$$\\mathcal{D}(a) =  \\{k \\in\\mathbb{Z} \\text{ tels que } k\\mid a\\}$$\n",
    "\n",
    "Par exemple :\n",
    "$$\\mathcal{D}(24) =  \\{\\pm1,\\pm2,\\pm3,\\pm4,\\pm6,\\pm8,\\pm12,\\pm24\\}$$\n",
    "\n",
    "On a toujours :\n",
    "1. $\\pm1, \\pm a \\in \\mathcal{D}(a)$ ;\n",
    "2. $\\mathcal{D}(0) = \\mathbb{Z}$ ;\n",
    "3. Si $a\\neq 0$, alors $\\mathcal{D}(a) \\subseteq [\\![-|a|..|a|]\\!]$.\n",
    "\n",
    "Soient $a, b \\in \\mathbb{Z}$, dont un non nul au moins, on appelle **PGCD** de $a$ et $b$ _(**P**lus **G**rand **C**ommun **D**iviseur)_, et on note $a \\land b$, le plus grand entier divisant à la fois $a$ et $b$.\n",
    "\n",
    "**Attention :** On étend cette définition en posant $0 \\land 0 = 0$ ; mais cela traduit toujours que tous les entiers divisent $0$. Dans ce cas seul, cela ne traduit pas que $0$ est le plus grand diviseur commun à $0$ et $0$ !!!\n",
    "\n",
    "### Propriétés\n",
    "Pour $a, b \\in \\mathbb{Z}$, on a :\n",
    "1. $a\\land b = b\\land a$ ;\n",
    "2. $a\\land b = \\pm a\\land \\pm b$ ;\n",
    "3. $a\\land 0 = 0\\land a = |a|$ ;\n",
    "4. $a\\land b = 0 \\iff a=b=0$ ;\n",
    "5. $a\\land 1 = 1$.\n",
    "\n",
    "On peut bien évidemment utiliser les méthodes étudiées sur $\\mathbb{N}^*$.\n"
   ]
  },
  {
   "cell_type": "markdown",
   "metadata": {
    "collapsed": false
   },
   "source": [
    "## IV] Algorithme d'Euclide\n",
    "On a vu comment calculer le PGCD de deux entiers ayant connaissance de leur décomposition en facteurs premiers, mais cette méthode est lente pour de grands entiers. L'algorithme d'Euclide est une méthode efficace.\n",
    "\n",
    "### Un exemple\n",
    "On souhaite calculer $\\text{PGCD}(323, 187)$.\n",
    "> $\\text{divmod}(323, 187) = (1, 136)$ ; _On continue avec $187$ et $136$_.  \n",
    "> $\\text{divmod}(187, 136) = (1, 51)$ ; _On continue avec $136$ et $51$_.  \n",
    "> $\\text{divmod}(136, 51) = (2, 34)$ ; _On continue avec $51$ et $34$_.  \n",
    "> $\\text{divmod}(51, 34) = (1, 17)$ ; _On continue avec $34$ et $17$_.  \n",
    "> $\\text{divmod}(34, 17) = (2, 0)$ ; _Le reste est nul, le dernier diviseur est $17$_.  \n",
    "> D'après l'algorithme d'Euclide, $\\text{PGCD}(323, 187) = 17$.\n"
   ]
  },
  {
   "cell_type": "markdown",
   "metadata": {
    "collapsed": false
   },
   "source": [
    "**Preuve :** Soit $a\\geqslant b$.  \n",
    "Si $b=0$, alors $\\text{PGCD}(a, b) = a$. C'est fini.  \n",
    "Sinon, on fait la division euclidienne de $a$ par $b$.  \n",
    "$a = bq+r$, ainsi $r = a-bq$, et d'après la dernière propriété (utile) de I],  \n",
    "on déduit que si $d \\mid a$ et $d \\mid b$, alors $d \\mid r$,   \n",
    "mais aussi que si $d \\mid b$ et $d \\mid r$, alors $d \\mid a$.   \n",
    "Dit autrement : les diviseurs communs à $a$ et $b$ sont les mêmes que ceux à $b$ et $r$.  \n",
    "En particulier ils ont le même PGCD. Ce qui justifie l'algorithme et prouve un peu plus :\n",
    "\n",
    "**Les diviseurs communs à $a$ et $b$, sont les diviseurs de leur PGCD.**\n"
   ]
  },
  {
   "cell_type": "markdown",
   "metadata": {
    "collapsed": false
   },
   "source": [
    "## V] Applications\n",
    "* Une fraction $\\frac a b$ peut être simplifiée au maximum par le $\\text{PGCD}(a, b)$, elle devient alors irréductible.\n",
    "* Pour additionner deux fractions, on doit les mettre au même dénominateur. Une méthode consiste à utiliser le PPCM. \n",
    "* Pour résoudre des problèmes du genre :\n",
    "> Un philatéliste possède 1631 timbres français et 932 timbres étrangers. Il souhaite vendre toute sa collection en réalisant des lots identiques, c'est à dire comportant le même nombre de timbres français et le même nombre de timbres étrangers.\n",
    "> 1. Calculer le nombre maximum de lots qu'il pourra réaliser.\n",
    "> 2. Combien y-aura-t-il, dans ce cas, de timbres français et étrangers par lot ? \n",
    "> > **Réponse :** Les lots sont identiques, donc le nombre de lot est un diviseur de 1631, mais aussi de 932, il en veut le maximum, donc le nombre de lots est le PGCD(1631, 932)... \n",
    "* $\\cdots$"
   ]
  }
 ],
 "metadata": {
  "kernelspec": {
   "display_name": "Python 3 (Ubuntu Linux)",
   "language": "python",
   "name": "python3"
  },
  "language_info": {
   "codemirror_mode": {
    "name": "ipython",
    "version": 3
   },
   "file_extension": ".py",
   "mimetype": "text/x-python",
   "name": "python",
   "nbconvert_exporter": "python",
   "pygments_lexer": "ipython3",
   "version": "3.6.6"
  }
 },
 "nbformat": 4,
 "nbformat_minor": 0
}
