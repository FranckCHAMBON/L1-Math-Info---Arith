{
 "cells": [
  {
   "cell_type": "markdown",
   "metadata": {
    "collapsed": false
   },
   "source": [
    "> _La mathématique est l'art de donner le même nom à des choses différentes._  \n",
    "> **Poincaré**\n"
   ]
  },
  {
   "cell_type": "markdown",
   "metadata": {
    "collapsed": false
   },
   "source": [
    "# TD2 $-$ Algorithme d'Euclide\n",
    "\n",
    ">**Rappels de cours** :  \n",
    "> * $\\text{PGCD}(a, 0) = a$, pour $a \\geqslant 0$  \n",
    "> * Si $a = bq+r$, alors $\\text{PGCD}(a, b) = \\text{PGCD}(b, r)$\n",
    "\n",
    ">**Exemple** : On souhaite calculer $\\text{PGCD}(323, 187)$.  \n",
    "> $\\text{divmod}(323, 187) = (1, 136)$ ; _On continue avec $187$ et $136$_.  \n",
    "> $\\text{divmod}(187, 136) = (1, 51)$ ; _On continue avec $136$ et $51$_.  \n",
    "> $\\text{divmod}(136, 51) = (2, 34)$ ; _On continue avec $51$ et $34$_.  \n",
    "> $\\text{divmod}(51, 34) = (1, 17)$ ; _On continue avec $34$ et $17$_.  \n",
    "> $\\text{divmod}(34, 17) = (2, 0)$ ; _Le reste est nul, le dernier diviseur est $17$_.  \n",
    "> D'après l'algorithme d'Euclide, $\\text{PGCD}(323, 187) = 17$.\n"
   ]
  },
  {
   "cell_type": "markdown",
   "metadata": {
    "collapsed": false
   },
   "source": [
    "## Exercice 1\n",
    "1. Vérifier que $\\text{PGCD}(6699, 5313) = 231$. _Deux méthodes sont demandées : avec décomposition en facteurs premiers, ou sinon utiliser l'algorithme d'Euclide._\n",
    "\n",
    "2. Faire un script qui définit une fonction <kbd>PGCD(a, b)</kbd>.\n",
    "\n",
    "3. Calculer $\\text{PGCD}(63245986, 102334155)$.  \n",
    "_Quelle remarque peut-on faire pendant le calcul ?_\n"
   ]
  },
  {
   "cell_type": "markdown",
   "metadata": {
    "collapsed": false
   },
   "source": [
    "---\n",
    "*Une réponse*\n",
    "1. \n",
    "  1. Avec décomposition en facteurs premiers  \n",
    "$6699 = 3\\times7\\times11\\times29$  \n",
    "$5313 = 3\\times7\\times11\\times23$  \n",
    "Ainsi $\\text{PGCD}(6699, 5313) = 3\\times7\\times11 = 231$\n",
    "\n",
    "  2. Avec l'algorithme d'Euclide :  \n",
    "$\\text{divmod}(6699, 5313) = (1, 1386)$ ; _On continue avec $5313$ et $1386$_.  \n",
    "$\\text{divmod}(5313, 1386) = (3, 1155)$ ; _On continue avec $1386$ et $1155$_.  \n",
    "$\\text{divmod}(1386, 1155) = (1, 231)$ ; _On continue avec $1155$ et $231$_.  \n",
    "$\\text{divmod}(1155, 231) = (5, 0)$ ; _Le reste est nul, le dernier diviseur est $231$_.  \n",
    "Ainsi $\\text{PGCD}(6699, 5313) = 231$\n",
    "\n",
    "2. Voir ci-dessous plusieurs variantes.\n",
    "\n",
    "3. Les nombres choisis sont des termes consécutifs de la suite de Fibonacci, dans ce cas, les quotients sont toujours égaux à $1$, et le PGCD est aussi égal à $1$. "
   ]
  },
  {
   "cell_type": "code",
   "execution_count": 1,
   "metadata": {
    "collapsed": false
   },
   "outputs": [
    {
     "name": "stdout",
     "output_type": "stream",
     "text": [
      "6699 / 5313 -> quotient : 1 , reste : 1386\n",
      "5313 / 1386 -> quotient : 3 , reste : 1155\n",
      "1386 / 1155 -> quotient : 1 , reste : 231\n",
      "1155 / 231 -> quotient : 5 , reste : 0\n",
      "PGCD = 231\n"
     ]
    }
   ],
   "source": [
    "a, b = 6699, 5313\n",
    "while b != 0:\n",
    "    q, r = divmod(a, b)\n",
    "    print(a, \"/\", b, \"-> quotient :\", q, \", reste :\", r)\n",
    "    a, b = b, a%b\n",
    "\n",
    "print(\"PGCD =\", a)"
   ]
  },
  {
   "cell_type": "code",
   "execution_count": 2,
   "metadata": {
    "collapsed": false
   },
   "outputs": [
    {
     "name": "stdout",
     "output_type": "stream",
     "text": [
      "231\n"
     ]
    }
   ],
   "source": [
    "#variante minimaliste\n",
    "a,b=6699,5313\n",
    "while b:a,b=b,a%b\n",
    "print(a)\n",
    "\n",
    "# cette variante utilise le transtypage\n",
    "# `while b:`  est équivalent à `while b != 0:`\n",
    "# quand python attend un booléen,\n",
    "# il change si besoin le type donné,\n",
    "# ex1 : un entier devient `True` ssi il est non nul.\n",
    "# ex2 : une liste devient `True` ssi elle est non vide."
   ]
  },
  {
   "cell_type": "code",
   "execution_count": 3,
   "metadata": {
    "collapsed": false
   },
   "outputs": [
    {
     "data": {
      "text/plain": [
       "231"
      ]
     },
     "execution_count": 3,
     "metadata": {
     },
     "output_type": "execute_result"
    }
   ],
   "source": [
    "# définition d'une fonction\n",
    "def PGCD(a, b):\n",
    "    \"\"\"Avec a et b positifs\"\"\"\n",
    "    while b != 0:\n",
    "        a, b = b, a%b\n",
    "    return a\n",
    "# on profite ici de l'affectation simultanée ; possible en Python\n",
    "PGCD(6699, 5313)"
   ]
  },
  {
   "cell_type": "code",
   "execution_count": 4,
   "metadata": {
    "collapsed": false
   },
   "outputs": [
    {
     "data": {
      "text/plain": [
       "231"
      ]
     },
     "execution_count": 4,
     "metadata": {
     },
     "output_type": "execute_result"
    }
   ],
   "source": [
    "# variante sans affectation simultanée\n",
    "# une variable intermédiaire est nécessaire\n",
    "def PGCD(a, b):\n",
    "    while b != 0:\n",
    "        r = a%b\n",
    "        a = b\n",
    "        b = r\n",
    "    return a\n",
    "\n",
    "PGCD(6699, 5313)"
   ]
  },
  {
   "cell_type": "code",
   "execution_count": 5,
   "metadata": {
    "collapsed": false
   },
   "outputs": [
    {
     "data": {
      "text/plain": [
       "231"
      ]
     },
     "execution_count": 5,
     "metadata": {
     },
     "output_type": "execute_result"
    }
   ],
   "source": [
    "# variante récursive\n",
    "def PGCD(a, b):\n",
    "    if b == 0:\n",
    "        return a\n",
    "    else:\n",
    "        return PGCD(b, a%b)\n",
    "\n",
    "PGCD(6699, 5313)"
   ]
  },
  {
   "cell_type": "code",
   "execution_count": 6,
   "metadata": {
    "collapsed": false
   },
   "outputs": [
    {
     "data": {
      "text/plain": [
       "231"
      ]
     },
     "execution_count": 6,
     "metadata": {
     },
     "output_type": "execute_result"
    }
   ],
   "source": [
    "# variante fénéant\n",
    "from math import gcd\n",
    "gcd(6699, 5313)\n",
    "\n",
    "# attention `gcd` est dans le module `math` depuis Python3.6\n",
    "# avant, `gcd` était dans le module `fractions`"
   ]
  },
  {
   "cell_type": "code",
   "execution_count": 7,
   "metadata": {
    "collapsed": false
   },
   "outputs": [
    {
     "name": "stdout",
     "output_type": "stream",
     "text": [
      "3.6.3 |Anaconda, Inc.| (default, Oct 13 2017, 12:02:49) \n",
      "[GCC 7.2.0]\n"
     ]
    }
   ],
   "source": [
    "import sys\n",
    "print(sys.version)\n",
    "# Jupyter dispose d'une version récente de Python !!!"
   ]
  },
  {
   "cell_type": "markdown",
   "metadata": {
    "collapsed": false
   },
   "source": [
    "## Exercice 2\n",
    "Sachant que l'on a $96842 = 256\\times 375 + 842$, déterminer avec le moins de calculs possibles les restes et quotients des divisions euclidiennes de $96842$ par $256$ et par $375$."
   ]
  },
  {
   "cell_type": "markdown",
   "metadata": {
    "collapsed": false
   },
   "source": [
    "---\n",
    "*Une réponse*\n",
    " * $842 = 3\\times 256 + 74$, donc $96842 = 256\\times375 + 3\\times 256 + 74 = 378\\times 256 + 74$, et ainsi :  \n",
    "$96842$ divisé par $256$ donne un quotient de $378$ et un reste de $74$.\n",
    "\n",
    " * $842 = 2\\times 375 + 92$, donc $96842 = 256\\times375 + 2\\times 375 + 92 = 258\\times 375 + 92$, et ainsi :  \n",
    "$96842$ divisé par $256$ donne un quotient de $258$ et un reste de $92$.\n",
    "\n"
   ]
  },
  {
   "cell_type": "markdown",
   "metadata": {
    "collapsed": false
   },
   "source": [
    "## Exercice 3\n",
    "1. Faire un script qui calcule la somme $\\frac{a}{b}+\\frac{c}{d}$ et donne la réponse sous forme d'une fraction irréductible. (Contrainte : $a$, $b$, $c$, $d$ sont entiers, et $b\\neq 0$, $d\\neq 0$.)\n",
    "2. Faire une version qui affiche les étapes intermédiaires comme dans l'exemple :\n",
    "\n",
    "$A = \\dfrac{1}{20}+\\dfrac{-1}{28}$\n",
    "\n",
    "$A = \\dfrac{1}{4\\times 5}+\\dfrac{-1}{4\\times 7}$\n",
    "\n",
    "$A = \\dfrac{1\\times 7}{4\\times 5 \\times 7}+\\dfrac{-1 \\times 5}{4\\times 7 \\times 5}$\n",
    "\n",
    "$A = \\dfrac{7+(-5)}{4\\times 5 \\times 7}$\n",
    "\n",
    "$A = \\dfrac{2\\times 1}{2\\times 2\\times 5 \\times 7}$\n",
    "\n",
    "$A = \\dfrac{1}{2\\times 5 \\times 7}$\n",
    "\n",
    "$A = \\dfrac{1}{70}$  \n"
   ]
  },
  {
   "cell_type": "code",
   "execution_count": 8,
   "metadata": {
    "collapsed": false
   },
   "outputs": [
    {
     "name": "stdout",
     "output_type": "stream",
     "text": [
      "A = 1/2 + 1/3\n",
      "Les dénominateurs sont premiers entre eux.\n",
      "A = (1*3)/(2*3) + (1*2)/(3*2)\n",
      "A = 3/6 + 2/6\n",
      "A = (3+2)/6\n",
      "A = 5/6\n",
      "Le résulat est une fraction irréductible !\n",
      "\n",
      "A = 1/20 + -1/28\n",
      "4 est un diviseur commun aux dénominateurs.\n",
      "A = 1/(5*4) + -1/(7*4)\n",
      "A = (1*7)/(5*4*7) + (-1*5)/(7*4*5)\n",
      "A = 7/140 + -5/140\n",
      "A = (7+-5)/140\n",
      "A = 2/140\n",
      "On peut encore simplifier par 2.\n",
      "A = 1/70\n",
      "Le résulat est une fraction irréductible !\n",
      "\n"
     ]
    }
   ],
   "source": [
    "from math import gcd\n",
    "def addFrac(a, b, c, d):\n",
    "    \"\"\"Ajoute (détaille et simplifie) les fractions a/b et c/d\"\"\"\n",
    "    assert b != 0 and d != 0, (\"Dénominateur(s) négatif(s) !\", c, d)\n",
    "\n",
    "    ans = \"A = {}/{} + {}/{}\\n\".format(a, b, c, d)\n",
    "    \n",
    "    # peut-on simplifier les fractions dès le départ ?\n",
    "    k1 = gcd(a, b); k2 = gcd(c, d)\n",
    "    if k1>1 or k2>1:\n",
    "        a //= k1; b //= k1\n",
    "        c //= k2; d //= k2\n",
    "        ans += \"A = {}/{} + {}/{}\\n\".format(a, b, c, d)\n",
    "    \n",
    "    # on trouve alors le ppcm des dénominateurs\n",
    "    k = gcd(b, d)\n",
    "    if k == 1:\n",
    "        # méthode brutale\n",
    "        ans += \"Les dénominateurs sont premiers entre eux.\\n\"\n",
    "        ans += \"A = ({}*{})/({}*{}) + ({}*{})/({}*{})\\n\".format(a,d , b,d , c,b , d,b)\n",
    "        a, b, c, d = a*d, b*d, c*b, d*b\n",
    "    else:\n",
    "        # méthode élaborée\n",
    "        ans += \"{} est un diviseur commun aux dénominateurs.\\n\".format(k)\n",
    "        b //= k ; d //= k\n",
    "        ans += \"A = {}/({}*{}) + {}/({}*{})\\n\".format(a , b,k , c , d,k)\n",
    "        ans += \"A = ({}*{})/({}*{}*{}) + ({}*{})/({}*{}*{})\\n\".format(a,d , b,k,d , c,b , d,k,b)\n",
    "        a, b, c, d = a*d, b*k*d, c*b, d*k*b\n",
    "\n",
    "    assert b == d\n",
    "    # nos dénominateurs sont bien égaux\n",
    "    ans += \"A = {}/{} + {}/{}\\n\".format(a, b, c, b)\n",
    "    ans += \"A = ({}+{})/{}\\n\".format(a, c, b)\n",
    "    a += c\n",
    "    ans += \"A = {}/{}\\n\".format(a, b)\n",
    "    k = gcd(a, b)\n",
    "    if k>1:\n",
    "        ans += \"On peut encore simplifier par {}.\\n\".format(k)\n",
    "        a //= k ; b //= k\n",
    "        ans += \"A = {}/{}\\n\".format(a, b)\n",
    "    ans += \"Le résulat est une fraction irréductible !\\n\"\n",
    "    \n",
    "    # TODO : faire une version qui sort du code LaTeX !!!\n",
    "    return ans\n",
    "\n",
    "# exemples\n",
    "print(addFrac(1,2, 1,3))\n",
    "print(addFrac(1,20, -1,28))\n"
   ]
  }
 ],
 "metadata": {
  "kernelspec": {
   "display_name": "Python 3 (Ubuntu Linux)",
   "language": "python",
   "name": "python3"
  },
  "language_info": {
   "codemirror_mode": {
    "name": "ipython",
    "version": 3
   },
   "file_extension": ".py",
   "mimetype": "text/x-python",
   "name": "python",
   "nbconvert_exporter": "python",
   "pygments_lexer": "ipython3",
   "version": "3.6.6"
  }
 },
 "nbformat": 4,
 "nbformat_minor": 0
}
