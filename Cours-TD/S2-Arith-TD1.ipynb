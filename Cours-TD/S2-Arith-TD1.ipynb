{
 "cells": [
  {
   "cell_type": "markdown",
   "metadata": {
    "collapsed": false
   },
   "source": [
    "> _Le but unique de la science, c'est l'honneur de l'esprit humain._  \n",
    "> **Jacobi**, lettre à Legendre"
   ]
  },
  {
   "cell_type": "markdown",
   "metadata": {
    "collapsed": false
   },
   "source": [
    "# TD1 $-$ Diviseurs $-$ Facteurs premiers\n",
    "\n",
    ">**Rappel** : Avec $d$ et $n$ des entiers naturels non nuls.  \n",
    ">Pour savoir si $d$ divise $n$ avec Python, on teste si le reste de la division euclidienne de $n$ par $d$ est nul : ```n%d == 0```\n"
   ]
  },
  {
   "cell_type": "code",
   "execution_count": 1,
   "metadata": {
    "collapsed": false
   },
   "outputs": [
    {
     "name": "stdout",
     "output_type": "stream",
     "text": [
      "5 divise 105\n"
     ]
    }
   ],
   "source": [
    "n, d = 105, 5\n",
    "if n%d == 0:\n",
    "    print(d, \"divise\", n)"
   ]
  },
  {
   "cell_type": "markdown",
   "metadata": {
    "collapsed": false
   },
   "source": [
    "## Exercice 1\n",
    "1. Vérifier que la somme des diviseurs de $105$ est $192$. _Deux méthodes sont demandées : calcul mental uniquement, ou sinon utiliser un script._\n",
    "  \n",
    "2. Lister les diviseurs de : $12, 35, 36, 37$. _Calcul mental._\n",
    "\n",
    "3. Faire un script qui définit une fonction ```sommeDiviseurs```."
   ]
  },
  {
   "cell_type": "markdown",
   "metadata": {
    "collapsed": false
   },
   "source": [
    "## Exercice 2\n",
    "1. Donner la liste des nombres premiers jusqu'à $50$. _Calcul mental_.\n",
    "\n",
    "2. _Ici calculatrice autorisée, mais uniquement pour des divisions._  \n",
    ">   Décomposer $48\\;400$ en produit de facteurs premiers.   \n",
    " \n",
    "3. Donner la décomposition en facteurs premiers de $15!$. _Calcul mental_.  \n",
    "_Rappel :_ $15! = 1\times2\times3\times4\times\\dots\times13\times14\times15$\n",
    "\n"
   ]
  },
  {
   "cell_type": "markdown",
   "metadata": {
    "collapsed": false
   },
   "source": [
    "# Correction\n",
    "Voici plusieurs solutions pour l'exercice 1.3"
   ]
  },
  {
   "cell_type": "code",
   "execution_count": 2,
   "metadata": {
    "collapsed": true
   },
   "outputs": [
   ],
   "source": [
    "def sommeDiviseursV1(n):\n",
    "    \"\"\"Version en O(n)\"\"\"\n",
    "    assert n>0\n",
    "    somme = 0\n",
    "    for diviseurCandidat in range(1, n+1):\n",
    "        if n%diviseurCandidat == 0:\n",
    "            somme += diviseurCandidat\n",
    "    return somme\n",
    "\n",
    "\n",
    "sommeDiviseursV2 = lambda n: sum(d for d in range(1, n+1) if not(n%d))\n",
    "# une variante en une ligne...\n",
    "\n",
    "\n",
    "def sommeDiviseursV3(n):\n",
    "    \"\"\"Version en O(√(n))\"\"\"\n",
    "    assert n>0\n",
    "    S = 0\n",
    "    for d in range(1, n+1):\n",
    "        if d*d >= n:\n",
    "            if d*d == n: S += d\n",
    "            # si n est un carré, on ajoute une seule fois 'd'\n",
    "            return S\n",
    "        if n%d == 0:\n",
    "            S += d + n//d\n",
    "            # on ajoute deux diviseurs à la fois.\n",
    "    return S\n",
    "\n",
    "\n",
    "\n",
    "for n in range(1, 1000):\n",
    "    assert sommeDiviseursV1(n) == sommeDiviseursV2(n) == sommeDiviseursV3(n), \"échec pour n = {}\".format(n)\n",
    "# test    "
   ]
  },
  {
   "cell_type": "markdown",
   "metadata": {
    "collapsed": false
   },
   "source": [
    "# Correction\n",
    "Voici une solution pour l'exercice 2.3"
   ]
  },
  {
   "cell_type": "markdown",
   "metadata": {
    "collapsed": false
   },
   "source": [
    "$15! = (1)\\times (2) \\times (3) \\times (2^2) \\times (5) \\times\n",
    "(2 \\times 3) \\times (7) \\times (2^3) \\times (3^2) \\times (2 \\times 5)\n",
    " \\times (11) \\times (2^2 \\times 3) \\times (13) \\times (2 \\times 7) \\times (3 \\times 5)$  \n",
    "\n",
    "$15! = 2^{11} \\times 3^6 \\times 5^3 \\times 7^2 \\times 11 \\times 13$"
   ]
  },
  {
   "cell_type": "markdown",
   "metadata": {
    "collapsed": false
   },
   "source": [
    "# Devoirs\n",
    "Créer un script qui donne la décomposition en facteurs premiers d'un entier naturel supérieur à 1.\n",
    "\n",
    "> Exemple :  \n",
    "> $66$ en entrée doit donner $[2, 3, 11]$  \n",
    "> $12$ en entrée doit donner $[2, 2, 3]$\n",
    "\n",
    "Le script doit être rapide pour un nombre entré inférieur à $1000$."
   ]
  },
  {
   "cell_type": "code",
   "execution_count": 3,
   "metadata": {
    "collapsed": true
   },
   "outputs": [
   ],
   "source": [
    "def factor(n):\n",
    "    assert n>0\n",
    "    # à vous de compléter\n",
    "    \n"
   ]
  }
 ],
 "metadata": {
  "celltoolbar": "Raw Cell Format",
  "kernelspec": {
   "display_name": "Python 3 (Ubuntu Linux)",
   "language": "python",
   "name": "python3"
  },
  "language_info": {
   "codemirror_mode": {
    "name": "ipython",
    "version": 3
   },
   "file_extension": ".py",
   "mimetype": "text/x-python",
   "name": "python",
   "nbconvert_exporter": "python",
   "pygments_lexer": "ipython3",
   "version": "3.6.6"
  }
 },
 "nbformat": 4,
 "nbformat_minor": 0
}
