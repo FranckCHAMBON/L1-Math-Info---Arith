{
 "cells": [
  {
   "cell_type": "markdown",
   "metadata": {
    "collapsed": false
   },
   "source": [
    "# L1-Math-Info---Arithmétique\n",
    "Le cours/TD/évaluation que j'ai donné à l'Université d'Avignon en 2018\n",
    "\n",
    "(CM) Cours Magistraux & (TD) Traveaux Dirigés\n",
    "\n",
    "## Introduction à Python\n",
    "1. [Découverte des premières instructions](Introduction/Python-feuille1.ipynb)\n",
    "2. [une autre feuille](Introduction/Python-feuille2.ipynb)\n",
    "3. Conseils de lecture :\n",
    "   * par [Gérard Swinnen](https://inforef.be/swi/download/apprendre_python3_5.pdf)\n",
    "   * par [Bob Cordeau & Laurent Pointal](https://perso.limsi.fr/pointal/python:courspython3)\n",
    "\n",
    "## [CM1 - Décomposition en facteurs premiers](Cours-TD/A-CM1-DecFactPrem.ipynb)\n",
    "1. Opérations élémentaires sur $\\mathbb{N}^*$\n",
    "2. Diviseurs et multiples\n",
    "3. Liste des diviseurs\n",
    "4. Nombres premiers\n",
    "5. PGCD, PPCM\n",
    "\n",
    "\n",
    "## [TD1 $-$ Diviseurs $-$ Facteurs premiers](Cours-TD/S2-Arith-TD1.ipynb)\n",
    "\n",
    "## [Devoirs et exercices corrigés - 1](Cours-TD/B-exos-corrigés-1.ipynb)\n",
    "\n",
    "\n",
    "## [CM2 : Divisibilité dans $\\mathbb{Z}$](Cours-TD/C-CM2-DiviZ.ipynb)\n",
    "1. Définition, premières propriétés\n",
    "2. Division euclidienne\n",
    "3. PGCD de deux entiers\n",
    "4. Algorithme d'Euclide\n",
    "5. Applications\n",
    "\n",
    "## [TD2 $-$ Algorithme d'Euclide](Cours-TD/S2-Arith-TD2.ipynb)\n",
    "\n",
    "## [Devoirs et exercices corrigés - 2](Cours-TD/D-Exos-corrigés-2.ipynb)\n",
    "\n",
    "\n",
    "## [CM3 : Théorème de Bachet-Bézout](Cours-TD/E-CM3-ThBachetBezout.ipynb)\n",
    "1. Le théorème\n",
    "2. Nombres premiers entre eux\n",
    "3. L'équation $ax+by=c$ dans $\\mathbb{Z}$ \n",
    "\n",
    "## [TD3 $-$ Triplets pythagoriciens](Cours-TD/S2-Arith-TD3.ipynb)\n",
    "\n",
    "## [Devoirs et exercices corrigés - 3](Cours-TD/F-Exos-corrigés-3.ipynb)\n",
    "\n",
    "\n",
    "## [CM4 : Arithmétique modulaire](Cours-TD/G-CM4-ArithmétiqueModulaire.ipynb)\n",
    "1. Définitions\n",
    "2. Propriétés\n",
    "3. Inversion modulaire\n",
    "4. Fonction indicatrice d'Euler\n",
    "5. Un théorème d'Euler ; test de primalité\n",
    "\n",
    "\n",
    "## [TD4 $-$ L'indicatrice d'Euler](Cours-TD/S2-Arith-TD4.ipynb)\n",
    "\n",
    "## [Devoirs et exercices corrigés - 4](Cours-TD/H-Exos-corrigés-4.ipynb)\n",
    "\n",
    "\n",
    "## [CM5 : Applications simples](Cours-TD/I-CM5-Applications-Simples.ipynb)\n",
    "1. Exemples de calculs modulaires\n",
    "    1. $\\cdots$\n",
    "    1. Méthode de Ruffini-Horner\n",
    "    2. Gérer les divisions\n",
    "2. Racines modulaires\n",
    "3. Exponentiation modulaire\n",
    "4. Chiffrement RSA\n",
    "5. Théorème des restes chinois\n",
    "6. Codes correcteurs\n",
    "7. Et cætera\n",
    "\n",
    "\n",
    "## [TD5 $-$ Résolution d'équations modulaires](Cours-TD/S2-Arith-TD5.ipynb)\n",
    "\n",
    "## Devoir de contrôle\n",
    "* [Évaluation écrite](Devoirs/Eval-S2-info.pdf) (1h20) ; calculatrice type collège autorisée\n",
    "* [Évaluation machine](https://www.spoj.com/CERI2018/)\n",
    "\n",
    "## Pour aller plus loin\n",
    "* [France IOI](http://www.france-ioi.org/) propose un cours et de nombreux exercices ; idéal pour commencer.\n",
    "* [Prologin](https://prologin.org/) propose un site d'entrainement ; idéal dans un second temps.\n",
    "* [Project Euler](https://projecteuler.net/archives) propose des problèmes pouvant être très difficiles.\n",
    "* [SPOJ](https://www.spoj.com/problems/classical/) possède une banque de problèmes très importante.\n",
    "* [_And others..._](https://en.wikipedia.org/wiki/Competitive_programming)\n"
   ]
  },
  {
   "cell_type": "code",
   "execution_count": 0,
   "metadata": {
    "collapsed": false
   },
   "outputs": [
   ],
   "source": [
   ]
  }
 ],
 "metadata": {
  "kernelspec": {
   "display_name": "Python 3 (Ubuntu Linux)",
   "language": "python",
   "metadata": {
    "cocalc": {
     "description": "Python 3 programming language",
     "priority": 100,
     "url": "https://www.python.org/"
    }
   },
   "name": "python3"
  },
  "language_info": {
   "codemirror_mode": {
    "name": "ipython",
    "version": 3
   },
   "file_extension": ".py",
   "mimetype": "text/x-python",
   "name": "python",
   "nbconvert_exporter": "python",
   "pygments_lexer": "ipython3",
   "version": "3.6.7"
  }
 },
 "nbformat": 4,
 "nbformat_minor": 0
}
