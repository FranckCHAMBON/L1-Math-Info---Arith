{
 "cells": [
  {
   "cell_type": "markdown",
   "metadata": {
    "collapsed": false
   },
   "source": [
    "![](https://www.python.org/static/community_logos/python-logo-generic.svg)\n",
    "\n",
    "# Cours et exercices - feuille 2\n",
    "\n",
    "## Python et les variables\n",
    "\n",
    "Dans cette feuille de cours et exercices, on apprend à utiliser des variables, mais aussi on découvre les premières listes, les premières fonctions."
   ]
  },
  {
   "cell_type": "markdown",
   "metadata": {
    "collapsed": true
   },
   "source": [
    "### 1) Les noms de variables\n",
    "On ne peut pas choisir n’importe quel nom pour une variable.\n",
    "De manière synthétique, on a :\n",
    "- **Conseil :** N’utiliser que les caractères : `a→z`, `A→Z` , `0→9` et `_`\n",
    "- **Obligatoire :** Ne pas débuter par un chiffre\n",
    "- **Conseil :** <kbd>choisir_un_nom_de_variable_lisible</kbd>, <kbd>nepaschoisirunnomdevariableillisible</kbd>, <kbd>choisirUnNomDeVariablePlusLisible</kbd>\n",
    "- *Exemples :* <kbd>nombre_dOr</kbd>, <kbd>a15</kbd> sont valides et lisibles\n",
    "- *Attention :* <kbd>niter</kbd>, <kbd>nIter</kbd>, <kbd>NITER</kbd> sont trois variables différentes, la seconde étant la plus lisible des trois\n",
    "- *remarque :* les lettres Unicode sont autorisées comme <kbd>Çå_Ãĺòŕš</kbd>, mais non conseillées\n",
    "\n",
    "> Il y a **33 mots réservés** qui ne peuvent pas être utilisés pour des variables.\n",
    "\n",
    "> |           |           |           |           |         |\n",
    "> |:----------|:----------|:----------|:----------|:--------|\n",
    "> |`False`    |`class`    |`finally`  |`is`       |`return` |\n",
    "> |`None`     |`continue` |`for`      |`lambda`   |`try`    |\n",
    "> |`True`     |`def`      |`from`     |`nonlocal` |`while`  |\n",
    "> |`and`      |`del`      |`global`   |`not`      |`with`   |\n",
    "> |`as`       |`elif`     |`if`       |`or`       |`yield`  |\n",
    "> |`assert`   |`else`     |`import`   |`pass`     |         |\n",
    "> |`break`    |`except`   |`in`       |`raise`    |         |\n",
    "\n",
    "> *Remarque* : Seuls `False`, `None` et `True` commencent ici avec une majuscule."
   ]
  },
  {
   "cell_type": "markdown",
   "metadata": {
    "collapsed": false
   },
   "source": [
    "---\n",
    "\n",
    "> **Exercice.** Dans les trois scripts suivants, il y a des erreurs, corrigez-les."
   ]
  },
  {
   "cell_type": "code",
   "execution_count": 0,
   "metadata": {
    "collapsed": true
   },
   "outputs": [
   ],
   "source": [
    "bronze = trois\n",
    "argent = two\n",
    "or = 1\n",
    "ma place = 4"
   ]
  },
  {
   "cell_type": "code",
   "execution_count": 0,
   "metadata": {
    "collapsed": true
   },
   "outputs": [
   ],
   "source": [
    "2ame = 10\n",
    "roi = 10\n",
    "as = 11"
   ]
  },
  {
   "cell_type": "code",
   "execution_count": 0,
   "metadata": {
    "collapsed": true
   },
   "outputs": [
   ],
   "source": [
    "π/2 = 3,14/2"
   ]
  },
  {
   "cell_type": "code",
   "execution_count": 0,
   "metadata": {
    "collapsed": true
   },
   "outputs": [
   ],
   "source": [
    "# Solutions : lancer le script suivant\n",
    "print(\"                                                                                                          \\n'trois' n'existe pas.\\n'two', en anglais, non plus.\\n'or' est un mot réservé.\\n'ma place' ne doit pas contenir d'espace.\")"
   ]
  },
  {
   "cell_type": "markdown",
   "metadata": {
    "collapsed": false
   },
   "source": [
    "---\n",
    "\n",
    "**Exemple.** Cet exemple très méchant montre le danger d'utiliser certains caractères."
   ]
  },
  {
   "cell_type": "code",
   "execution_count": 1,
   "metadata": {
    "collapsed": false
   },
   "outputs": [
    {
     "name": "stdout",
     "output_type": "stream",
     "text": [
      "42\n"
     ]
    }
   ],
   "source": [
    "value = 42\n",
    "valuе = 1000\n",
    "print(value)"
   ]
  },
  {
   "cell_type": "markdown",
   "metadata": {
    "collapsed": false
   },
   "source": [
    "**Explication** :\n",
    "- le premier `value` est écrit avec des caractères directement accessibles au clavier, la dernière lettre est un 'e' latin dont le code est 101.\n",
    "- le second `valuе` se termine par un 'е' cyrillique dont le code est 1077. Visuellement identique, ce n'est pas le même caractère, et donc il y a deux variables différentes. Le piège est redoutable.\n",
    "- ce n'était pas une réaffectation et le 'print' agit sur la première variable...\n",
    "\n",
    "*Further reading : [WTFPython](https://github.com/satwikkansal/wtfpython)*"
   ]
  },
  {
   "cell_type": "markdown",
   "metadata": {
    "collapsed": false
   },
   "source": [
    "## 2) Premières listes\n",
    "#### Définition\n",
    "Pour définir une liste en Python, on place des éléments entre crochets.  \n",
    "On peut faire des listes vides, ou composées d'éléments de même types ou non.\n"
   ]
  },
  {
   "cell_type": "code",
   "execution_count": 0,
   "metadata": {
    "collapsed": true
   },
   "outputs": [
   ],
   "source": [
    "ma_liste0 = []  # une liste vide\n",
    "ma_liste1 = [26, 7, 84, 30] # une liste de 4 entiers\n",
    "ma_liste2 = [\"du texte\", \"encore des mots\", \"fini\"]  # une liste de trois chaînes de caractères\n",
    "ma_liste3 = [0, \"un\", 2.0, (ma_liste0, ma_liste1, ma_liste2)] # 4 éléments de type variés\n",
    "ma_liste4 = [ma_liste3] # 1 seul élément, qui est une liste"
   ]
  },
  {
   "cell_type": "markdown",
   "metadata": {
    "collapsed": false
   },
   "source": [
    "#### Opérations\n",
    "- On peut concaténer deux listes, avec <kbd>+</kbd>, attention, ce n'est pas commutatif\n",
    "- On peut démultiplier une liste, avec <kbd>*</kbd>, c'est bien commutatif"
   ]
  },
  {
   "cell_type": "code",
   "execution_count": 2,
   "metadata": {
    "collapsed": false
   },
   "outputs": [
    {
     "name": "stdout",
     "output_type": "stream",
     "text": [
      "[2, 15, 6, 101, 1106]\n",
      "[101, 1106, 2, 15, 6]\n"
     ]
    }
   ],
   "source": [
    "premiers_cas = [2, 15, 6]\n",
    "seconds_cas = [101, 1106]\n",
    "print(premiers_cas + seconds_cas)\n",
    "print(seconds_cas + premiers_cas)"
   ]
  },
  {
   "cell_type": "code",
   "execution_count": 3,
   "metadata": {
    "collapsed": false
   },
   "outputs": [
    {
     "name": "stdout",
     "output_type": "stream",
     "text": [
      "[4, 8, 13, 4, 8, 13, 4, 8, 13, 4, 8, 13, 4, 8, 13]\n"
     ]
    }
   ],
   "source": [
    "petite_liste = [4, 8, 13]\n",
    "print(petite_liste * 5)"
   ]
  },
  {
   "cell_type": "markdown",
   "metadata": {
    "collapsed": false
   },
   "source": [
    "> **Exemple.** Construire une liste de $100$ entiers, tous nuls, sauf le premier égal à $1$."
   ]
  },
  {
   "cell_type": "code",
   "execution_count": 5,
   "metadata": {
    "collapsed": false
   },
   "outputs": [
    {
     "name": "stdout",
     "output_type": "stream",
     "text": [
      "[1, 0, 0, 0, 0, 0, 0, 0, 0, 0, 0, 0, 0, 0, 0, 0, 0, 0, 0, 0, 0, 0, 0, 0, 0, 0, 0, 0, 0, 0, 0, 0, 0, 0, 0, 0, 0, 0, 0, 0, 0, 0, 0, 0, 0, 0, 0, 0, 0, 0, 0, 0, 0, 0, 0, 0, 0, 0, 0, 0, 0, 0, 0, 0, 0, 0, 0, 0, 0, 0, 0, 0, 0, 0, 0, 0, 0, 0, 0, 0, 0, 0, 0, 0, 0, 0, 0, 0, 0, 0, 0, 0, 0, 0, 0, 0, 0, 0, 0, 0]\n"
     ]
    }
   ],
   "source": [
    "maListe = [1]+[0]*99\n",
    "print(maListe)"
   ]
  },
  {
   "cell_type": "markdown",
   "metadata": {
    "collapsed": false
   },
   "source": [
    "#### Utilisation classique : l'itération\n",
    "On peut répéter les mêmes instructions sur chacun des éléments d'une liste.   \n",
    "On itère sur les éléments d'une liste avec une boucle <kbd>for</kbd>."
   ]
  },
  {
   "cell_type": "code",
   "execution_count": 6,
   "metadata": {
    "collapsed": false
   },
   "outputs": [
    {
     "name": "stdout",
     "output_type": "stream",
     "text": [
      "503\n",
      "1103\n",
      "1703\n"
     ]
    }
   ],
   "source": [
    "for x in [5, 11, 17]:\n",
    "    print(100*x + 3)"
   ]
  },
  {
   "cell_type": "markdown",
   "metadata": {
    "collapsed": false
   },
   "source": [
    "On peut aussi créer une liste par itération d'une autre, ce qui permet de construire un tableau de valeur pour une fonction.   \n",
    "Par exemple, avec la fonction $x \\mapsto 100x + 1$, sur les valeurs $[12, 23, 37, 75]$."
   ]
  },
  {
   "cell_type": "code",
   "execution_count": 7,
   "metadata": {
    "collapsed": false
   },
   "outputs": [
    {
     "name": "stdout",
     "output_type": "stream",
     "text": [
      "[1201, 2301, 3701, 7501]\n"
     ]
    }
   ],
   "source": [
    "x_liste = [12, 23, 37, 75]\n",
    "y_liste = [100*x + 1   for x in x_liste]\n",
    "print(y_liste)"
   ]
  },
  {
   "cell_type": "markdown",
   "metadata": {
    "collapsed": false
   },
   "source": [
    "## 3) <kbd>range</kbd> : un itérateur\n",
    "* Pour faire une boucle avec un nombre de tours prédéfini $n$ : <kbd>range(n)</kbd>, itère de $0$ inclus à $n$ exclu, ce qui fait $n$ tours.\n",
    "* Pour faire une boucle avec un entier variant de $a$ inclus à $b$ exclu : <kbd>range(a, b)</kbd>, ce qui fait $b-a$ tours.\n",
    "* Pour faire une boucle avec un entier variant de $a$ inclus à $b$ exclu, par pas de $c$ : <kbd>range(a, b, c)</kbd>.\n"
   ]
  },
  {
   "cell_type": "markdown",
   "metadata": {
    "collapsed": true
   },
   "source": [
    "## 4) Premières fonctions\n",
    "#### Définition\n",
    "On peut définir une fonction avec <kbd>def</kbd>, comme dans l'exemple :"
   ]
  },
  {
   "cell_type": "code",
   "execution_count": 8,
   "metadata": {
    "collapsed": false
   },
   "outputs": [
    {
     "name": "stdout",
     "output_type": "stream",
     "text": [
      "501\n"
     ]
    }
   ],
   "source": [
    "def f(x):\n",
    "    return 100*x + 1\n",
    "\n",
    "print(f(5))"
   ]
  },
  {
   "cell_type": "markdown",
   "metadata": {
    "collapsed": false
   },
   "source": [
    "On peut de la même manière définir des fonctions définies par récurrence."
   ]
  },
  {
   "cell_type": "code",
   "execution_count": 9,
   "metadata": {
    "collapsed": false
   },
   "outputs": [
    {
     "name": "stdout",
     "output_type": "stream",
     "text": [
      "1094\n"
     ]
    }
   ],
   "source": [
    "def f(n):\n",
    "    if n==0:\n",
    "        return 5\n",
    "    else:\n",
    "        return 3*f(n-1) - 1\n",
    "    \n",
    "print(f(5))"
   ]
  },
  {
   "cell_type": "markdown",
   "metadata": {
    "collapsed": false
   },
   "source": [
    "## Exercice\n",
    "Si on définit la suite de Fibonacci par :"
   ]
  },
  {
   "cell_type": "code",
   "execution_count": 4,
   "metadata": {
    "collapsed": false
   },
   "outputs": [
    {
     "name": "stdout",
     "output_type": "stream",
     "text": [
      "25 75025\n",
      "26 121393\n",
      "27 196418\n",
      "28 317811\n",
      "29 514229\n",
      "30 832040\n",
      "31 1346269\n",
      "32 2178309\n",
      "33 3524578\n",
      "34 5702887\n"
     ]
    }
   ],
   "source": [
    "def fib(n):\n",
    "    if n<2:\n",
    "        return n\n",
    "    else:\n",
    "        return fib(n-1) + fib(n-2)\n",
    "\n",
    "for n in range(25, 35):\n",
    "    print(n, fib(n))"
   ]
  },
  {
   "cell_type": "markdown",
   "metadata": {
    "collapsed": false
   },
   "source": [
    "On constate que le résultat est juste, mais très très lent !\n",
    "\n",
    "* Expliquer pourquoi ce calcul est lent.\n",
    "* Proposer une version rapide."
   ]
  }
 ],
 "metadata": {
  "kernelspec": {
   "display_name": "Python 3 (Ubuntu Linux)",
   "language": "python",
   "name": "python3"
  },
  "language_info": {
   "codemirror_mode": {
    "name": "ipython",
    "version": 3
   },
   "file_extension": ".py",
   "mimetype": "text/x-python",
   "name": "python",
   "nbconvert_exporter": "python",
   "pygments_lexer": "ipython3",
   "version": "3.6.6"
  }
 },
 "nbformat": 4,
 "nbformat_minor": 0
}